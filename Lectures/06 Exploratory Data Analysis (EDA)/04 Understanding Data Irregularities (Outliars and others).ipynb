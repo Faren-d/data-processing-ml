{
 "cells": [
  {
   "cell_type": "markdown",
   "metadata": {},
   "source": [
    "<img src=\"./images/banner.png\" width=\"800\">"
   ]
  },
  {
   "cell_type": "markdown",
   "metadata": {},
   "source": [
    "# Understanding Data Irregularities: Outliers, Anomalies, Novelties, and Data Drift"
   ]
  },
  {
   "cell_type": "markdown",
   "metadata": {},
   "source": [
    "In the realm of data science and machine learning, understanding and managing data irregularities is crucial for building robust and reliable models. Data irregularities can significantly impact the performance and reliability of our analyses and predictive models. This lecture explores various types of data irregularities, their characteristics, and their implications for data-driven decision-making.\n"
   ]
  },
  {
   "cell_type": "markdown",
   "metadata": {},
   "source": [
    "Data irregularities refer to patterns, observations, or trends in data that deviate from the expected norm or the majority of the dataset. These irregularities can take various forms and occur for different reasons:\n",
    "\n",
    "1. **Outliers**: Extreme values that significantly differ from other observations.\n",
    "2. **Anomalies**: Rare instances or patterns that don't conform to expected behavior.\n",
    "3. **Novelties**: New or previously unseen patterns that emerge in the data.\n",
    "4. **Data Drift**: Gradual changes in the statistical properties of the target variable over time.\n"
   ]
  },
  {
   "cell_type": "markdown",
   "metadata": {},
   "source": [
    "<img src=\"./images/outliar.jpg\" width=\"600\">"
   ]
  },
  {
   "cell_type": "markdown",
   "metadata": {},
   "source": [
    "🔑 **Key Concept:** Data irregularities are not always errors; they can often provide valuable insights or indicate important events or changes in the underlying process generating the data.\n"
   ]
  },
  {
   "cell_type": "markdown",
   "metadata": {},
   "source": [
    "Understanding and properly handling data irregularities is essential for several reasons:\n",
    "\n",
    "1. **Model Performance**: Irregularities can significantly impact model training and performance.\n",
    "2. **Data Quality**: They may indicate data quality issues that need addressing.\n",
    "3. **Business Insights**: Irregularities often highlight important business events or trends.\n",
    "4. **Risk Management**: In fields like finance or security, irregularities can signal potential risks or fraudulent activities.\n"
   ]
  },
  {
   "cell_type": "markdown",
   "metadata": {},
   "source": [
    "Let's briefly introduce the main types of data irregularities we'll be exploring in this lecture:\n",
    "\n",
    "1. **Outliers**:\n",
    "   - Definition: Data points that fall far from the general distribution of the dataset.\n",
    "   - Example: In a dataset of house prices, a mansion priced at $10 million in an area where most houses cost $300,000-$500,000.\n",
    "\n",
    "2. **Anomalies**:\n",
    "   - Definition: Patterns or instances that are rare and significantly different from the majority.\n",
    "   - Example: A sudden spike in network traffic that could indicate a cyber attack.\n",
    "\n",
    "3. **Novelties**:\n",
    "   - Definition: New patterns or behaviors that weren't present in the original dataset.\n",
    "   - Example: A new type of customer behavior emerging after a product update.\n",
    "\n",
    "4. **Data Drift**:\n",
    "   - Definition: Gradual changes in the statistical properties of the target variable, which the model is trying to predict, over time.\n",
    "   - Example: Changing consumer preferences affecting sales patterns over seasons.\n"
   ]
  },
  {
   "cell_type": "markdown",
   "metadata": {},
   "source": [
    "💡 **Pro Tip:** When working with real-world datasets, always expect to encounter some form of data irregularity. Developing a systematic approach to identify and handle these irregularities is a crucial skill for any data scientist.\n"
   ]
  },
  {
   "cell_type": "markdown",
   "metadata": {},
   "source": [
    "Dealing with data irregularities presents several challenges:\n",
    "\n",
    "1. **Detection**: Identifying irregularities can be complex, especially in high-dimensional data.\n",
    "2. **Interpretation**: Understanding the cause and significance of irregularities requires domain knowledge.\n",
    "3. **Treatment**: Deciding how to handle irregularities (remove, transform, or keep) can significantly impact analysis.\n",
    "4. **Model Robustness**: Ensuring models perform well in the presence of irregularities is crucial for real-world applications.\n"
   ]
  },
  {
   "cell_type": "markdown",
   "metadata": {},
   "source": [
    "🤔 **Why This Matters:** In many real-world scenarios, data irregularities are not just noise to be eliminated but can contain valuable information. For instance, in fraud detection, the anomalies are precisely what we're looking for. Therefore, a nuanced understanding of different types of irregularities and their implications is essential for effective data analysis and model building.\n"
   ]
  },
  {
   "cell_type": "markdown",
   "metadata": {},
   "source": [
    "In the following sections, we'll delve deeper into each type of data irregularity, exploring their characteristics, detection methods, and strategies for handling them effectively."
   ]
  },
  {
   "cell_type": "markdown",
   "metadata": {},
   "source": [
    "**Table of contents**<a id='toc0_'></a>    \n",
    "- [Outliers: Definition, Types, and Detection](#toc1_)    \n",
    "  - [Types of Outliers](#toc1_1_)    \n",
    "  - [Detecting Outliers](#toc1_2_)    \n",
    "  - [Impact of Outliers](#toc1_3_)    \n",
    "  - [Handling Outliers](#toc1_4_)    \n",
    "- [Anomalies: Characteristics and Identification](#toc2_)    \n",
    "  - [Identifying Anomalies](#toc2_1_)    \n",
    "  - [Challenges in Anomaly Detection](#toc2_2_)    \n",
    "- [Novelties: Recognizing New Patterns](#toc3_)    \n",
    "  - [Novelties vs. Anomalies](#toc3_1_)    \n",
    "  - [Detecting Novelties](#toc3_2_)    \n",
    "  - [Challenges in Novelty Detection](#toc3_3_)    \n",
    "  - [Handling Novelties](#toc3_4_)    \n",
    "- [Data Drift: Monitoring and Adapting to Changes](#toc4_)    \n",
    "  - [Detecting Data Drift](#toc4_1_)    \n",
    "  - [Challenges in Managing Data Drift](#toc4_2_)    \n",
    "  - [Strategies for Adapting to Data Drift](#toc4_3_)    \n",
    "  - [Importance of Monitoring Data Drift](#toc4_4_)    \n",
    "- [Strategies for Handling Data Irregularities](#toc5_)    \n",
    "  - [Strategies for Handling Outliers](#toc5_1_)    \n",
    "  - [Strategies for Handling Anomalies](#toc5_2_)    \n",
    "  - [Strategies for Handling Novelties](#toc5_3_)    \n",
    "  - [Strategies for Handling Data Drift](#toc5_4_)    \n",
    "  - [Challenges and Considerations](#toc5_5_)    \n",
    "- [Summary](#toc6_)    \n",
    "\n",
    "<!-- vscode-jupyter-toc-config\n",
    "\tnumbering=false\n",
    "\tanchor=true\n",
    "\tflat=false\n",
    "\tminLevel=2\n",
    "\tmaxLevel=6\n",
    "\t/vscode-jupyter-toc-config -->\n",
    "<!-- THIS CELL WILL BE REPLACED ON TOC UPDATE. DO NOT WRITE YOUR TEXT IN THIS CELL -->"
   ]
  },
  {
   "cell_type": "markdown",
   "metadata": {},
   "source": [
    "## <a id='toc1_'></a>[Outliers: Definition, Types, and Detection](#toc0_)"
   ]
  },
  {
   "cell_type": "markdown",
   "metadata": {},
   "source": [
    "Outliers are one of the most common and impactful forms of data irregularities. Understanding how to identify and handle outliers is crucial for maintaining the integrity of your data analysis and machine learning models.\n"
   ]
  },
  {
   "cell_type": "code",
   "execution_count": 41,
   "metadata": {},
   "outputs": [],
   "source": [
    "import numpy as np\n",
    "import pandas as pd\n",
    "import matplotlib.pyplot as plt\n",
    "import seaborn as sns\n",
    "\n",
    "# Set random seed for reproducibility\n",
    "np.random.seed(42)\n",
    "\n",
    "# Generate sample data\n",
    "n = 500\n",
    "x = np.random.normal(0, 1, n)\n",
    "y = 2*x + np.random.normal(0, 1, n)\n",
    "\n",
    "# Add some outliers\n",
    "outliers_x = np.random.uniform(-5, 5, 20)\n",
    "outliers_y = np.random.uniform(-10, 10, 20)\n",
    "\n",
    "x = np.concatenate([x, outliers_x])\n",
    "y = np.concatenate([y, outliers_y])\n",
    "\n",
    "# Create a DataFrame\n",
    "df = pd.DataFrame({'x': x, 'y': y})\n",
    "\n",
    "# Calculate z-scores for both x and y\n",
    "z_scores = np.abs((df - df.mean()) / df.std())\n",
    "\n",
    "# Define outliers as points with z-score > 3\n",
    "outliers = (z_scores > 3).any(axis=1)"
   ]
  },
  {
   "cell_type": "code",
   "execution_count": 44,
   "metadata": {},
   "outputs": [
    {
     "data": {
      "image/png": "[encoded data removed]",
      "text/plain": [
       "<Figure size 600x400 with 1 Axes>"
      ]
     },
     "metadata": {},
     "output_type": "display_data"
    }
   ],
   "source": [
    "# Create the plot\n",
    "plt.figure(figsize=(6, 4))\n",
    "\n",
    "# Plot non-outlier points\n",
    "sns.scatterplot(data=df[~outliers], x='x', y='y', color='blue', alpha=0.2)\n",
    "\n",
    "# Plot outlier points in red\n",
    "sns.scatterplot(data=df[outliers], x='x', y='y', color='red', alpha=1, s=100)\n",
    "\n",
    "plt.title('Scatterplot with Outliers Highlighted', fontsize=16)\n",
    "plt.xlabel('X', fontsize=12)\n",
    "plt.ylabel('Y', fontsize=12)\n",
    "plt.legend(['Normal', 'Outliers'])\n",
    "\n",
    "plt.tight_layout()"
   ]
  },
  {
   "cell_type": "markdown",
   "metadata": {},
   "source": [
    "Outliers are data points that significantly differ from other observations in a dataset. They can be thought of as observations that fall far from the general distribution of the data.\n"
   ]
  },
  {
   "cell_type": "markdown",
   "metadata": {},
   "source": [
    "🔑 **Key Concept:** An outlier is an observation that lies an abnormal distance from other values in a random sample from a population.\n"
   ]
  },
  {
   "cell_type": "markdown",
   "metadata": {},
   "source": [
    "Mathematically, a common definition for outliers is:\n",
    "\n",
    "$|x - \\mu| > 3\\sigma$\n",
    "\n",
    "Where:\n",
    "- $x$ is the data point\n",
    "- $\\mu$ is the mean of the distribution\n",
    "- $\\sigma$ is the standard deviation\n"
   ]
  },
  {
   "cell_type": "markdown",
   "metadata": {},
   "source": [
    "### <a id='toc1_1_'></a>[Types of Outliers](#toc0_)\n"
   ]
  },
  {
   "cell_type": "markdown",
   "metadata": {},
   "source": [
    "Outliers can be categorized into several types based on their nature and origin:\n"
   ]
  },
  {
   "cell_type": "markdown",
   "metadata": {},
   "source": [
    "1. **Univariate Outliers**: \n",
    "   - Occur in a single variable/feature.\n",
    "   - Example: In a dataset of human heights, a record showing 3 meters would be a univariate outlier.\n",
    "\n",
    "2. **Multivariate Outliers**: \n",
    "   - Occur in the n-dimensional space created by multiple variables.\n",
    "   - Example: A combination of age and income that's highly unusual, even if each value isn't an outlier on its own.\n",
    "\n",
    "3. **Point Outliers**: \n",
    "   - Individual data instances that are far from the rest.\n",
    "   - Example: A single transaction of $1,000,000 in a dataset where most transactions are under $1,000.\n",
    "\n",
    "4. **Contextual Outliers**: \n",
    "   - Data points that are outliers in a specific context but not otherwise.\n",
    "   - Example: 30°C might be normal in summer but an outlier in winter temperature data.\n"
   ]
  },
  {
   "cell_type": "markdown",
   "metadata": {},
   "source": [
    "### <a id='toc1_2_'></a>[Detecting Outliers](#toc0_)\n"
   ]
  },
  {
   "cell_type": "markdown",
   "metadata": {},
   "source": [
    "Several methods can be employed to detect outliers:\n",
    "\n",
    "1. **Statistical Methods**:\n",
    "   - Z-score: Measures how many standard deviations away a data point is from the mean.\n",
    "   - IQR (Interquartile Range) Method: Identifies outliers as points below Q1 - 1.5*IQR or above Q3 + 1.5*IQR.\n",
    "\n",
    "2. **Visualization Techniques**:\n",
    "   - Box Plots: Graphically depict groups of numerical data through their quartiles.\n",
    "   - Scatter Plots: Useful for identifying outliers in two-dimensional data.\n",
    "\n",
    "3. **Machine Learning Methods**:\n",
    "   - Isolation Forest: Isolates anomalies instead of profiling normal points.\n",
    "   - Local Outlier Factor (LOF): Compares the local density of a point to its neighbors.\n"
   ]
  },
  {
   "cell_type": "markdown",
   "metadata": {},
   "source": [
    "Let's look at a simple example using the Z-score method:\n"
   ]
  },
  {
   "cell_type": "code",
   "execution_count": 20,
   "metadata": {},
   "outputs": [
    {
     "name": "stdout",
     "output_type": "stream",
     "text": [
      "Outliers found at indices: [10]\n",
      "Outliers found at values: [1000]\n"
     ]
    }
   ],
   "source": [
    "import numpy as np\n",
    "from scipy import stats\n",
    "\n",
    "\n",
    "def detect_outliers(data, threshold=3):\n",
    "    z_scores = np.abs(stats.zscore(data))\n",
    "    return np.where(z_scores > threshold)[0]\n",
    "\n",
    "\n",
    "# Example usage\n",
    "data = [1, 2, 3, 4, 5, 6, 7, 8, 9, 10, 1000]\n",
    "outliers = detect_outliers(data)\n",
    "print(f\"Outliers found at indices: {outliers}\")\n",
    "print(f\"Outliers found at values: {np.array(data)[outliers]}\")"
   ]
  },
  {
   "cell_type": "markdown",
   "metadata": {},
   "source": [
    "💡 **Pro Tip:** Always visualize your data before and after outlier detection. This can provide insights into the nature of the outliers and help validate your detection method.\n"
   ]
  },
  {
   "cell_type": "markdown",
   "metadata": {},
   "source": [
    "The Local Outlier Factor (LOF) is a more sophisticated method for detecting outliers, particularly effective for identifying local outliers in datasets with varying densities. LOF measures the local deviation of density of a given sample with respect to its neighbors. Points that have a substantially lower density than their neighbors are considered outliers."
   ]
  },
  {
   "cell_type": "code",
   "execution_count": 23,
   "metadata": {},
   "outputs": [
    {
     "data": {
      "image/png": "[encoded data removed]",
      "text/plain": [
       "<Figure size 800x600 with 2 Axes>"
      ]
     },
     "metadata": {},
     "output_type": "display_data"
    },
    {
     "name": "stdout",
     "output_type": "stream",
     "text": [
      "Number of outliers detected: 30\n"
     ]
    }
   ],
   "source": [
    "import numpy as np\n",
    "import matplotlib.pyplot as plt\n",
    "from sklearn.neighbors import LocalOutlierFactor\n",
    "from sklearn.datasets import make_blobs\n",
    "\n",
    "# Generate sample data\n",
    "n_samples = 300\n",
    "n_outliers = 15\n",
    "n_features = 2\n",
    "\n",
    "X, _ = make_blobs(\n",
    "    n_samples=n_samples - n_outliers, centers=3, n_features=n_features, random_state=42\n",
    ")\n",
    "\n",
    "# Generate outliers\n",
    "rng = np.random.RandomState(42)\n",
    "X = np.concatenate(\n",
    "    [X, rng.uniform(low=-6, high=6, size=(n_outliers, n_features))], axis=0\n",
    ")\n",
    "\n",
    "# Fit the LOF model\n",
    "clf = LocalOutlierFactor(n_neighbors=20, contamination=0.1)\n",
    "y_pred = clf.fit_predict(X)\n",
    "y_pred_outliers = y_pred != 1\n",
    "\n",
    "# Calculate LOF scores\n",
    "lof_scores = -clf.negative_outlier_factor_\n",
    "\n",
    "# Plot the results\n",
    "plt.figure(figsize=(8, 6))\n",
    "scatter = plt.scatter(X[:, 0], X[:, 1], c=lof_scores, cmap=\"viridis\")\n",
    "plt.colorbar(scatter)\n",
    "plt.title(\"Local Outlier Factor (LOF)\")\n",
    "plt.xlabel(\"Feature 1\")\n",
    "plt.ylabel(\"Feature 2\")\n",
    "\n",
    "# Highlight the outliers\n",
    "plt.scatter(\n",
    "    X[y_pred_outliers, 0], X[y_pred_outliers, 1], color=\"red\", s=100, label=\"Outliers\"\n",
    ")\n",
    "plt.legend()\n",
    "plt.show()\n",
    "\n",
    "# Print number of outliers detected\n",
    "print(f\"Number of outliers detected: {np.sum(y_pred_outliers)}\")"
   ]
  },
  {
   "cell_type": "markdown",
   "metadata": {},
   "source": [
    "The Local Outlier Factor (LOF) is another algorithm used for anomaly detection, but it works differently from the Isolation Forest. LOF is based on the concept of local density, where outliers are data points that have a substantially lower density than their neighbors. Here's how it works:\n",
    "\n",
    "1. Neighborhood Definition:\n",
    "   For each data point, the algorithm identifies its k-nearest neighbors (k is a parameter you choose).\n",
    "\n",
    "2. Local Density Calculation:\n",
    "   The algorithm calculates the local density for each point. This is done by measuring how far the point is from its neighbors.\n",
    "\n",
    "3. LOF Score:\n",
    "   The LOF score for a point is calculated by comparing its density to the densities of its neighbors. \n",
    "\n",
    "4. Outlier Identification:\n",
    "   Points with high LOF scores (typically above 1) are considered potential outliers."
   ]
  },
  {
   "cell_type": "markdown",
   "metadata": {},
   "source": [
    "\n",
    "This code does the following:\n",
    "\n",
    "1. Generates a sample dataset with three clusters and adds some random outliers.\n",
    "2. Applies the LOF algorithm to detect outliers.\n",
    "3. Visualizes the results, with points colored according to their LOF score and detected outliers highlighted in red.\n",
    "\n",
    "💡 **Pro Tip:** The `contamination` parameter in LOF represents the expected proportion of outliers in the dataset. Adjust this based on your domain knowledge or try different values to see how it affects the results."
   ]
  },
  {
   "cell_type": "markdown",
   "metadata": {},
   "source": [
    "### <a id='toc1_3_'></a>[Impact of Outliers](#toc0_)\n"
   ]
  },
  {
   "cell_type": "markdown",
   "metadata": {},
   "source": [
    "Outliers can significantly impact data analysis and machine learning models:\n",
    "\n",
    "1. **Statistical Measures**: Outliers can skew measures like mean and standard deviation.\n",
    "2. **Model Performance**: They can lead to poor model fit, especially in regression models.\n",
    "3. **Data Transformations**: Outliers may necessitate data transformations like log transformation.\n",
    "4. **Feature Importance**: They can artificially inflate or deflate the importance of certain features.\n"
   ]
  },
  {
   "cell_type": "markdown",
   "metadata": {},
   "source": [
    "❗️ **Important Note:** Not all outliers are errors or noise. In some cases, outliers can be the most interesting part of the data, potentially indicating fraud, rare events, or new trends.\n"
   ]
  },
  {
   "cell_type": "markdown",
   "metadata": {},
   "source": [
    "### <a id='toc1_4_'></a>[Handling Outliers](#toc0_)\n"
   ]
  },
  {
   "cell_type": "markdown",
   "metadata": {},
   "source": [
    "The approach to handling outliers depends on the nature of the data and the goals of the analysis:\n",
    "\n",
    "1. **Remove**: If the outlier is due to an error, it may be appropriate to remove it.\n",
    "2. **Transform**: Apply transformations like log or Box-Cox to reduce the impact of extreme values.\n",
    "3. **Treat Separately**: Analyze outliers separately if they represent important rare events.\n",
    "4. **Use Robust Methods**: Employ statistical methods that are less sensitive to outliers, like median instead of mean.\n"
   ]
  },
  {
   "cell_type": "markdown",
   "metadata": {},
   "source": [
    "🤔 **Why This Matters:** Proper handling of outliers is crucial for building reliable models. Ignoring outliers can lead to models that perform poorly on new data, while over-zealous removal of outliers might eliminate important information from your dataset.\n"
   ]
  },
  {
   "cell_type": "markdown",
   "metadata": {},
   "source": [
    "In the next sections, we'll explore other types of data irregularities and how they differ from simple outliers in their characteristics and treatment."
   ]
  },
  {
   "cell_type": "markdown",
   "metadata": {},
   "source": [
    "## <a id='toc2_'></a>[Anomalies: Characteristics and Identification](#toc0_)"
   ]
  },
  {
   "cell_type": "markdown",
   "metadata": {},
   "source": [
    "Anomalies, also known as anomalous data points or events, represent patterns in data that do not conform to expected behavior. While often used interchangeably with outliers, anomalies have distinct characteristics and require specific approaches for identification and handling.\n"
   ]
  },
  {
   "cell_type": "markdown",
   "metadata": {},
   "source": [
    "Anomalies are data points or patterns that deviate significantly from the norm or expected behavior in a dataset. Unlike outliers, which are often individual extreme values, anomalies can be more complex patterns or sequences of data.\n"
   ]
  },
  {
   "cell_type": "markdown",
   "metadata": {},
   "source": [
    "<img src=\"./images/anomaly-vs-outlier.png\" width=\"800\">"
   ]
  },
  {
   "cell_type": "markdown",
   "metadata": {},
   "source": [
    "🔑 **Key Concept:** Anomalies are not just extreme values but unexpected patterns that may indicate important events, errors, or opportunities in the data.\n"
   ]
  },
  {
   "cell_type": "markdown",
   "metadata": {},
   "source": [
    "Here are some key characteristics of anomalies:\n",
    "1. **Rarity**: Anomalies are, by definition, rare occurrences in the dataset.\n",
    "2. **Unexpectedness**: They deviate significantly from the expected pattern or behavior.\n",
    "3. **Actionability**: Often, anomalies provide valuable insights or require immediate action.\n",
    "4. **Contextual Nature**: What constitutes an anomaly can depend on the context or domain.\n"
   ]
  },
  {
   "cell_type": "markdown",
   "metadata": {},
   "source": [
    "Anomalies can be categorized into several types:\n",
    "1. **Point Anomalies**: \n",
    "   - Individual data instances that are anomalous compared to the rest of the data.\n",
    "   - Example: A sudden spike in CPU usage on a server.\n",
    "\n",
    "2. **Contextual Anomalies**: \n",
    "   - Data instances that are anomalous in a specific context but not otherwise.\n",
    "   - Example: A high temperature reading that's normal for summer but anomalous for winter.\n",
    "\n",
    "3. **Collective Anomalies**: \n",
    "   - A collection of related data instances that is anomalous with respect to the entire dataset.\n",
    "   - Example: A sequence of actions in a computer network that, when viewed together, indicate a cyber attack.\n"
   ]
  },
  {
   "cell_type": "markdown",
   "metadata": {},
   "source": [
    "### <a id='toc2_1_'></a>[Identifying Anomalies](#toc0_)\n"
   ]
  },
  {
   "cell_type": "markdown",
   "metadata": {},
   "source": [
    "Detecting anomalies often requires more sophisticated techniques than those used for simple outlier detection. Here are some common methods:\n",
    "\n",
    "1. **Statistical Methods**:\n",
    "   - Extreme Value Analysis: Identifies data points that deviate from the statistical distribution of the dataset.\n",
    "   - Regression Model Residuals: Analyzes the residuals from a regression model to identify anomalous points.\n",
    "\n",
    "2. **Machine Learning Techniques**:\n",
    "   - Clustering-based Methods: Identify data points that don't belong to any cluster or form very small clusters.\n",
    "   - Isolation Forest: Isolates anomalies by randomly selecting a feature and then randomly selecting a split value between the maximum and minimum values of that feature.\n",
    "   - One-Class SVM: Learns a decision boundary to classify new data as similar or different to the training set.\n",
    "\n",
    "3. **Time Series Specific Methods**:\n",
    "   - Moving Average: Detects anomalies by comparing each point to a moving average.\n",
    "   - Seasonal Decomposition: Breaks down time series into trend, seasonality, and residuals to identify anomalies.\n"
   ]
  },
  {
   "cell_type": "markdown",
   "metadata": {},
   "source": [
    "Let's look at a simple example using the Isolation Forest algorithm:\n"
   ]
  },
  {
   "cell_type": "code",
   "execution_count": 4,
   "metadata": {},
   "outputs": [
    {
     "data": {
      "image/png": "[encoded data removed]",
      "text/plain": [
       "<Figure size 600x400 with 1 Axes>"
      ]
     },
     "metadata": {},
     "output_type": "display_data"
    },
    {
     "name": "stdout",
     "output_type": "stream",
     "text": [
      "Total samples: 300\n",
      "Number of normal points: 285\n",
      "Number of anomalies detected: 15\n"
     ]
    }
   ],
   "source": [
    "import numpy as np\n",
    "import pandas as pd\n",
    "import matplotlib.pyplot as plt\n",
    "import seaborn as sns\n",
    "from sklearn.ensemble import IsolationForest\n",
    "\n",
    "# Set the style for seaborn\n",
    "sns.set_style(\"whitegrid\")\n",
    "\n",
    "# Generate synthetic data\n",
    "np.random.seed(42)\n",
    "n_samples = 300\n",
    "n_outliers = 15\n",
    "n_inliers = n_samples - n_outliers\n",
    "\n",
    "# Generate normal data\n",
    "X = np.random.randn(n_inliers, 2)\n",
    "\n",
    "# Generate outliers\n",
    "X_outliers = np.random.uniform(low=-4, high=4, size=(n_outliers, 2))\n",
    "\n",
    "# Combine normal data and outliers\n",
    "X = np.r_[X, X_outliers]\n",
    "\n",
    "# Create a DataFrame\n",
    "df = pd.DataFrame(X, columns=[\"Feature 1\", \"Feature 2\"])\n",
    "\n",
    "# Detect anomalies using Isolation Forest\n",
    "clf = IsolationForest(contamination=float(n_outliers) / n_samples, random_state=42)\n",
    "y_pred = clf.fit_predict(X)\n",
    "\n",
    "# Add predictions to the DataFrame\n",
    "df[\"Anomaly\"] = y_pred\n",
    "df[\"Anomaly\"] = df[\"Anomaly\"].map({1: \"Normal\", -1: \"Anomaly\"})\n",
    "\n",
    "# Create the plot\n",
    "plt.figure(figsize=(6, 4))\n",
    "\n",
    "# Use Seaborn's scatterplot\n",
    "sns.scatterplot(\n",
    "    data=df,\n",
    "    x=\"Feature 1\",\n",
    "    y=\"Feature 2\",\n",
    "    hue=\"Anomaly\",\n",
    "    palette={\"Normal\": \"blue\", \"Anomaly\": \"red\"},\n",
    "    style=\"Anomaly\",\n",
    "    s=25,\n",
    "    alpha=0.7,\n",
    ")\n",
    "\n",
    "# Customize the plot\n",
    "plt.title(\"Anomaly Detection Visualization\", fontsize=16)\n",
    "plt.xlabel(\"Feature 1\", fontsize=12)\n",
    "plt.ylabel(\"Feature 2\", fontsize=12)\n",
    "plt.legend(title=\"\", loc=\"upper right\", fontsize=10)\n",
    "\n",
    "# Add a text box with summary statistics\n",
    "normal_count = df[\"Anomaly\"].value_counts()[\"Normal\"]\n",
    "anomaly_count = df[\"Anomaly\"].value_counts()[\"Anomaly\"]\n",
    "stats_text = (\n",
    "    f\"Total samples: {n_samples}\\nNormal: {normal_count}\\nAnomalies: {anomaly_count}\"\n",
    ")\n",
    "plt.text(\n",
    "    0.02,\n",
    "    0.98,\n",
    "    stats_text,\n",
    "    transform=plt.gca().transAxes,\n",
    "    verticalalignment=\"top\",\n",
    "    bbox=dict(boxstyle=\"round\", facecolor=\"white\", alpha=0.8),\n",
    ")\n",
    "\n",
    "# Show the plot\n",
    "plt.tight_layout()\n",
    "plt.show()\n",
    "\n",
    "# Print summary\n",
    "print(f\"Total samples: {n_samples}\")\n",
    "print(f\"Number of normal points: {normal_count}\")\n",
    "print(f\"Number of anomalies detected: {anomaly_count}\")"
   ]
  },
  {
   "cell_type": "markdown",
   "metadata": {},
   "source": [
    "The Isolation Forest algorithm is a machine learning technique used for anomaly detection. It's based on the idea that anomalies, or unusual data points, are rare and different from normal data points. Here's how it works:\n",
    "\n",
    "1. Forest Creation:\n",
    "   Imagine you have a forest of decision trees. Each tree is created differently and randomly.\n",
    "\n",
    "2. Isolating Data Points:\n",
    "   For each data point, the algorithm tries to \"isolate\" it by randomly selecting a feature and a split value. It keeps doing this until the data point is completely isolated.\n",
    "\n",
    "3. Path Length:\n",
    "   The algorithm measures how many splits (or steps) it takes to isolate each data point. This is called the \"path length.\"\n",
    "\n",
    "4. Anomaly Score:\n",
    "   Data points that are isolated quickly (with shorter path lengths) are more likely to be anomalies. Those that take longer to isolate are probably normal.\n",
    "\n",
    "5. Average Across Trees:\n",
    "   This process is repeated across multiple trees, and the average path length for each data point is calculated.\n",
    "\n",
    "6. Final Decision:\n",
    "   Data points with consistently short path lengths across many trees are flagged as anomalies."
   ]
  },
  {
   "cell_type": "markdown",
   "metadata": {},
   "source": [
    "The key idea is that anomalies are easier to isolate because they have unusual values in one or more features. Normal data points, being more numerous and similar to each other, typically require more splits to isolate.\n"
   ]
  },
  {
   "cell_type": "markdown",
   "metadata": {},
   "source": [
    "An analogy might help: Imagine you're playing a game of \"Guess Who?\" with a twist. Instead of asking specific questions, you randomly flip down character cards. Unusual characters (anomalies) will be identified quickly because they'll be the last ones standing after just a few random flips. Common characters (normal data) will take many more random flips to identify.\n"
   ]
  },
  {
   "cell_type": "markdown",
   "metadata": {},
   "source": [
    "This approach is particularly effective because:\n",
    "- It's fast and scalable to large datasets.\n",
    "- It works well with high-dimensional data.\n",
    "- It doesn't make assumptions about the distribution of the data.\n",
    "- It's not heavily influenced by irrelevant features."
   ]
  },
  {
   "cell_type": "markdown",
   "metadata": {},
   "source": [
    "💡 **Pro Tip:** When dealing with time series data, consider using specialized anomaly detection techniques that can account for temporal dependencies and seasonal patterns.\n"
   ]
  },
  {
   "cell_type": "markdown",
   "metadata": {},
   "source": [
    "### <a id='toc2_2_'></a>[Challenges in Anomaly Detection](#toc0_)\n"
   ]
  },
  {
   "cell_type": "markdown",
   "metadata": {},
   "source": [
    "Anomaly detection, while powerful, comes with its own set of challenges. These challenges can significantly impact the effectiveness and reliability of anomaly detection methods. Understanding these challenges is crucial for data scientists and analysts to develop robust and accurate anomaly detection systems. Some of the key challenges include:\n",
    "\n",
    "1. **High Dimensionality**: As the number of features increases, it becomes harder to distinguish anomalies from normal data points.\n",
    "2. **Defining Normal Behavior**: In many real-world scenarios, defining what constitutes \"normal\" behavior can be challenging.\n",
    "3. **Evolving Data**: In dynamic environments, what is considered anomalous may change over time.\n",
    "4. **Rare Events**: Some anomalies are so rare that there may not be enough examples to train traditional supervised learning models.\n"
   ]
  },
  {
   "cell_type": "markdown",
   "metadata": {},
   "source": [
    "Anomaly detection plays a crucial role in various domains:\n",
    "1. **Fraud Detection**: Identifying unusual patterns in financial transactions.\n",
    "2. **Network Security**: Detecting potential cyber attacks or intrusions.\n",
    "3. **Healthcare**: Identifying unusual patient symptoms or test results.\n",
    "4. **Manufacturing**: Detecting faults in production processes or product quality issues.\n"
   ]
  },
  {
   "cell_type": "markdown",
   "metadata": {},
   "source": [
    "🤔 **Why This Matters:** Effective anomaly detection can lead to early identification of problems, opportunities, or critical events in various systems. It's not just about finding \"weird\" data points; it's about uncovering insights that can drive decision-making and action.\n"
   ]
  },
  {
   "cell_type": "markdown",
   "metadata": {},
   "source": [
    "❗️ **Important Note:** The choice of anomaly detection method should be guided by the nature of your data, the specific problem you're trying to solve, and the computational resources available.\n"
   ]
  },
  {
   "cell_type": "markdown",
   "metadata": {},
   "source": [
    "In the next section, we'll explore novelties, which represent a different kind of data irregularity that focuses on new or previously unseen patterns in the data."
   ]
  },
  {
   "cell_type": "markdown",
   "metadata": {},
   "source": [
    "## <a id='toc3_'></a>[Novelties: Recognizing New Patterns](#toc0_)"
   ]
  },
  {
   "cell_type": "markdown",
   "metadata": {},
   "source": [
    "Novelties represent a unique category of data irregularities that focus on identifying new or previously unseen patterns in data. Unlike outliers or anomalies, which are often viewed as deviations from the norm, novelties can signify emerging trends or evolving behaviors in a system.\n"
   ]
  },
  {
   "cell_type": "markdown",
   "metadata": {},
   "source": [
    "Novelties are data patterns or instances that have not been previously observed or accounted for in the existing model or dataset. They represent new, emerging behaviors or characteristics that may become more common over time.\n"
   ]
  },
  {
   "cell_type": "markdown",
   "metadata": {},
   "source": [
    "<img src=\"./images/novelty.png\" width=\"1000\">"
   ]
  },
  {
   "cell_type": "markdown",
   "metadata": {},
   "source": [
    "🔑 **Key Concept:** Novelties are not necessarily errors or anomalies, but rather new patterns that the current model or system hasn't encountered before.\n"
   ]
  },
  {
   "cell_type": "markdown",
   "metadata": {},
   "source": [
    "Here are some key characteristics of novelties:\n",
    "1. **Newness**: Novelties represent patterns that haven't been seen in the training data.\n",
    "2. **Potential for Recurrence**: Unlike anomalies, novelties may become more frequent over time.\n",
    "3. **Informative Nature**: Novelties often provide valuable insights about evolving trends or behaviors.\n",
    "4. **Domain Dependence**: What constitutes a novelty can vary significantly based on the specific domain or application.\n"
   ]
  },
  {
   "cell_type": "markdown",
   "metadata": {},
   "source": [
    "### <a id='toc3_1_'></a>[Novelties vs. Anomalies](#toc0_)\n"
   ]
  },
  {
   "cell_type": "markdown",
   "metadata": {},
   "source": [
    "It's important to distinguish novelties from anomalies:\n",
    "\n",
    "| Aspect | Novelties | Anomalies |\n",
    "|--------|-----------|-----------|\n",
    "| Nature | New patterns | Deviations from expected patterns |\n",
    "| Frequency | May increase over time | Generally remain rare |\n",
    "| Implication | Often indicate evolving trends | Often indicate errors or issues |\n",
    "| Treatment | May need model updates | May need investigation or removal |\n"
   ]
  },
  {
   "cell_type": "markdown",
   "metadata": {},
   "source": [
    "### <a id='toc3_2_'></a>[Detecting Novelties](#toc0_)\n"
   ]
  },
  {
   "cell_type": "markdown",
   "metadata": {},
   "source": [
    "Detecting novelties often involves techniques that can identify new patterns or clusters in data. Some common approaches include:\n",
    "\n",
    "1. **One-Class Classification**:\n",
    "   - Trains on \"normal\" data and identifies instances that don't fit this pattern.\n",
    "   - Example: One-Class SVM\n",
    "\n",
    "2. **Clustering Techniques**:\n",
    "   - Identify new clusters or data points that don't fit into existing clusters.\n",
    "   - Example: DBSCAN (Density-Based Spatial Clustering of Applications with Noise)\n",
    "\n",
    "3. **Adaptive Learning Methods**:\n",
    "   - Continuously update the model to recognize new patterns.\n",
    "   - Example: Online learning algorithms\n",
    "\n",
    "4. **Dimensionality Reduction**:\n",
    "   - Visualize high-dimensional data to spot new patterns.\n",
    "   - Example: t-SNE (t-Distributed Stochastic Neighbor Embedding)\n"
   ]
  },
  {
   "cell_type": "markdown",
   "metadata": {},
   "source": [
    "Let's look at a simple example using One-Class SVM for novelty detection:\n"
   ]
  },
  {
   "cell_type": "code",
   "execution_count": 33,
   "metadata": {},
   "outputs": [
    {
     "name": "stderr",
     "output_type": "stream",
     "text": [
      "/Users/hejazizo/miniconda3/envs/py310/lib/python3.10/site-packages/sklearn/base.py:493: UserWarning: X does not have valid feature names, but StandardScaler was fitted with feature names\n",
      "  warnings.warn(\n"
     ]
    },
    {
     "data": {
      "image/png": "[encoded data removed]",
      "text/plain": [
       "<Figure size 600x400 with 1 Axes>"
      ]
     },
     "metadata": {},
     "output_type": "display_data"
    },
    {
     "name": "stdout",
     "output_type": "stream",
     "text": [
      "Total samples in test set: 90\n",
      "Number of normal points detected: 60\n",
      "Number of novel points detected: 30\n"
     ]
    }
   ],
   "source": [
    "import numpy as np\n",
    "import pandas as pd\n",
    "import matplotlib.pyplot as plt\n",
    "import seaborn as sns\n",
    "from sklearn.svm import OneClassSVM\n",
    "from sklearn.model_selection import train_test_split\n",
    "from sklearn.preprocessing import StandardScaler\n",
    "\n",
    "# Set random seed for reproducibility\n",
    "np.random.seed(42)\n",
    "\n",
    "# Set the style for seaborn\n",
    "sns.set_style(\"whitegrid\")\n",
    "\n",
    "# Generate synthetic data\n",
    "n_samples = 300\n",
    "n_features = 2\n",
    "\n",
    "# Generate normal data\n",
    "X_normal = np.random.randn(n_samples, n_features)\n",
    "\n",
    "# Create a DataFrame\n",
    "df_normal = pd.DataFrame(X_normal, columns=[\"Feature 1\", \"Feature 2\"])\n",
    "\n",
    "# Split data into training and testing sets\n",
    "X_train, X_test = train_test_split(df_normal, test_size=0.2, random_state=42)\n",
    "\n",
    "# Standardize the features\n",
    "scaler = StandardScaler()\n",
    "X_train_scaled = scaler.fit_transform(X_train)\n",
    "X_test_scaled = scaler.transform(X_test)\n",
    "\n",
    "# Train One-Class SVM\n",
    "svm = OneClassSVM(kernel=\"rbf\", nu=0.1)\n",
    "svm.fit(X_train_scaled)\n",
    "\n",
    "# Generate some novel data\n",
    "n_novel = 30\n",
    "X_novel = np.random.uniform(low=-4, high=4, size=(n_novel, n_features))\n",
    "X_novel_scaled = scaler.transform(X_novel)\n",
    "\n",
    "# Combine test and novel data\n",
    "X_combined = np.vstack((X_test_scaled, X_novel_scaled))\n",
    "\n",
    "# Predict on combined data\n",
    "y_pred = svm.predict(X_combined)\n",
    "\n",
    "# Create a DataFrame with combined data and predictions\n",
    "df_combined = pd.DataFrame(\n",
    "    scaler.inverse_transform(X_combined), columns=[\"Feature 1\", \"Feature 2\"]\n",
    ")\n",
    "df_combined[\"Type\"] = [\"Normal\" if pred == 1 else \"Novel\" for pred in y_pred]\n",
    "\n",
    "# Visualize the results\n",
    "plt.figure(figsize=(6, 4))\n",
    "\n",
    "# Plot training data\n",
    "sns.scatterplot(\n",
    "    data=X_train,\n",
    "    x=\"Feature 1\",\n",
    "    y=\"Feature 2\",\n",
    "    color=\"blue\",\n",
    "    alpha=0.5,\n",
    "    label=\"Training Data\",\n",
    ")\n",
    "\n",
    "# Plot test and novel data\n",
    "sns.scatterplot(\n",
    "    data=df_combined,\n",
    "    x=\"Feature 1\",\n",
    "    y=\"Feature 2\",\n",
    "    hue=\"Type\",\n",
    "    palette={\"Normal\": \"green\", \"Novel\": \"red\"},\n",
    "    style=\"Type\",\n",
    "    s=25,\n",
    "    alpha=0.7,\n",
    ")\n",
    "\n",
    "# Customize the plot\n",
    "plt.title(\"Novelty Detection Visualization\", fontsize=16)\n",
    "plt.xlabel(\"Feature 1\", fontsize=12)\n",
    "plt.ylabel(\"Feature 2\", fontsize=12)\n",
    "plt.legend(title=\"\", loc=\"upper right\", fontsize=10)\n",
    "\n",
    "# Add a text box with summary statistics\n",
    "normal_count = df_combined[\"Type\"].value_counts().get(\"Normal\", 0)\n",
    "novel_count = df_combined[\"Type\"].value_counts().get(\"Novel\", 0)\n",
    "stats_text = (\n",
    "    f\"Total samples: {len(df_combined)}\\nNormal: {normal_count}\\nNovel: {novel_count}\"\n",
    ")\n",
    "plt.text(\n",
    "    0.02,\n",
    "    0.98,\n",
    "    stats_text,\n",
    "    transform=plt.gca().transAxes,\n",
    "    verticalalignment=\"top\",\n",
    "    bbox=dict(boxstyle=\"round\", facecolor=\"white\", alpha=0.8),\n",
    ")\n",
    "\n",
    "# Show the plot\n",
    "plt.tight_layout()\n",
    "plt.show()\n",
    "\n",
    "# Print summary\n",
    "print(f\"Total samples in test set: {len(X_test) + n_novel}\")\n",
    "print(f\"Number of normal points detected: {normal_count}\")\n",
    "print(f\"Number of novel points detected: {novel_count}\")"
   ]
  },
  {
   "cell_type": "markdown",
   "metadata": {},
   "source": [
    "💡 **Pro Tip:** When dealing with high-dimensional data, consider using dimensionality reduction techniques before applying novelty detection algorithms to improve performance and interpretability.\n"
   ]
  },
  {
   "cell_type": "markdown",
   "metadata": {},
   "source": [
    "### <a id='toc3_3_'></a>[Challenges in Novelty Detection](#toc0_)\n"
   ]
  },
  {
   "cell_type": "markdown",
   "metadata": {},
   "source": [
    "While novelty detection is a powerful tool for identifying new patterns in data, it comes with its own set of challenges. These challenges can impact the effectiveness and reliability of novelty detection algorithms. Understanding these challenges is crucial for data scientists and analysts to implement robust novelty detection systems. Let's explore some of the key challenges faced in novelty detection:\n",
    "\n",
    "1. **Distinguishing from Noise**: Differentiating between genuine new patterns and random noise can be challenging.\n",
    "2. **Concept Drift**: The underlying distribution of the data may change over time, making it difficult to distinguish between novelties and evolving normal patterns.\n",
    "3. **Lack of Labels**: Novelty detection often deals with unlabeled data, making it hard to validate the results.\n",
    "4. **Computational Complexity**: Some novelty detection algorithms can be computationally expensive, especially for high-dimensional or streaming data.\n"
   ]
  },
  {
   "cell_type": "markdown",
   "metadata": {},
   "source": [
    "Novelty detection has various real-world applications:\n",
    "\n",
    "1. **Recommender Systems**: Identifying new user preferences or emerging product trends.\n",
    "2. **Industrial Monitoring**: Detecting new types of faults or performance patterns in machinery.\n",
    "3. **Healthcare**: Recognizing new symptoms or disease patterns.\n",
    "4. **Financial Markets**: Identifying new trading patterns or market behaviors.\n"
   ]
  },
  {
   "cell_type": "markdown",
   "metadata": {},
   "source": [
    "🤔 **Why This Matters:** Effective novelty detection allows systems to adapt to changing environments and identify emerging opportunities or risks. It's crucial for maintaining the relevance and effectiveness of models in dynamic real-world scenarios.\n"
   ]
  },
  {
   "cell_type": "markdown",
   "metadata": {},
   "source": [
    "### <a id='toc3_4_'></a>[Handling Novelties](#toc0_)\n"
   ]
  },
  {
   "cell_type": "markdown",
   "metadata": {},
   "source": [
    "When novelties are detected, there are several potential courses of action:\n",
    "\n",
    "1. **Model Update**: Incorporate the new patterns into the existing model through retraining or online learning.\n",
    "2. **Create New Categories**: If the novelties represent a significant new class, create a new category in the model.\n",
    "3. **Further Investigation**: Analyze the novelties to understand their cause and implications.\n",
    "4. **Monitoring**: Keep track of the frequency and nature of novelties to identify emerging trends.\n"
   ]
  },
  {
   "cell_type": "markdown",
   "metadata": {},
   "source": [
    "❗️ **Important Note:** The approach to handling novelties should be aligned with the specific goals of your system. In some cases, you may want to quickly adapt to new patterns, while in others, you might need a more cautious approach with human verification.\n"
   ]
  },
  {
   "cell_type": "markdown",
   "metadata": {},
   "source": [
    "In the next section, we'll explore the concept of data drift, which represents gradual changes in the statistical properties of the target variable over time, and how it relates to the other types of data irregularities we've discussed."
   ]
  },
  {
   "cell_type": "markdown",
   "metadata": {},
   "source": [
    "## <a id='toc4_'></a>[Data Drift: Monitoring and Adapting to Changes](#toc0_)"
   ]
  },
  {
   "cell_type": "markdown",
   "metadata": {},
   "source": [
    "Data drift represents a fundamental challenge in maintaining the performance and relevance of machine learning models over time. It occurs when the statistical properties of the target variable, which the model is trying to predict, change over time in unforeseen ways.\n"
   ]
  },
  {
   "cell_type": "markdown",
   "metadata": {},
   "source": [
    "<img src=\"./images/data-drift-vs-outliar.png\" width=\"600\">"
   ]
  },
  {
   "cell_type": "markdown",
   "metadata": {},
   "source": [
    "Data drift, also known as concept drift, refers to the phenomenon where the relationships between input and output variables in a dataset change over time, often in unexpected ways. This can lead to a degradation in model performance as the assumptions made during training become less valid.\n"
   ]
  },
  {
   "cell_type": "markdown",
   "metadata": {},
   "source": [
    "<img src=\"./images/data-concept-drift.png\" width=\"600\">"
   ]
  },
  {
   "cell_type": "markdown",
   "metadata": {},
   "source": [
    "🔑 **Key Concept:** Data drift occurs when the statistical properties of the target variable change over time, potentially making a previously trained model less accurate or even obsolete.\n"
   ]
  },
  {
   "cell_type": "markdown",
   "metadata": {},
   "source": [
    "<img src=\"./images/data-drift-2.png\" width=\"600\">"
   ]
  },
  {
   "cell_type": "markdown",
   "metadata": {},
   "source": [
    "There are several types of data drift that can occur:\n",
    "1. **Sudden Drift**:\n",
    "   - Abrupt changes in the data distribution.\n",
    "   - Example: A sudden change in consumer behavior due to a major event.\n",
    "\n",
    "2. **Gradual Drift**:\n",
    "   - Slow, progressive changes over time.\n",
    "   - Example: Gradual shifts in climate data over years.\n",
    "\n",
    "3. **Recurring Drift**:\n",
    "   - Previously seen patterns that reappear after some time.\n",
    "   - Example: Seasonal trends in retail sales.\n",
    "\n",
    "4. **Incremental Drift**:\n",
    "   - Small, incremental changes that accumulate over time.\n",
    "   - Example: Gradual changes in language usage in social media.\n"
   ]
  },
  {
   "cell_type": "markdown",
   "metadata": {},
   "source": [
    "### <a id='toc4_1_'></a>[Detecting Data Drift](#toc0_)\n"
   ]
  },
  {
   "cell_type": "markdown",
   "metadata": {},
   "source": [
    "Detecting data drift involves monitoring the statistical properties of your data over time. Some common methods include:\n"
   ]
  },
  {
   "cell_type": "markdown",
   "metadata": {},
   "source": [
    "1. **Statistical Tests**:\n",
    "   - Kolmogorov-Smirnov test: Compares the distributions of two datasets.\n",
    "   - Chi-squared test: For categorical variables, compares observed frequencies with expected frequencies.\n",
    "\n",
    "2. **Distribution Monitoring**:\n",
    "   - Tracking changes in mean, variance, or other statistical moments over time.\n",
    "   - Monitoring changes in feature importance or correlation structures.\n",
    "\n",
    "3. **Model Performance Metrics**:\n",
    "   - Regularly evaluating model performance on new data.\n",
    "   - Monitoring prediction confidence or error rates over time.\n",
    "\n",
    "4. **Dimensionality Reduction Techniques**:\n",
    "   - Using PCA or t-SNE to visualize high-dimensional data and track changes over time.\n"
   ]
  },
  {
   "cell_type": "markdown",
   "metadata": {},
   "source": [
    "Let's look at a simple example of detecting data drift using the Kolmogorov-Smirnov test:\n"
   ]
  },
  {
   "cell_type": "code",
   "execution_count": 1,
   "metadata": {},
   "outputs": [
    {
     "name": "stdout",
     "output_type": "stream",
     "text": [
      "Data drift detected (p-value: 8.470621055424192e-24)\n"
     ]
    }
   ],
   "source": [
    "from scipy import stats\n",
    "import numpy as np\n",
    "\n",
    "def detect_drift(data1, data2, threshold=0.05):\n",
    "    statistic, p_value = stats.ks_2samp(data1, data2)\n",
    "    if p_value < threshold:\n",
    "        print(f\"Data drift detected (p-value: {p_value})\")\n",
    "    else:\n",
    "        print(f\"No significant drift detected (p-value: {p_value})\")\n",
    "\n",
    "# Example usage\n",
    "data1 = np.random.normal(0, 1, 1000)  # Original distribution\n",
    "data2 = np.random.normal(0.5, 1, 1000)  # Shifted distribution\n",
    "\n",
    "detect_drift(data1, data2)"
   ]
  },
  {
   "cell_type": "markdown",
   "metadata": {},
   "source": [
    "💡 **Pro Tip:** Implement automated drift detection in your model deployment pipeline to get early warnings about potential performance degradation.\n"
   ]
  },
  {
   "cell_type": "markdown",
   "metadata": {},
   "source": [
    "### <a id='toc4_2_'></a>[Challenges in Managing Data Drift](#toc0_)"
   ]
  },
  {
   "cell_type": "markdown",
   "metadata": {},
   "source": [
    "There are several challenges to managing data drift:\n",
    "1. **Distinguishing Drift from Noise**: It can be difficult to differentiate between meaningful drift and random fluctuations.\n",
    "2. **Handling Multiple Types of Drift**: Different features may experience different types of drift simultaneously.\n",
    "3. **Balancing Adaptation and Stability**: Deciding when and how to update models without introducing instability.\n",
    "4. **Data Labeling Lag**: In many real-world scenarios, there's a delay in obtaining ground truth labels, making drift detection more challenging.\n"
   ]
  },
  {
   "cell_type": "markdown",
   "metadata": {},
   "source": [
    "### <a id='toc4_3_'></a>[Strategies for Adapting to Data Drift](#toc0_)\n"
   ]
  },
  {
   "cell_type": "markdown",
   "metadata": {},
   "source": [
    "1. **Regular Retraining**:\n",
    "   - Periodically retrain the model on recent data to capture new patterns.\n",
    "\n",
    "2. **Incremental Learning**:\n",
    "   - Use algorithms that can learn continuously from new data without forgetting old patterns.\n",
    "\n",
    "3. **Ensemble Methods**:\n",
    "   - Maintain an ensemble of models trained on different time windows to capture various data distributions.\n",
    "\n",
    "4. **Feature Engineering**:\n",
    "   - Develop robust features that are less susceptible to drift.\n",
    "\n",
    "5. **Adaptive Learning Rate**:\n",
    "   - Adjust the learning rate based on the detected level of drift.\n"
   ]
  },
  {
   "cell_type": "markdown",
   "metadata": {},
   "source": [
    "### <a id='toc4_4_'></a>[Importance of Monitoring Data Drift](#toc0_)\n"
   ]
  },
  {
   "cell_type": "markdown",
   "metadata": {},
   "source": [
    "Effective data drift monitoring and adaptation are crucial for several reasons:\n",
    "\n",
    "1. **Model Reliability**: Ensures that deployed models remain accurate and reliable over time.\n",
    "2. **Business Impact**: Helps maintain the business value of ML applications in changing environments.\n",
    "3. **Resource Optimization**: Allows for targeted model updates, optimizing computational and human resources.\n",
    "4. **Regulatory Compliance**: In some industries, monitoring for drift may be necessary for regulatory compliance.\n"
   ]
  },
  {
   "cell_type": "markdown",
   "metadata": {},
   "source": [
    "🤔 **Why This Matters:** In real-world applications, the environment is often non-stationary. Models that don't adapt to data drift can make increasingly poor decisions, potentially leading to significant business or operational impacts.\n"
   ]
  },
  {
   "cell_type": "markdown",
   "metadata": {},
   "source": [
    "To effectively monitor and adapt to data drift, consider the following best practices:\n",
    "1. **Continuous Monitoring**: Implement automated systems to continuously monitor your data and model performance.\n",
    "2. **Versioning**: Maintain clear versioning of datasets and models to track changes over time.\n",
    "3. **Interpretability**: Use interpretable models or techniques to understand the nature of the drift.\n",
    "4. **Alerting System**: Set up alerts for when drift exceeds certain thresholds.\n",
    "5. **Domain Expertise**: Involve domain experts in interpreting detected drift and deciding on appropriate actions.\n"
   ]
  },
  {
   "cell_type": "markdown",
   "metadata": {},
   "source": [
    "❗️ **Important Note:** The approach to handling data drift should be tailored to your specific use case. In some scenarios, you may need to quickly adapt to changes, while in others, a more conservative approach with human oversight may be appropriate.\n"
   ]
  },
  {
   "cell_type": "markdown",
   "metadata": {},
   "source": [
    "By effectively monitoring and adapting to data drift, you can ensure that your machine learning models remain relevant and accurate in dynamic, real-world environments."
   ]
  },
  {
   "cell_type": "markdown",
   "metadata": {},
   "source": [
    "## <a id='toc5_'></a>[Strategies for Handling Data Irregularities](#toc0_)"
   ]
  },
  {
   "cell_type": "markdown",
   "metadata": {},
   "source": [
    "Effectively managing data irregularities is crucial for maintaining the reliability and performance of data analysis and machine learning models. This section explores various strategies for handling outliers, anomalies, novelties, and data drift, providing a comprehensive toolkit for data scientists and analysts. Here's a general approach to handling data irregularities:\n",
    "\n",
    "1. **Detect**: Identify the presence and nature of irregularities in your dataset.\n",
    "2. **Analyze**: Understand the cause and potential impact of these irregularities.\n",
    "3. **Decide**: Choose an appropriate strategy based on the type of irregularity and your specific use case.\n",
    "4. **Implement**: Apply the chosen strategy and monitor its effects.\n",
    "5. **Iterate**: Continuously evaluate and refine your approach as needed.\n"
   ]
  },
  {
   "cell_type": "markdown",
   "metadata": {},
   "source": [
    "🔑 **Key Concept:** There's no one-size-fits-all solution for handling data irregularities. The best approach depends on the nature of your data, the specific problem you're solving, and the potential impact of the irregularities on your analysis or model.\n"
   ]
  },
  {
   "cell_type": "markdown",
   "metadata": {},
   "source": [
    "### <a id='toc5_1_'></a>[Strategies for Handling Outliers](#toc0_)\n"
   ]
  },
  {
   "cell_type": "markdown",
   "metadata": {},
   "source": [
    "1. **Removal**:\n",
    "   - When to use: For clear data errors or when outliers significantly skew the analysis.\n",
    "   - Method: Remove data points beyond a certain threshold (e.g., 3 standard deviations from the mean).\n",
    "\n",
    "   ```python\n",
    "   def remove_outliers(data, threshold=3):\n",
    "       z_scores = np.abs((data - np.mean(data)) / np.std(data))\n",
    "       return data[z_scores < threshold]\n",
    "   ```\n"
   ]
  },
  {
   "cell_type": "markdown",
   "metadata": {},
   "source": [
    "2. **Transformation**:\n",
    "   - When to use: To reduce the impact of outliers without removing data.\n",
    "   - Methods: Log transformation, Box-Cox transformation, or Winsorization.\n",
    "\n",
    "   ```python\n",
    "   def winsorize(data, limits=(0.05, 0.05)):\n",
    "       return stats.mstats.winsorize(data, limits=limits)\n",
    "   ```\n"
   ]
  },
  {
   "cell_type": "markdown",
   "metadata": {},
   "source": [
    "3. **Capping**:\n",
    "   - When to use: To limit the effect of extreme values while retaining their presence.\n",
    "   - Method: Set a maximum and minimum value based on percentiles.\n"
   ]
  },
  {
   "cell_type": "markdown",
   "metadata": {},
   "source": [
    "4. **Separate Analysis**:\n",
    "   - When to use: When outliers represent important but rare events.\n",
    "   - Method: Analyze outliers separately from the main dataset.\n"
   ]
  },
  {
   "cell_type": "markdown",
   "metadata": {},
   "source": [
    "### <a id='toc5_2_'></a>[Strategies for Handling Anomalies](#toc0_)\n"
   ]
  },
  {
   "cell_type": "markdown",
   "metadata": {},
   "source": [
    "1. **Investigation and Validation**:\n",
    "   - When to use: For all detected anomalies to confirm their validity.\n",
    "   - Method: Manual review or automated cross-referencing with other data sources.\n"
   ]
  },
  {
   "cell_type": "markdown",
   "metadata": {},
   "source": [
    "2. **Isolation**:\n",
    "   - When to use: When anomalies are confirmed but shouldn't be removed.\n",
    "   - Method: Create separate categories or flags for anomalous data points.\n"
   ]
  },
  {
   "cell_type": "markdown",
   "metadata": {},
   "source": [
    "3. **Adaptive Thresholding**:\n",
    "   - When to use: In dynamic systems where the definition of \"normal\" may change over time.\n",
    "   - Method: Continuously update thresholds based on recent data.\n",
    "\n",
    "   ```python\n",
    "   def adaptive_threshold(data, window_size=100, n_sigmas=3):\n",
    "       rolling_mean = data.rolling(window=window_size).mean()\n",
    "       rolling_std = data.rolling(window=window_size).std()\n",
    "       return rolling_mean + (n_sigmas * rolling_std)\n",
    "   ```\n"
   ]
  },
  {
   "cell_type": "markdown",
   "metadata": {},
   "source": [
    "4. **Ensemble Methods**:\n",
    "   - When to use: To improve robustness of anomaly detection.\n",
    "   - Method: Combine multiple anomaly detection algorithms and use majority voting or weighted averaging.\n"
   ]
  },
  {
   "cell_type": "markdown",
   "metadata": {},
   "source": [
    "### <a id='toc5_3_'></a>[Strategies for Handling Novelties](#toc0_)\n"
   ]
  },
  {
   "cell_type": "markdown",
   "metadata": {},
   "source": [
    "1. **Incremental Learning**:\n",
    "   - When to use: In systems where new patterns are expected to emerge over time.\n",
    "   - Method: Use algorithms that can learn continuously from new data.\n",
    "\n",
    "   ```python\n",
    "   from river import linear_model\n",
    "\n",
    "   model = linear_model.PARegressor()\n",
    "   for x, y in stream:\n",
    "       y_pred = model.predict_one(x)\n",
    "       model = model.learn_one(x, y)\n",
    "   ```\n"
   ]
  },
  {
   "cell_type": "markdown",
   "metadata": {},
   "source": [
    "2. **Model Retraining**:\n",
    "   - When to use: When significant new patterns are detected.\n",
    "   - Method: Periodically retrain the model on recent data including novelties.\n"
   ]
  },
  {
   "cell_type": "markdown",
   "metadata": {},
   "source": [
    "3. **Novelty Incorporation**:\n",
    "   - When to use: When novelties represent important new categories or trends.\n",
    "   - Method: Create new categories or features to represent the novelties.\n"
   ]
  },
  {
   "cell_type": "markdown",
   "metadata": {},
   "source": [
    "4. **Adaptive Feature Extraction**:\n",
    "   - When to use: In high-dimensional data where novelties may be complex patterns.\n",
    "   - Method: Use adaptive feature extraction techniques to capture evolving patterns.\n"
   ]
  },
  {
   "cell_type": "markdown",
   "metadata": {},
   "source": [
    "### <a id='toc5_4_'></a>[Strategies for Handling Data Drift](#toc0_)\n"
   ]
  },
  {
   "cell_type": "markdown",
   "metadata": {},
   "source": [
    "1. **Sliding Window**:\n",
    "   - When to use: For gradual drift in time-series data.\n",
    "   - Method: Train on a moving window of recent data.\n",
    "\n",
    "   ```python\n",
    "   def sliding_window_train(model, X, y, window_size):\n",
    "       for i in range(len(X) - window_size):\n",
    "           X_window = X[i:i+window_size]\n",
    "           y_window = y[i:i+window_size]\n",
    "           model.fit(X_window, y_window)\n",
    "   ```\n",
    "\n",
    "2. **Weighted Samples**:\n",
    "   - When to use: To give more importance to recent data while retaining some older information.\n",
    "   - Method: Assign higher weights to more recent samples during training.\n",
    "\n",
    "3. **Ensemble with Experts**:\n",
    "   - When to use: When different types of drift may occur.\n",
    "   - Method: Maintain multiple models trained on different time periods and use the best performing one.\n",
    "\n",
    "4. **Concept Evolution Tracking**:\n",
    "   - When to use: In systems with recurring concepts or seasonal patterns.\n",
    "   - Method: Track and store different \"concepts\" and switch between them as needed.\n"
   ]
  },
  {
   "cell_type": "markdown",
   "metadata": {},
   "source": [
    "💡 **Pro Tip:** Implement a monitoring system that tracks the performance of your chosen strategy over time. This allows you to quickly identify when your current approach is no longer effective and needs to be updated.\n"
   ]
  },
  {
   "cell_type": "markdown",
   "metadata": {},
   "source": [
    "### <a id='toc5_5_'></a>[Challenges and Considerations](#toc0_)\n"
   ]
  },
  {
   "cell_type": "markdown",
   "metadata": {},
   "source": [
    "1. **Balance**: Strive for a balance between model stability and adaptability.\n",
    "2. **Interpretability**: Ensure that your handling strategies don't compromise the interpretability of your model or analysis.\n",
    "3. **Domain Knowledge**: Incorporate domain expertise when deciding how to handle irregularities.\n",
    "4. **Computational Resources**: Consider the computational cost of your chosen strategies, especially for large-scale or real-time systems.\n"
   ]
  },
  {
   "cell_type": "markdown",
   "metadata": {},
   "source": [
    "🤔 **Why This Matters:** Properly handling data irregularities is not just about cleaning data or improving model accuracy. It's about building robust, reliable systems that can operate effectively in complex, changing environments.\n"
   ]
  },
  {
   "cell_type": "markdown",
   "metadata": {},
   "source": [
    "❗️ **Important Note:** Always document your strategies for handling data irregularities. This documentation is crucial for model governance, reproducibility, and helping stakeholders understand the decisions made in the data processing pipeline.\n"
   ]
  },
  {
   "cell_type": "markdown",
   "metadata": {},
   "source": [
    "By applying these strategies thoughtfully and systematically, you can significantly improve the robustness and reliability of your data analysis and machine learning models in the face of various data irregularities."
   ]
  },
  {
   "cell_type": "markdown",
   "metadata": {},
   "source": [
    "## <a id='toc6_'></a>[Summary](#toc0_)"
   ]
  },
  {
   "cell_type": "markdown",
   "metadata": {},
   "source": [
    "As we conclude our exploration of data irregularities, let's recap the key concepts and strategies we've covered. This summary will help solidify your understanding and provide a quick reference guide for handling various types of data irregularities in your future projects. Here is a summary of the key concepts and strategies:\n",
    "\n",
    "1. **Types of Data Irregularities**:\n",
    "   - Outliers: Extreme values that significantly differ from other observations.\n",
    "   - Anomalies: Rare instances or patterns that don't conform to expected behavior.\n",
    "   - Novelties: New or previously unseen patterns that emerge in the data.\n",
    "   - Data Drift: Gradual changes in the statistical properties of the target variable over time.\n",
    "\n",
    "2. **Detection Methods**:\n",
    "   - Statistical techniques (e.g., Z-score, IQR)\n",
    "   - Machine learning algorithms (e.g., Isolation Forest, One-Class SVM)\n",
    "   - Visualization tools (e.g., box plots, scatter plots)\n",
    "   - Continuous monitoring systems for data drift\n",
    "\n",
    "3. **Handling Strategies**:\n",
    "   - Outliers: Removal, transformation, capping, or separate analysis\n",
    "   - Anomalies: Investigation, isolation, adaptive thresholding\n",
    "   - Novelties: Incremental learning, model retraining, novelty incorporation\n",
    "   - Data Drift: Sliding window approaches, weighted samples, ensemble methods\n",
    "\n",
    "4. **Best Practices**:\n",
    "   - Always investigate the root cause of irregularities before deciding on a strategy\n",
    "   - Consider the impact of your chosen strategy on model interpretability and performance\n",
    "   - Implement continuous monitoring systems to detect irregularities in real-time\n",
    "   - Regularly validate and update your handling strategies as the data evolves\n"
   ]
  },
  {
   "cell_type": "markdown",
   "metadata": {},
   "source": [
    "🔑 **Key Concept:** There is no one-size-fits-all approach to handling data irregularities. The best strategy depends on your specific use case, the nature of your data, and the requirements of your analysis or model.\n"
   ]
  },
  {
   "cell_type": "markdown",
   "metadata": {},
   "source": [
    "When approaching a new dataset or problem:\n",
    "\n",
    "1. Start with exploratory data analysis to understand the distribution and characteristics of your data.\n",
    "2. Implement detection methods to identify potential irregularities.\n",
    "3. Analyze the detected irregularities in the context of your domain knowledge.\n",
    "4. Choose and apply appropriate handling strategies based on the type of irregularity and your specific goals.\n",
    "5. Monitor the impact of your chosen strategies on model performance and business outcomes.\n",
    "6. Iterate and refine your approach as needed.\n"
   ]
  },
  {
   "cell_type": "markdown",
   "metadata": {},
   "source": [
    "💡 **Pro Tip:** Develop a systematic workflow for handling data irregularities in your projects. This can include standard detection methods, decision trees for choosing strategies, and templates for documenting your approach.\n"
   ]
  },
  {
   "cell_type": "markdown",
   "metadata": {},
   "source": [
    "As the field of machine learning continues to evolve, new challenges and solutions for handling data irregularities are likely to emerge:\n",
    "\n",
    "- Advancements in unsupervised anomaly detection for high-dimensional data\n",
    "- Improved techniques for handling concept drift in streaming data\n",
    "- Integration of causal inference methods to better understand the impact of irregularities\n",
    "- Development of more robust, self-adapting models that can handle various types of irregularities automatically\n"
   ]
  },
  {
   "cell_type": "markdown",
   "metadata": {},
   "source": [
    "Mastering the handling of data irregularities is crucial for building reliable, robust machine learning systems that can perform well in real-world, dynamic environments. It's a key skill that separates novice data scientists from experienced practitioners.\n"
   ]
  },
  {
   "cell_type": "markdown",
   "metadata": {},
   "source": [
    "Handling data irregularities is as much an art as it is a science. It requires a blend of technical knowledge, domain expertise, and critical thinking. By understanding the various types of irregularities and the strategies available to handle them, you're well-equipped to tackle complex data challenges and build more effective machine learning solutions.\n"
   ]
  },
  {
   "cell_type": "markdown",
   "metadata": {},
   "source": [
    "❗️ **Important Note:** Always approach data irregularities with curiosity and caution. What might initially appear as an error or anomaly could be a crucial insight or the key to unlocking new understanding in your data.\n"
   ]
  },
  {
   "cell_type": "markdown",
   "metadata": {},
   "source": [
    "As you apply these concepts in your work, remember that the goal is not just to clean your data, but to extract maximum value and insight from it. Each irregularity is an opportunity to learn something new about your data and the system it represents."
   ]
  }
 ],
 "metadata": {
  "kernelspec": {
   "display_name": "py310",
   "language": "python",
   "name": "python3"
  },
  "language_info": {
   "codemirror_mode": {
    "name": "ipython",
    "version": 3
   },
   "file_extension": ".py",
   "mimetype": "text/x-python",
   "name": "python",
   "nbconvert_exporter": "python",
   "pygments_lexer": "ipython3",
   "version": "3.10.12"
  }
 },
 "nbformat": 4,
 "nbformat_minor": 2
}
