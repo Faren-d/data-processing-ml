{
 "cells": [
  {
   "cell_type": "markdown",
   "metadata": {},
   "source": [
    "<img src=\"./images/banner.png\" width=\"800\">"
   ]
  },
  {
   "cell_type": "markdown",
   "metadata": {},
   "source": [
    "# Encoding Categorical Variables"
   ]
  },
  {
   "cell_type": "markdown",
   "metadata": {},
   "source": [
    "Categorical variables are a fundamental data type in machine learning and statistical analysis. These variables represent qualitative data that can be divided into distinct categories or groups. Understanding and properly handling categorical variables is crucial for effective data preprocessing and model performance.\n"
   ]
  },
  {
   "cell_type": "markdown",
   "metadata": {},
   "source": [
    "Categorical variables, also known as nominal variables, are variables that can take on one of a limited number of possible values or categories. Unlike numerical variables, categorical variables don't have a natural numerical order or magnitude.\n"
   ]
  },
  {
   "cell_type": "markdown",
   "metadata": {},
   "source": [
    "Examples of categorical variables include:\n",
    "- Color (red, blue, green)\n",
    "- Gender (male, female, non-binary)\n",
    "- Country (USA, Canada, Japan)\n",
    "- Product type (electronics, clothing, food)\n"
   ]
  },
  {
   "cell_type": "markdown",
   "metadata": {},
   "source": [
    "Categorical variables can be further classified into two main types:\n",
    "\n",
    "1. **Nominal Variables:** Categories without any natural order or ranking.\n",
    "   Example: Blood types (A, B, AB, O)\n",
    "\n",
    "2. **Ordinal Variables:** Categories with a meaningful order or ranking.\n",
    "   Example: Education level (High School, Bachelor's, Master's, PhD)\n"
   ]
  },
  {
   "cell_type": "markdown",
   "metadata": {},
   "source": [
    "Machine learning algorithms typically work with numerical data. Therefore, we need to convert categorical variables into a numerical format that algorithms can understand and process effectively. This process is called encoding.\n"
   ]
  },
  {
   "cell_type": "markdown",
   "metadata": {},
   "source": [
    "🤔 **Why This Matters:** Proper encoding of categorical variables is essential for:\n",
    "- Improving model performance\n",
    "- Capturing the inherent information in the categories\n",
    "- Enabling algorithms to process and learn from categorical data\n"
   ]
  },
  {
   "cell_type": "markdown",
   "metadata": {},
   "source": [
    "Working with categorical variables presents several challenges:\n",
    "\n",
    "1. **High Cardinality:** When a categorical variable has many unique categories, it can lead to the \"curse of dimensionality\" and overfitting.\n",
    "\n",
    "2. **Rare Categories:** Some categories may appear very infrequently in the dataset, making it difficult for models to learn from them.\n",
    "\n",
    "3. **New Categories:** In real-world applications, new categories may appear in test data that were not present in the training data.\n",
    "\n",
    "4. **Ordinal Relationships:** Some encoding methods may introduce unintended ordinal relationships between categories.\n"
   ]
  },
  {
   "cell_type": "markdown",
   "metadata": {},
   "source": [
    "There are various techniques for encoding categorical variables, each with its own strengths and use cases. Some common methods include:\n",
    "\n",
    "- One-Hot Encoding\n",
    "- Label Encoding\n",
    "- Ordinal Encoding\n",
    "- Target Encoding\n",
    "- Frequency Encoding\n",
    "- Binary Encoding\n",
    "- Hashing Encoding\n",
    "- Leave-One-Out Encoding\n",
    "- Embedding Encoding\n",
    "- Weight of Evidence (WOE) Encoding\n"
   ]
  },
  {
   "cell_type": "markdown",
   "metadata": {},
   "source": [
    "💡 **Pro Tip:** The choice of encoding method can significantly impact model performance. It's often beneficial to experiment with different encoding techniques and evaluate their effect on your specific problem.\n"
   ]
  },
  {
   "cell_type": "markdown",
   "metadata": {},
   "source": [
    "In the following sections, we'll dive deep into each of these encoding techniques, exploring their mechanics, advantages, disadvantages, and appropriate use cases.\n"
   ]
  },
  {
   "cell_type": "markdown",
   "metadata": {},
   "source": [
    "❗️ **Important Note:** Always split your data into training and testing sets before applying any encoding technique to prevent data leakage and ensure the integrity of your model evaluation."
   ]
  },
  {
   "cell_type": "markdown",
   "metadata": {},
   "source": [
    "**Table of contents**<a id='toc0_'></a>    \n",
    "- [Label Encoding and Ordinal Encoding](#toc1_)    \n",
    "  - [Label Encoding](#toc1_1_)    \n",
    "  - [Ordinal Encoding](#toc1_2_)    \n",
    "  - [Key Differences](#toc1_3_)    \n",
    "  - [Limitations and Considerations](#toc1_4_)    \n",
    "  - [Practical Considerations](#toc1_5_)    \n",
    "- [One-Hot Encoding](#toc2_)    \n",
    "  - [Advantages and Disadvantages](#toc2_1_)    \n",
    "  - [Handling the Dummy Variable Trap](#toc2_2_)    \n",
    "  - [When to Use and Practical Considerations](#toc2_3_)    \n",
    "\n",
    "<!-- vscode-jupyter-toc-config\n",
    "\tnumbering=false\n",
    "\tanchor=true\n",
    "\tflat=false\n",
    "\tminLevel=2\n",
    "\tmaxLevel=6\n",
    "\t/vscode-jupyter-toc-config -->\n",
    "<!-- THIS CELL WILL BE REPLACED ON TOC UPDATE. DO NOT WRITE YOUR TEXT IN THIS CELL -->"
   ]
  },
  {
   "cell_type": "markdown",
   "metadata": {},
   "source": [
    "## <a id='toc1_'></a>[Label Encoding and Ordinal Encoding](#toc0_)"
   ]
  },
  {
   "cell_type": "markdown",
   "metadata": {},
   "source": [
    "Label Encoding and Ordinal Encoding are two closely related techniques used to convert categorical variables into numerical format. While they share similarities, they have distinct use cases and implementations in machine learning workflows.\n"
   ]
  },
  {
   "cell_type": "markdown",
   "metadata": {},
   "source": [
    "### <a id='toc1_1_'></a>[Label Encoding](#toc0_)\n"
   ]
  },
  {
   "cell_type": "markdown",
   "metadata": {},
   "source": [
    "Label Encoding assigns a unique integer to each category in a categorical variable. It's primarily designed for encoding target variables in classification problems.\n"
   ]
  },
  {
   "cell_type": "code",
   "execution_count": 1,
   "metadata": {},
   "outputs": [],
   "source": [
    "from sklearn.preprocessing import LabelEncoder"
   ]
  },
  {
   "cell_type": "code",
   "execution_count": 2,
   "metadata": {},
   "outputs": [],
   "source": [
    "# Sample data\n",
    "data = ['Red', 'Blue', 'Green', 'Red', 'Green']"
   ]
  },
  {
   "cell_type": "code",
   "execution_count": 3,
   "metadata": {},
   "outputs": [],
   "source": [
    "# Initialize and fit the LabelEncoder\n",
    "le = LabelEncoder()\n",
    "encoded_data = le.fit_transform(data)"
   ]
  },
  {
   "cell_type": "code",
   "execution_count": 4,
   "metadata": {},
   "outputs": [
    {
     "data": {
      "text/plain": [
       "array([2, 0, 1, 2, 1])"
      ]
     },
     "execution_count": 4,
     "metadata": {},
     "output_type": "execute_result"
    }
   ],
   "source": [
    "encoded_data"
   ]
  },
  {
   "cell_type": "code",
   "execution_count": 5,
   "metadata": {},
   "outputs": [
    {
     "data": {
      "text/plain": [
       "array(['Blue', 'Green', 'Red'], dtype='<U5')"
      ]
     },
     "execution_count": 5,
     "metadata": {},
     "output_type": "execute_result"
    }
   ],
   "source": [
    "le.classes_"
   ]
  },
  {
   "cell_type": "markdown",
   "metadata": {},
   "source": [
    "🔑 **Key Concept:** LabelEncoder is designed to work with 1D arrays and is typically used for encoding target variables in classification tasks.\n"
   ]
  },
  {
   "cell_type": "markdown",
   "metadata": {},
   "source": [
    "### <a id='toc1_2_'></a>[Ordinal Encoding](#toc0_)\n"
   ]
  },
  {
   "cell_type": "markdown",
   "metadata": {},
   "source": [
    "Ordinal Encoding is similar to Label Encoding but is designed to work with feature variables, potentially across multiple columns.\n"
   ]
  },
  {
   "cell_type": "code",
   "execution_count": 6,
   "metadata": {},
   "outputs": [],
   "source": [
    "from sklearn.preprocessing import OrdinalEncoder\n",
    "import pandas as pd"
   ]
  },
  {
   "cell_type": "code",
   "execution_count": 7,
   "metadata": {},
   "outputs": [],
   "source": [
    "# Sample data\n",
    "data = pd.DataFrame({\n",
    "    'Color': ['Red', 'Blue', 'Green', 'Red', 'Green'],\n",
    "    'Size': ['Small', 'Medium', 'Large', 'Medium', 'Small']\n",
    "})\n"
   ]
  },
  {
   "cell_type": "code",
   "execution_count": 8,
   "metadata": {},
   "outputs": [],
   "source": [
    "# Initialize and fit the OrdinalEncoder\n",
    "oe = OrdinalEncoder()\n",
    "encoded_data = oe.fit_transform(data)\n"
   ]
  },
  {
   "cell_type": "code",
   "execution_count": 9,
   "metadata": {},
   "outputs": [
    {
     "data": {
      "text/plain": [
       "array([[2., 2.],\n",
       "       [0., 1.],\n",
       "       [1., 0.],\n",
       "       [2., 1.],\n",
       "       [1., 2.]])"
      ]
     },
     "execution_count": 9,
     "metadata": {},
     "output_type": "execute_result"
    }
   ],
   "source": [
    "encoded_data"
   ]
  },
  {
   "cell_type": "code",
   "execution_count": 10,
   "metadata": {},
   "outputs": [
    {
     "data": {
      "text/plain": [
       "[array(['Blue', 'Green', 'Red'], dtype=object),\n",
       " array(['Large', 'Medium', 'Small'], dtype=object)]"
      ]
     },
     "execution_count": 10,
     "metadata": {},
     "output_type": "execute_result"
    }
   ],
   "source": [
    "oe.categories_"
   ]
  },
  {
   "cell_type": "markdown",
   "metadata": {},
   "source": [
    "🔑 **Key Concept:** OrdinalEncoder can handle multiple feature columns simultaneously, making it more suitable for encoding input features in machine learning models.\n"
   ]
  },
  {
   "cell_type": "markdown",
   "metadata": {},
   "source": [
    "### <a id='toc1_3_'></a>[Key Differences](#toc0_)\n"
   ]
  },
  {
   "cell_type": "markdown",
   "metadata": {},
   "source": [
    "1. **Input Shape:** \n",
    "   - LabelEncoder works with 1D arrays (n_samples,)\n",
    "   - OrdinalEncoder works with 2D arrays (n_samples, n_features)\n",
    "\n",
    "2. **Typical Use:**\n",
    "   - LabelEncoder is primarily used for encoding target variables\n",
    "   - OrdinalEncoder is used for encoding feature variables\n",
    "\n",
    "3. **Multiple Columns:**\n",
    "   - LabelEncoder requires looping over columns for multiple features\n",
    "   - OrdinalEncoder can handle multiple columns in a single operation\n"
   ]
  },
  {
   "cell_type": "markdown",
   "metadata": {},
   "source": [
    "### <a id='toc1_4_'></a>[Limitations and Considerations](#toc0_)\n"
   ]
  },
  {
   "cell_type": "markdown",
   "metadata": {},
   "source": [
    "Both Label Encoding and Ordinal Encoding introduce an implicit order to the categories, which can be problematic when there's no inherent order in the original data.\n"
   ]
  },
  {
   "cell_type": "markdown",
   "metadata": {},
   "source": [
    "🤔 **Why This Matters:** Using these encodings for nominal categories without a natural order can introduce incorrect assumptions into your model, potentially leading to poor performance or misleading results.\n"
   ]
  },
  {
   "cell_type": "markdown",
   "metadata": {},
   "source": [
    "For example, if we encode colors ['Red', 'Blue', 'Green'] as [0, 1, 2], the model might incorrectly assume that Green (2) is \"greater than\" or \"twice as much as\" Red (0), which doesn't make sense for colors.\n"
   ]
  },
  {
   "cell_type": "markdown",
   "metadata": {},
   "source": [
    "💡 **Pro Tip:** When using Ordinal Encoding for truly ordinal data, you can specify the order of categories:\n"
   ]
  },
  {
   "cell_type": "code",
   "execution_count": 11,
   "metadata": {},
   "outputs": [
    {
     "data": {
      "text/plain": [
       "array([[0.],\n",
       "       [1.],\n",
       "       [2.],\n",
       "       [1.],\n",
       "       [0.]])"
      ]
     },
     "execution_count": 11,
     "metadata": {},
     "output_type": "execute_result"
    }
   ],
   "source": [
    "oe = OrdinalEncoder(categories=[['Small', 'Medium', 'Large']])\n",
    "oe.fit_transform(data[['Size']])"
   ]
  },
  {
   "cell_type": "markdown",
   "metadata": {},
   "source": [
    "### <a id='toc1_5_'></a>[Practical Considerations](#toc0_)\n"
   ]
  },
  {
   "cell_type": "markdown",
   "metadata": {},
   "source": [
    "1. **Handling Unknown Categories:** Both encoders can struggle with new categories in test data. Consider using the `handle_unknown='use_encoded_value'` parameter in OrdinalEncoder to manage this issue.\n",
    "\n",
    "2. **Interpretability:** The encoded values may not be easily interpretable, especially for stakeholders unfamiliar with the encoding process.\n",
    "\n",
    "3. **Model Impact:** Some models, like decision trees, can handle ordinal encoding well, while others, like linear models, may be negatively impacted by the implied ordinality.\n",
    "\n",
    "4. **Reversibility:** Both encodings are easily reversible, which can be useful for interpreting model outputs.\n"
   ]
  },
  {
   "cell_type": "markdown",
   "metadata": {},
   "source": [
    "❗️ **Important Note:** Always consider the nature of your categorical variables before applying Label or Ordinal Encoding. For nominal categories without a meaningful order, consider alternative encoding methods like One-Hot Encoding or more advanced techniques.\n"
   ]
  },
  {
   "cell_type": "markdown",
   "metadata": {},
   "source": [
    "In the next sections, we'll explore encoding methods that address some of these limitations and provide more flexible approaches to handling categorical data in machine learning pipelines."
   ]
  },
  {
   "cell_type": "markdown",
   "metadata": {},
   "source": [
    "## <a id='toc2_'></a>[One-Hot Encoding](#toc0_)"
   ]
  },
  {
   "cell_type": "markdown",
   "metadata": {},
   "source": [
    "Label Encoding and Ordinal Encoding both introduce an ordinal relationship between categories, which can be problematic when there's no inherent order in the original data.\n",
    "\n",
    "One-hot encoding is one of the most common and widely used techniques for encoding categorical variables. It creates binary columns for each category in a categorical variable, effectively representing the presence or absence of each category.\n"
   ]
  },
  {
   "cell_type": "markdown",
   "metadata": {},
   "source": [
    "In one-hot encoding, each category of a categorical variable is transformed into a new binary column. For each observation, the column corresponding to its category is set to 1, while all other columns are set to 0.\n"
   ]
  },
  {
   "cell_type": "markdown",
   "metadata": {},
   "source": [
    "🔑 **Key Concept:** One-hot encoding creates a new binary column for each unique category, with 1 indicating the presence of that category and 0 indicating its absence.\n"
   ]
  },
  {
   "cell_type": "markdown",
   "metadata": {},
   "source": [
    "Let's consider a categorical variable \"Color\" with categories: Red, Blue, and Green.\n"
   ]
  },
  {
   "cell_type": "code",
   "execution_count": 12,
   "metadata": {},
   "outputs": [],
   "source": [
    "import pandas as pd\n",
    "from sklearn.preprocessing import OneHotEncoder"
   ]
  },
  {
   "cell_type": "code",
   "execution_count": 13,
   "metadata": {},
   "outputs": [],
   "source": [
    "# Sample data\n",
    "data = pd.DataFrame({'Color': ['Red', 'Blue', 'Green', 'Red', 'Green']})"
   ]
  },
  {
   "cell_type": "code",
   "execution_count": 14,
   "metadata": {},
   "outputs": [],
   "source": [
    "# Initialize the OneHotEncoder\n",
    "encoder = OneHotEncoder()"
   ]
  },
  {
   "cell_type": "code",
   "execution_count": 15,
   "metadata": {},
   "outputs": [],
   "source": [
    "# Fit and transform the data\n",
    "encoded_data = encoder.fit_transform(data[['Color']])"
   ]
  },
  {
   "cell_type": "code",
   "execution_count": 16,
   "metadata": {},
   "outputs": [
    {
     "data": {
      "text/html": [
       "<div>\n",
       "<style scoped>\n",
       "    .dataframe tbody tr th:only-of-type {\n",
       "        vertical-align: middle;\n",
       "    }\n",
       "\n",
       "    .dataframe tbody tr th {\n",
       "        vertical-align: top;\n",
       "    }\n",
       "\n",
       "    .dataframe thead th {\n",
       "        text-align: right;\n",
       "    }\n",
       "</style>\n",
       "<table border=\"1\" class=\"dataframe\">\n",
       "  <thead>\n",
       "    <tr style=\"text-align: right;\">\n",
       "      <th></th>\n",
       "      <th>Color_Blue</th>\n",
       "      <th>Color_Green</th>\n",
       "      <th>Color_Red</th>\n",
       "    </tr>\n",
       "  </thead>\n",
       "  <tbody>\n",
       "    <tr>\n",
       "      <th>0</th>\n",
       "      <td>0.0</td>\n",
       "      <td>0.0</td>\n",
       "      <td>1.0</td>\n",
       "    </tr>\n",
       "    <tr>\n",
       "      <th>1</th>\n",
       "      <td>1.0</td>\n",
       "      <td>0.0</td>\n",
       "      <td>0.0</td>\n",
       "    </tr>\n",
       "    <tr>\n",
       "      <th>2</th>\n",
       "      <td>0.0</td>\n",
       "      <td>1.0</td>\n",
       "      <td>0.0</td>\n",
       "    </tr>\n",
       "    <tr>\n",
       "      <th>3</th>\n",
       "      <td>0.0</td>\n",
       "      <td>0.0</td>\n",
       "      <td>1.0</td>\n",
       "    </tr>\n",
       "    <tr>\n",
       "      <th>4</th>\n",
       "      <td>0.0</td>\n",
       "      <td>1.0</td>\n",
       "      <td>0.0</td>\n",
       "    </tr>\n",
       "  </tbody>\n",
       "</table>\n",
       "</div>"
      ],
      "text/plain": [
       "   Color_Blue  Color_Green  Color_Red\n",
       "0         0.0          0.0        1.0\n",
       "1         1.0          0.0        0.0\n",
       "2         0.0          1.0        0.0\n",
       "3         0.0          0.0        1.0\n",
       "4         0.0          1.0        0.0"
      ]
     },
     "execution_count": 16,
     "metadata": {},
     "output_type": "execute_result"
    }
   ],
   "source": [
    "# Create a new DataFrame with encoded variables\n",
    "encoded_df = pd.DataFrame(encoded_data.toarray(), columns=encoder.get_feature_names_out(['Color']))\n",
    "encoded_df"
   ]
  },
  {
   "cell_type": "markdown",
   "metadata": {},
   "source": [
    "### <a id='toc2_1_'></a>[Advantages and Disadvantages](#toc0_)\n"
   ]
  },
  {
   "cell_type": "markdown",
   "metadata": {},
   "source": [
    "One-hot encoding offers several benefits but also comes with some drawbacks. Understanding these can help you decide when to use this encoding method in your machine learning projects.\n",
    "\n",
    "Advantages:\n",
    "- No ordinal relationship introduced\n",
    "- Simple to implement and interpret\n",
    "- Compatible with most machine learning algorithms\n",
    "\n",
    "Disadvantages:\n",
    "- Can lead to the \"curse of dimensionality\" for high-cardinality variables\n",
    "- Results in sparse matrices, which may be inefficient for some algorithms\n",
    "- Doesn't capture intrinsic relationships between categories\n"
   ]
  },
  {
   "cell_type": "markdown",
   "metadata": {},
   "source": [
    "### <a id='toc2_2_'></a>[Handling the Dummy Variable Trap](#toc0_)\n"
   ]
  },
  {
   "cell_type": "markdown",
   "metadata": {},
   "source": [
    "When using one-hot encoding, it's important to be aware of the \"dummy variable trap,\" which can lead to multicollinearity in your model. To avoid this, you can drop one of the binary columns for each encoded categorical variable.\n"
   ]
  },
  {
   "cell_type": "markdown",
   "metadata": {},
   "source": [
    "💡 **Pro Tip:** Use the \"drop_first\" option in pandas to automatically handle the dummy variable trap:\n"
   ]
  },
  {
   "cell_type": "code",
   "execution_count": 17,
   "metadata": {},
   "outputs": [
    {
     "data": {
      "text/html": [
       "<div>\n",
       "<style scoped>\n",
       "    .dataframe tbody tr th:only-of-type {\n",
       "        vertical-align: middle;\n",
       "    }\n",
       "\n",
       "    .dataframe tbody tr th {\n",
       "        vertical-align: top;\n",
       "    }\n",
       "\n",
       "    .dataframe thead th {\n",
       "        text-align: right;\n",
       "    }\n",
       "</style>\n",
       "<table border=\"1\" class=\"dataframe\">\n",
       "  <thead>\n",
       "    <tr style=\"text-align: right;\">\n",
       "      <th></th>\n",
       "      <th>Color_Green</th>\n",
       "      <th>Color_Red</th>\n",
       "    </tr>\n",
       "  </thead>\n",
       "  <tbody>\n",
       "    <tr>\n",
       "      <th>0</th>\n",
       "      <td>False</td>\n",
       "      <td>True</td>\n",
       "    </tr>\n",
       "    <tr>\n",
       "      <th>1</th>\n",
       "      <td>False</td>\n",
       "      <td>False</td>\n",
       "    </tr>\n",
       "    <tr>\n",
       "      <th>2</th>\n",
       "      <td>True</td>\n",
       "      <td>False</td>\n",
       "    </tr>\n",
       "    <tr>\n",
       "      <th>3</th>\n",
       "      <td>False</td>\n",
       "      <td>True</td>\n",
       "    </tr>\n",
       "    <tr>\n",
       "      <th>4</th>\n",
       "      <td>True</td>\n",
       "      <td>False</td>\n",
       "    </tr>\n",
       "  </tbody>\n",
       "</table>\n",
       "</div>"
      ],
      "text/plain": [
       "   Color_Green  Color_Red\n",
       "0        False       True\n",
       "1        False      False\n",
       "2         True      False\n",
       "3        False       True\n",
       "4         True      False"
      ]
     },
     "execution_count": 17,
     "metadata": {},
     "output_type": "execute_result"
    }
   ],
   "source": [
    "# Using pandas get_dummies with drop_first\n",
    "encoded_df = pd.get_dummies(data['Color'], prefix='Color', drop_first=True)\n",
    "encoded_df"
   ]
  },
  {
   "cell_type": "markdown",
   "metadata": {},
   "source": [
    "### <a id='toc2_3_'></a>[When to Use and Practical Considerations](#toc0_)\n"
   ]
  },
  {
   "cell_type": "markdown",
   "metadata": {},
   "source": [
    "Choosing the right encoding method is crucial for model performance. One-hot encoding is often a good starting point, but it's important to consider its limitations and alternatives.\n"
   ]
  },
  {
   "cell_type": "markdown",
   "metadata": {},
   "source": [
    "One-hot encoding is particularly useful in the following scenarios:\n",
    "- When dealing with nominal categorical variables (no inherent order)\n",
    "- When the number of unique categories is relatively small\n",
    "- When you want to preserve the exact category information without any assumed relationships\n"
   ]
  },
  {
   "cell_type": "markdown",
   "metadata": {},
   "source": [
    "However, there are some practical considerations to keep in mind:\n",
    "- Memory usage can be significant for large datasets with high-cardinality variables\n",
    "- Handling new categories in test data that weren't present in training data can be challenging\n"
   ]
  },
  {
   "cell_type": "markdown",
   "metadata": {},
   "source": [
    "🤔 **Why This Matters:** The choice of encoding method can significantly impact your model's performance and efficiency. While one-hot encoding is widely used, it's important to evaluate its suitability for your specific problem and data characteristics.\n"
   ]
  },
  {
   "cell_type": "markdown",
   "metadata": {},
   "source": [
    "❗️ **Important Note:** Always apply one-hot encoding separately to your training and test sets to prevent data leakage. Use the categories learned from the training set when encoding the test set.\n"
   ]
  }
 ],
 "metadata": {
  "kernelspec": {
   "display_name": "py310",
   "language": "python",
   "name": "python3"
  },
  "language_info": {
   "codemirror_mode": {
    "name": "ipython",
    "version": 3
   },
   "file_extension": ".py",
   "mimetype": "text/x-python",
   "name": "python",
   "nbconvert_exporter": "python",
   "pygments_lexer": "ipython3",
   "version": "3.10.12"
  }
 },
 "nbformat": 4,
 "nbformat_minor": 2
}
