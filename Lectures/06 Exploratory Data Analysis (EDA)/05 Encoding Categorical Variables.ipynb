{
 "cells": [
  {
   "cell_type": "markdown",
   "metadata": {},
   "source": [
    "<img src=\"./images/banner.png\" width=\"800\">"
   ]
  },
  {
   "cell_type": "markdown",
   "metadata": {},
   "source": [
    "TODO:\n",
    "- Use titanic dataset\n",
    "- Comparison between different encoding techniques\n",
    "- Use PCA to visualize the embeddings\n"
   ]
  },
  {
   "cell_type": "markdown",
   "metadata": {},
   "source": [
    "# Encoding Categorical Variables"
   ]
  },
  {
   "cell_type": "markdown",
   "metadata": {},
   "source": [
    "Categorical variables are a fundamental data type in machine learning and statistical analysis. These variables represent qualitative data that can be divided into distinct categories or groups. Understanding and properly handling categorical variables is crucial for effective data preprocessing and model performance.\n"
   ]
  },
  {
   "cell_type": "markdown",
   "metadata": {},
   "source": [
    "Categorical variables, also known as nominal variables, are variables that can take on one of a limited number of possible values or categories. Unlike numerical variables, categorical variables don't have a natural numerical order or magnitude.\n"
   ]
  },
  {
   "cell_type": "markdown",
   "metadata": {},
   "source": [
    "Examples of categorical variables include:\n",
    "- Color (red, blue, green)\n",
    "- Gender (male, female, non-binary)\n",
    "- Country (USA, Canada, Japan)\n",
    "- Product type (electronics, clothing, food)\n"
   ]
  },
  {
   "cell_type": "markdown",
   "metadata": {},
   "source": [
    "Categorical variables can be further classified into two main types:\n",
    "\n",
    "1. **Nominal Variables:** Categories without any natural order or ranking.\n",
    "   Example: Blood types (A, B, AB, O)\n",
    "\n",
    "2. **Ordinal Variables:** Categories with a meaningful order or ranking.\n",
    "   Example: Education level (High School, Bachelor's, Master's, PhD)\n"
   ]
  },
  {
   "cell_type": "markdown",
   "metadata": {},
   "source": [
    "Machine learning algorithms typically work with numerical data. Therefore, we need to convert categorical variables into a numerical format that algorithms can understand and process effectively. This process is called encoding.\n"
   ]
  },
  {
   "cell_type": "markdown",
   "metadata": {},
   "source": [
    "🤔 **Why This Matters:** Proper encoding of categorical variables is essential for:\n",
    "- Improving model performance\n",
    "- Capturing the inherent information in the categories\n",
    "- Enabling algorithms to process and learn from categorical data\n"
   ]
  },
  {
   "cell_type": "markdown",
   "metadata": {},
   "source": [
    "Working with categorical variables presents several challenges:\n",
    "\n",
    "1. **High Cardinality:** When a categorical variable has many unique categories, it can lead to the \"curse of dimensionality\" and overfitting.\n",
    "\n",
    "2. **Rare Categories:** Some categories may appear very infrequently in the dataset, making it difficult for models to learn from them.\n",
    "\n",
    "3. **New Categories:** In real-world applications, new categories may appear in test data that were not present in the training data.\n",
    "\n",
    "4. **Ordinal Relationships:** Some encoding methods may introduce unintended ordinal relationships between categories.\n"
   ]
  },
  {
   "cell_type": "markdown",
   "metadata": {},
   "source": [
    "There are various techniques for encoding categorical variables, each with its own strengths and use cases. Some common methods include:\n",
    "\n",
    "- One-Hot Encoding\n",
    "- Label Encoding\n",
    "- Ordinal Encoding\n",
    "- Target Encoding\n",
    "- Frequency Encoding\n",
    "- Binary Encoding\n",
    "- Hashing Encoding\n",
    "- Leave-One-Out Encoding\n",
    "- Embedding Encoding\n",
    "- Weight of Evidence (WOE) Encoding\n"
   ]
  },
  {
   "cell_type": "markdown",
   "metadata": {},
   "source": [
    "💡 **Pro Tip:** The choice of encoding method can significantly impact model performance. It's often beneficial to experiment with different encoding techniques and evaluate their effect on your specific problem.\n"
   ]
  },
  {
   "cell_type": "markdown",
   "metadata": {},
   "source": [
    "In the following sections, we'll dive deep into each of these encoding techniques, exploring their mechanics, advantages, disadvantages, and appropriate use cases.\n"
   ]
  },
  {
   "cell_type": "markdown",
   "metadata": {},
   "source": [
    "❗️ **Important Note:** Always split your data into training and testing sets before applying any encoding technique to prevent data leakage and ensure the integrity of your model evaluation."
   ]
  },
  {
   "cell_type": "markdown",
   "metadata": {},
   "source": [
    "**Table of contents**<a id='toc0_'></a>    \n",
    "- [Label Encoding and Ordinal Encoding](#toc1_)    \n",
    "  - [Ordinal Encoding](#toc1_1_)    \n",
    "  - [Limitations and Considerations](#toc1_2_)    \n",
    "- [One-Hot Encoding](#toc2_)    \n",
    "  - [Understanding One-Hot Encoding](#toc2_1_)    \n",
    "  - [Advantages of One-Hot Encoding](#toc2_2_)    \n",
    "  - [Handling Multiple Categorical Variables](#toc2_3_)    \n",
    "  - [Considerations and Potential Drawbacks](#toc2_4_)    \n",
    "  - [The Dummy Variable Trap](#toc2_5_)    \n",
    "- [Target Encoding](#toc3_)    \n",
    "  - [Understanding Target Encoding](#toc3_1_)    \n",
    "  - [Advantages of Target Encoding](#toc3_2_)    \n",
    "  - [Smoothing in Target Encoding](#toc3_3_)    \n",
    "  - [Considerations and Potential Drawbacks](#toc3_4_)    \n",
    "- [Frequency Encoding](#toc4_)    \n",
    "  - [Understanding Frequency Encoding](#toc4_1_)    \n",
    "  - [Advantages of Frequency Encoding](#toc4_2_)    \n",
    "  - [Variations of Frequency Encoding](#toc4_3_)    \n",
    "  - [Considerations and Potential Drawbacks](#toc4_4_)    \n",
    "  - [Handling New Categories in Test Data](#toc4_5_)    \n",
    "- [Binary Encoding](#toc5_)    \n",
    "  - [Understanding Binary Encoding](#toc5_1_)    \n",
    "  - [How Binary Encoding Works](#toc5_2_)    \n",
    "  - [Advantages of Binary Encoding](#toc5_3_)    \n",
    "  - [Implementing Binary Encoding](#toc5_4_)    \n",
    "  - [Considerations and Potential Drawbacks](#toc5_5_)    \n",
    "  - [Comparison with Other Encoding Methods](#toc5_6_)    \n",
    "- [Embedding Encoding](#toc6_)    \n",
    "  - [Using Pre-trained Embeddings](#toc6_1_)    \n",
    "  - [Advantages of Embedding Encoding](#toc6_2_)    \n",
    "  - [Visualizing Embeddings](#toc6_3_)    \n",
    "  - [Considerations and Potential Drawbacks](#toc6_4_)    \n",
    "  - [Handling New Categories in Test Data](#toc6_5_)    \n",
    "  - [Comparison with Other Encoding Methods](#toc6_6_)    \n",
    "\n",
    "<!-- vscode-jupyter-toc-config\n",
    "\tnumbering=false\n",
    "\tanchor=true\n",
    "\tflat=false\n",
    "\tminLevel=2\n",
    "\tmaxLevel=6\n",
    "\t/vscode-jupyter-toc-config -->\n",
    "<!-- THIS CELL WILL BE REPLACED ON TOC UPDATE. DO NOT WRITE YOUR TEXT IN THIS CELL -->"
   ]
  },
  {
   "cell_type": "markdown",
   "metadata": {},
   "source": [
    "## <a id='toc1_'></a>[Label Encoding and Ordinal Encoding](#toc0_)"
   ]
  },
  {
   "cell_type": "markdown",
   "metadata": {},
   "source": [
    "In the world of machine learning and data preprocessing, Label Encoding and Ordinal Encoding are two fundamental techniques used to convert categorical variables into numerical format. These methods are particularly useful when dealing with ordinal data or when we need to represent categories in a compact numerical form. Let's dive into these encoding techniques, understand their similarities and differences, and explore their applications and limitations.\n"
   ]
  },
  {
   "cell_type": "markdown",
   "metadata": {},
   "source": [
    "Label Encoding is a simple and intuitive method of converting categorical variables into numerical values. It assigns a unique integer to each category, effectively creating a numerical representation of the categorical data.\n"
   ]
  },
  {
   "cell_type": "markdown",
   "metadata": {},
   "source": [
    "Label Encoding is particularly useful when there's a natural order or hierarchy in the categories. Let's consider an example to illustrate this:\n"
   ]
  },
  {
   "cell_type": "code",
   "execution_count": 1,
   "metadata": {},
   "outputs": [
    {
     "name": "stdout",
     "output_type": "stream",
     "text": [
      "Original levels: ['High School', 'Bachelor', 'Master', 'PhD']\n",
      "Encoded levels: [1 0 2 3]\n"
     ]
    }
   ],
   "source": [
    "from sklearn.preprocessing import LabelEncoder\n",
    "\n",
    "# Example: Education levels\n",
    "education_levels = ['High School', 'Bachelor', 'Master', 'PhD']\n",
    "\n",
    "le = LabelEncoder()\n",
    "encoded_levels = le.fit_transform(education_levels)\n",
    "\n",
    "print(\"Original levels:\", education_levels)\n",
    "print(\"Encoded levels:\", encoded_levels)"
   ]
  },
  {
   "cell_type": "markdown",
   "metadata": {},
   "source": [
    "🔑 **Key Concept:** In this case, Label Encoding preserves the ordinal relationship between education levels, which can be meaningful for many machine learning algorithms.\n"
   ]
  },
  {
   "cell_type": "markdown",
   "metadata": {},
   "source": [
    "Label Encoding is often used for encoding target variables in classification problems. Here's an example:\n"
   ]
  },
  {
   "cell_type": "code",
   "execution_count": 2,
   "metadata": {},
   "outputs": [
    {
     "name": "stdout",
     "output_type": "stream",
     "text": [
      "Original responses: ['Satisfied', 'Unsatisfied', 'Very Satisfied', 'Neutral', 'Satisfied']\n",
      "Encoded responses: [1 2 3 0 1]\n"
     ]
    }
   ],
   "source": [
    "# Example: Customer Satisfaction Levels\n",
    "satisfaction_levels = ['Unsatisfied', 'Neutral', 'Satisfied', 'Very Satisfied']\n",
    "customer_responses = ['Satisfied', 'Unsatisfied', 'Very Satisfied', 'Neutral', 'Satisfied']\n",
    "\n",
    "le = LabelEncoder()\n",
    "encoded_responses = le.fit_transform(customer_responses)\n",
    "\n",
    "print(\"Original responses:\", customer_responses)\n",
    "print(\"Encoded responses:\", encoded_responses)"
   ]
  },
  {
   "cell_type": "markdown",
   "metadata": {},
   "source": [
    "Output:\n",
    "```\n",
    "Original responses: ['Satisfied', 'Unsatisfied', 'Very Satisfied', 'Neutral', 'Satisfied']\n",
    "Encoded responses: [2 3 1 0 2]\n",
    "```\n"
   ]
  },
  {
   "cell_type": "markdown",
   "metadata": {},
   "source": [
    "💡 **Pro Tip:** When using Label Encoding for target variables, be aware that some algorithms may interpret the encoded values as having numerical significance. In such cases, you might need to use techniques like One-Hot Encoding for the input features to prevent the model from assuming ordinal relationships where none exist.\n"
   ]
  },
  {
   "cell_type": "markdown",
   "metadata": {},
   "source": [
    "### <a id='toc1_1_'></a>[Ordinal Encoding](#toc0_)\n"
   ]
  },
  {
   "cell_type": "markdown",
   "metadata": {},
   "source": [
    "Ordinal Encoding is similar to Label Encoding but is specifically designed for handling multiple categorical features simultaneously. It's particularly useful when dealing with ordinal variables across multiple columns in your dataset.\n"
   ]
  },
  {
   "cell_type": "markdown",
   "metadata": {},
   "source": [
    "While both Label Encoding and Ordinal Encoding serve the purpose of converting categories to numbers, they differ in their implementation and typical use cases:\n",
    "\n",
    "1. **Dimensionality:** OrdinalEncoder can handle multiple features (columns) at once, while LabelEncoder is designed for a single array of labels.\n",
    "\n",
    "2. **Input Shape:** OrdinalEncoder expects input data with shape (n_samples, n_features), whereas LabelEncoder expects (n_samples,).\n",
    "\n",
    "3. **Typical Usage:** OrdinalEncoder is commonly used for feature encoding, while LabelEncoder is often applied to target variables.\n"
   ]
  },
  {
   "cell_type": "markdown",
   "metadata": {},
   "source": [
    "Let's see an example of Ordinal Encoding:\n"
   ]
  },
  {
   "cell_type": "code",
   "execution_count": 4,
   "metadata": {},
   "outputs": [],
   "source": [
    "from sklearn.preprocessing import OrdinalEncoder\n",
    "\n",
    "# Example: Multiple ordinal features\n",
    "data = [\n",
    "    ['Low', 'Warm', 'Fast'],\n",
    "    ['Medium', 'Cold', 'Slow'],\n",
    "    ['High', 'Hot', 'Medium']\n",
    "]\n",
    "\n",
    "oe = OrdinalEncoder()\n",
    "encoded_data = oe.fit_transform(data)"
   ]
  },
  {
   "cell_type": "code",
   "execution_count": 6,
   "metadata": {},
   "outputs": [
    {
     "name": "stdout",
     "output_type": "stream",
     "text": [
      "Original data:\n"
     ]
    },
    {
     "data": {
      "text/plain": [
       "[['Low', 'Warm', 'Fast'],\n",
       " ['Medium', 'Cold', 'Slow'],\n",
       " ['High', 'Hot', 'Medium']]"
      ]
     },
     "execution_count": 6,
     "metadata": {},
     "output_type": "execute_result"
    }
   ],
   "source": [
    "print(\"Original data:\")\n",
    "data"
   ]
  },
  {
   "cell_type": "code",
   "execution_count": 7,
   "metadata": {},
   "outputs": [
    {
     "name": "stdout",
     "output_type": "stream",
     "text": [
      "\n",
      "Encoded data:\n"
     ]
    },
    {
     "data": {
      "text/plain": [
       "array([[1., 2., 0.],\n",
       "       [2., 0., 2.],\n",
       "       [0., 1., 1.]])"
      ]
     },
     "execution_count": 7,
     "metadata": {},
     "output_type": "execute_result"
    }
   ],
   "source": [
    "print(\"\\nEncoded data:\")\n",
    "encoded_data"
   ]
  },
  {
   "cell_type": "markdown",
   "metadata": {},
   "source": [
    "🤔 **Why This Matters:** Ordinal Encoding allows us to efficiently encode multiple categorical features while preserving their ordinal relationships, if they exist.\n"
   ]
  },
  {
   "cell_type": "markdown",
   "metadata": {},
   "source": [
    "### <a id='toc1_2_'></a>[Limitations and Considerations](#toc0_)\n"
   ]
  },
  {
   "cell_type": "markdown",
   "metadata": {},
   "source": [
    "While Label Encoding and Ordinal Encoding are powerful tools, they come with some important considerations:\n",
    "\n",
    "1. **Assumed Ordinal Relationship:** Both methods assume an ordinal relationship between categories. This can be misleading if no such relationship exists.\n",
    "\n",
    "2. **Arbitrary Numerical Assignment:** For non-ordinal categories, the numerical assignment is arbitrary and may introduce unintended relationships.\n"
   ]
  },
  {
   "cell_type": "markdown",
   "metadata": {},
   "source": [
    "Consider this example where Label Encoding might be misleading:\n"
   ]
  },
  {
   "cell_type": "code",
   "execution_count": 8,
   "metadata": {},
   "outputs": [
    {
     "name": "stdout",
     "output_type": "stream",
     "text": [
      "Original colors: ['Red', 'Blue', 'Green', 'Yellow']\n",
      "Encoded colors: [2 0 1 3]\n"
     ]
    }
   ],
   "source": [
    "# Example: Colors (non-ordinal)\n",
    "colors = ['Red', 'Blue', 'Green', 'Yellow']\n",
    "\n",
    "le = LabelEncoder()\n",
    "encoded_colors = le.fit_transform(colors)\n",
    "\n",
    "print(\"Original colors:\", colors)\n",
    "print(\"Encoded colors:\", encoded_colors)"
   ]
  },
  {
   "cell_type": "markdown",
   "metadata": {},
   "source": [
    "❗️ **Important Note:** In this case, the encoding suggests that 'Blue' (0) is somehow less than 'Green' (1), which is not a meaningful relationship for colors.\n"
   ]
  },
  {
   "cell_type": "markdown",
   "metadata": {},
   "source": [
    "In situations where categories don't have a natural order, other encoding techniques like One-Hot Encoding might be more appropriate. We'll explore these alternatives in the upcoming sections."
   ]
  },
  {
   "cell_type": "markdown",
   "metadata": {},
   "source": [
    "## <a id='toc2_'></a>[One-Hot Encoding](#toc0_)"
   ]
  },
  {
   "cell_type": "markdown",
   "metadata": {},
   "source": [
    "One-Hot Encoding is a popular and widely used technique for handling categorical variables in machine learning. It's particularly useful when dealing with nominal categorical variables, where there's no inherent order among the categories. This method creates new binary columns for each category, effectively representing the presence or absence of a category for each observation.\n"
   ]
  },
  {
   "cell_type": "markdown",
   "metadata": {},
   "source": [
    "### <a id='toc2_1_'></a>[Understanding One-Hot Encoding](#toc0_)\n"
   ]
  },
  {
   "cell_type": "markdown",
   "metadata": {},
   "source": [
    "One-Hot Encoding works by creating a new binary column for each unique category in the original categorical variable. Each observation will have a '1' in the column corresponding to its category and '0' in all other columns.\n"
   ]
  },
  {
   "cell_type": "markdown",
   "metadata": {},
   "source": [
    "🔑 **Key Concept:** One-Hot Encoding transforms a single categorical variable into multiple binary variables, each representing a unique category.\n"
   ]
  },
  {
   "cell_type": "markdown",
   "metadata": {},
   "source": [
    "Let's start with a simple example to illustrate this concept:\n"
   ]
  },
  {
   "cell_type": "code",
   "execution_count": 19,
   "metadata": {},
   "outputs": [],
   "source": [
    "import pandas as pd\n",
    "from sklearn.preprocessing import OneHotEncoder\n",
    "\n",
    "# Sample data\n",
    "data = pd.DataFrame({'Color': ['Red', 'Blue', 'Green', 'Red', 'Green']})\n",
    "\n",
    "# Initialize and fit the OneHotEncoder\n",
    "encoder = OneHotEncoder(sparse_output=False)\n",
    "encoded_data = encoder.fit_transform(data[['Color']])\n",
    "\n",
    "# Create a new dataframe with encoded values\n",
    "encoded_df = pd.DataFrame(encoded_data, columns=encoder.get_feature_names_out(['Color']))"
   ]
  },
  {
   "cell_type": "code",
   "execution_count": 21,
   "metadata": {},
   "outputs": [
    {
     "name": "stdout",
     "output_type": "stream",
     "text": [
      "Original data:\n"
     ]
    },
    {
     "data": {
      "text/html": [
       "<div>\n",
       "<style scoped>\n",
       "    .dataframe tbody tr th:only-of-type {\n",
       "        vertical-align: middle;\n",
       "    }\n",
       "\n",
       "    .dataframe tbody tr th {\n",
       "        vertical-align: top;\n",
       "    }\n",
       "\n",
       "    .dataframe thead th {\n",
       "        text-align: right;\n",
       "    }\n",
       "</style>\n",
       "<table border=\"1\" class=\"dataframe\">\n",
       "  <thead>\n",
       "    <tr style=\"text-align: right;\">\n",
       "      <th></th>\n",
       "      <th>Color</th>\n",
       "    </tr>\n",
       "  </thead>\n",
       "  <tbody>\n",
       "    <tr>\n",
       "      <th>0</th>\n",
       "      <td>Red</td>\n",
       "    </tr>\n",
       "    <tr>\n",
       "      <th>1</th>\n",
       "      <td>Blue</td>\n",
       "    </tr>\n",
       "    <tr>\n",
       "      <th>2</th>\n",
       "      <td>Green</td>\n",
       "    </tr>\n",
       "    <tr>\n",
       "      <th>3</th>\n",
       "      <td>Red</td>\n",
       "    </tr>\n",
       "    <tr>\n",
       "      <th>4</th>\n",
       "      <td>Green</td>\n",
       "    </tr>\n",
       "  </tbody>\n",
       "</table>\n",
       "</div>"
      ],
      "text/plain": [
       "   Color\n",
       "0    Red\n",
       "1   Blue\n",
       "2  Green\n",
       "3    Red\n",
       "4  Green"
      ]
     },
     "execution_count": 21,
     "metadata": {},
     "output_type": "execute_result"
    }
   ],
   "source": [
    "print(\"Original data:\")\n",
    "data\n"
   ]
  },
  {
   "cell_type": "code",
   "execution_count": 22,
   "metadata": {},
   "outputs": [
    {
     "name": "stdout",
     "output_type": "stream",
     "text": [
      "One-Hot Encoded data:\n"
     ]
    },
    {
     "data": {
      "text/html": [
       "<div>\n",
       "<style scoped>\n",
       "    .dataframe tbody tr th:only-of-type {\n",
       "        vertical-align: middle;\n",
       "    }\n",
       "\n",
       "    .dataframe tbody tr th {\n",
       "        vertical-align: top;\n",
       "    }\n",
       "\n",
       "    .dataframe thead th {\n",
       "        text-align: right;\n",
       "    }\n",
       "</style>\n",
       "<table border=\"1\" class=\"dataframe\">\n",
       "  <thead>\n",
       "    <tr style=\"text-align: right;\">\n",
       "      <th></th>\n",
       "      <th>Color_Blue</th>\n",
       "      <th>Color_Green</th>\n",
       "      <th>Color_Red</th>\n",
       "    </tr>\n",
       "  </thead>\n",
       "  <tbody>\n",
       "    <tr>\n",
       "      <th>0</th>\n",
       "      <td>0.0</td>\n",
       "      <td>0.0</td>\n",
       "      <td>1.0</td>\n",
       "    </tr>\n",
       "    <tr>\n",
       "      <th>1</th>\n",
       "      <td>1.0</td>\n",
       "      <td>0.0</td>\n",
       "      <td>0.0</td>\n",
       "    </tr>\n",
       "    <tr>\n",
       "      <th>2</th>\n",
       "      <td>0.0</td>\n",
       "      <td>1.0</td>\n",
       "      <td>0.0</td>\n",
       "    </tr>\n",
       "    <tr>\n",
       "      <th>3</th>\n",
       "      <td>0.0</td>\n",
       "      <td>0.0</td>\n",
       "      <td>1.0</td>\n",
       "    </tr>\n",
       "    <tr>\n",
       "      <th>4</th>\n",
       "      <td>0.0</td>\n",
       "      <td>1.0</td>\n",
       "      <td>0.0</td>\n",
       "    </tr>\n",
       "  </tbody>\n",
       "</table>\n",
       "</div>"
      ],
      "text/plain": [
       "   Color_Blue  Color_Green  Color_Red\n",
       "0         0.0          0.0        1.0\n",
       "1         1.0          0.0        0.0\n",
       "2         0.0          1.0        0.0\n",
       "3         0.0          0.0        1.0\n",
       "4         0.0          1.0        0.0"
      ]
     },
     "execution_count": 22,
     "metadata": {},
     "output_type": "execute_result"
    }
   ],
   "source": [
    "print(\"One-Hot Encoded data:\")\n",
    "encoded_df"
   ]
  },
  {
   "cell_type": "markdown",
   "metadata": {},
   "source": [
    "### <a id='toc2_2_'></a>[Advantages of One-Hot Encoding](#toc0_)\n"
   ]
  },
  {
   "cell_type": "markdown",
   "metadata": {},
   "source": [
    "One-Hot Encoding offers several benefits in data preprocessing and model training:\n",
    "\n",
    "1. **No Ordinal Relationship:** It doesn't impose any ordinal relationship between categories, making it suitable for nominal variables.\n",
    "\n",
    "2. **Model Interpretability:** Each category becomes its own feature, making it easier to interpret the impact of each category on the model's predictions.\n",
    "\n",
    "3. **Compatibility:** Most machine learning algorithms can work with one-hot encoded features without any issues.\n"
   ]
  },
  {
   "cell_type": "markdown",
   "metadata": {},
   "source": [
    "💡 **Pro Tip:** One-Hot Encoding is particularly useful when you want to preserve the categorical nature of your variables without introducing any artificial ordering.\n"
   ]
  },
  {
   "cell_type": "markdown",
   "metadata": {},
   "source": [
    "### <a id='toc2_3_'></a>[Handling Multiple Categorical Variables](#toc0_)\n"
   ]
  },
  {
   "cell_type": "markdown",
   "metadata": {},
   "source": [
    "One-Hot Encoding can be applied to multiple categorical variables simultaneously. Let's look at an example with two categorical variables:\n"
   ]
  },
  {
   "cell_type": "code",
   "execution_count": 24,
   "metadata": {},
   "outputs": [],
   "source": [
    "import pandas as pd\n",
    "from sklearn.preprocessing import OneHotEncoder\n",
    "\n",
    "# Sample data with multiple categorical variables\n",
    "data = pd.DataFrame({\n",
    "    'Color': ['Red', 'Blue', 'Green', 'Red', 'Green'],\n",
    "    'Size': ['Small', 'Medium', 'Large', 'Medium', 'Small']\n",
    "})\n",
    "\n",
    "# Initialize and fit the OneHotEncoder\n",
    "encoder = OneHotEncoder(sparse_output=False)\n",
    "encoded_data = encoder.fit_transform(data)\n",
    "\n",
    "# Create a new dataframe with encoded values\n",
    "encoded_df = pd.DataFrame(encoded_data, columns=encoder.get_feature_names_out(data.columns))"
   ]
  },
  {
   "cell_type": "code",
   "execution_count": 25,
   "metadata": {},
   "outputs": [
    {
     "name": "stdout",
     "output_type": "stream",
     "text": [
      "Original data:\n"
     ]
    },
    {
     "data": {
      "text/html": [
       "<div>\n",
       "<style scoped>\n",
       "    .dataframe tbody tr th:only-of-type {\n",
       "        vertical-align: middle;\n",
       "    }\n",
       "\n",
       "    .dataframe tbody tr th {\n",
       "        vertical-align: top;\n",
       "    }\n",
       "\n",
       "    .dataframe thead th {\n",
       "        text-align: right;\n",
       "    }\n",
       "</style>\n",
       "<table border=\"1\" class=\"dataframe\">\n",
       "  <thead>\n",
       "    <tr style=\"text-align: right;\">\n",
       "      <th></th>\n",
       "      <th>Color</th>\n",
       "      <th>Size</th>\n",
       "    </tr>\n",
       "  </thead>\n",
       "  <tbody>\n",
       "    <tr>\n",
       "      <th>0</th>\n",
       "      <td>Red</td>\n",
       "      <td>Small</td>\n",
       "    </tr>\n",
       "    <tr>\n",
       "      <th>1</th>\n",
       "      <td>Blue</td>\n",
       "      <td>Medium</td>\n",
       "    </tr>\n",
       "    <tr>\n",
       "      <th>2</th>\n",
       "      <td>Green</td>\n",
       "      <td>Large</td>\n",
       "    </tr>\n",
       "    <tr>\n",
       "      <th>3</th>\n",
       "      <td>Red</td>\n",
       "      <td>Medium</td>\n",
       "    </tr>\n",
       "    <tr>\n",
       "      <th>4</th>\n",
       "      <td>Green</td>\n",
       "      <td>Small</td>\n",
       "    </tr>\n",
       "  </tbody>\n",
       "</table>\n",
       "</div>"
      ],
      "text/plain": [
       "   Color    Size\n",
       "0    Red   Small\n",
       "1   Blue  Medium\n",
       "2  Green   Large\n",
       "3    Red  Medium\n",
       "4  Green   Small"
      ]
     },
     "execution_count": 25,
     "metadata": {},
     "output_type": "execute_result"
    }
   ],
   "source": [
    "print(\"Original data:\")\n",
    "data"
   ]
  },
  {
   "cell_type": "code",
   "execution_count": 26,
   "metadata": {},
   "outputs": [
    {
     "name": "stdout",
     "output_type": "stream",
     "text": [
      "One-Hot Encoded data:\n"
     ]
    },
    {
     "data": {
      "text/html": [
       "<div>\n",
       "<style scoped>\n",
       "    .dataframe tbody tr th:only-of-type {\n",
       "        vertical-align: middle;\n",
       "    }\n",
       "\n",
       "    .dataframe tbody tr th {\n",
       "        vertical-align: top;\n",
       "    }\n",
       "\n",
       "    .dataframe thead th {\n",
       "        text-align: right;\n",
       "    }\n",
       "</style>\n",
       "<table border=\"1\" class=\"dataframe\">\n",
       "  <thead>\n",
       "    <tr style=\"text-align: right;\">\n",
       "      <th></th>\n",
       "      <th>Color_Blue</th>\n",
       "      <th>Color_Green</th>\n",
       "      <th>Color_Red</th>\n",
       "      <th>Size_Large</th>\n",
       "      <th>Size_Medium</th>\n",
       "      <th>Size_Small</th>\n",
       "    </tr>\n",
       "  </thead>\n",
       "  <tbody>\n",
       "    <tr>\n",
       "      <th>0</th>\n",
       "      <td>0.0</td>\n",
       "      <td>0.0</td>\n",
       "      <td>1.0</td>\n",
       "      <td>0.0</td>\n",
       "      <td>0.0</td>\n",
       "      <td>1.0</td>\n",
       "    </tr>\n",
       "    <tr>\n",
       "      <th>1</th>\n",
       "      <td>1.0</td>\n",
       "      <td>0.0</td>\n",
       "      <td>0.0</td>\n",
       "      <td>0.0</td>\n",
       "      <td>1.0</td>\n",
       "      <td>0.0</td>\n",
       "    </tr>\n",
       "    <tr>\n",
       "      <th>2</th>\n",
       "      <td>0.0</td>\n",
       "      <td>1.0</td>\n",
       "      <td>0.0</td>\n",
       "      <td>1.0</td>\n",
       "      <td>0.0</td>\n",
       "      <td>0.0</td>\n",
       "    </tr>\n",
       "    <tr>\n",
       "      <th>3</th>\n",
       "      <td>0.0</td>\n",
       "      <td>0.0</td>\n",
       "      <td>1.0</td>\n",
       "      <td>0.0</td>\n",
       "      <td>1.0</td>\n",
       "      <td>0.0</td>\n",
       "    </tr>\n",
       "    <tr>\n",
       "      <th>4</th>\n",
       "      <td>0.0</td>\n",
       "      <td>1.0</td>\n",
       "      <td>0.0</td>\n",
       "      <td>0.0</td>\n",
       "      <td>0.0</td>\n",
       "      <td>1.0</td>\n",
       "    </tr>\n",
       "  </tbody>\n",
       "</table>\n",
       "</div>"
      ],
      "text/plain": [
       "   Color_Blue  Color_Green  Color_Red  Size_Large  Size_Medium  Size_Small\n",
       "0         0.0          0.0        1.0         0.0          0.0         1.0\n",
       "1         1.0          0.0        0.0         0.0          1.0         0.0\n",
       "2         0.0          1.0        0.0         1.0          0.0         0.0\n",
       "3         0.0          0.0        1.0         0.0          1.0         0.0\n",
       "4         0.0          1.0        0.0         0.0          0.0         1.0"
      ]
     },
     "execution_count": 26,
     "metadata": {},
     "output_type": "execute_result"
    }
   ],
   "source": [
    "print(\"One-Hot Encoded data:\")\n",
    "encoded_df"
   ]
  },
  {
   "cell_type": "markdown",
   "metadata": {},
   "source": [
    "### <a id='toc2_4_'></a>[Considerations and Potential Drawbacks](#toc0_)\n"
   ]
  },
  {
   "cell_type": "markdown",
   "metadata": {},
   "source": [
    "While One-Hot Encoding is powerful, it's important to be aware of its limitations:\n",
    "\n",
    "1. **Curse of Dimensionality:** For categorical variables with many unique categories, One-Hot Encoding can lead to a large number of new features, potentially causing the \"curse of dimensionality.\"\n",
    "\n",
    "2. **Memory Usage:** One-Hot Encoded data can be memory-intensive, especially for large datasets with high-cardinality categorical variables.\n",
    "\n",
    "3. **Multicollinearity:** It introduces perfect multicollinearity among the encoded features, which can be problematic for some algorithms (e.g., linear regression).\n"
   ]
  },
  {
   "cell_type": "markdown",
   "metadata": {},
   "source": [
    "🤔 **Why This Matters:** Understanding these limitations helps in deciding when to use One-Hot Encoding and when to consider alternative encoding methods.\n"
   ]
  },
  {
   "cell_type": "markdown",
   "metadata": {},
   "source": [
    "### <a id='toc2_5_'></a>[The Dummy Variable Trap](#toc0_)\n"
   ]
  },
  {
   "cell_type": "markdown",
   "metadata": {},
   "source": [
    "When using One-Hot Encoding, it's important to be aware of the \"dummy variable trap.\" This occurs when you include all binary columns created by One-Hot Encoding, leading to perfect multicollinearity.\n"
   ]
  },
  {
   "cell_type": "markdown",
   "metadata": {},
   "source": [
    "To avoid this, you can drop one of the binary columns for each encoded categorical variable. This is known as using \"k-1\" categories, where k is the number of unique categories. You can do this manually or use the `drop='first'` parameter in the OneHotEncoder.\n"
   ]
  },
  {
   "cell_type": "code",
   "execution_count": 28,
   "metadata": {},
   "outputs": [
    {
     "name": "stdout",
     "output_type": "stream",
     "text": [
      "One-Hot Encoded data (avoiding dummy variable trap):\n"
     ]
    },
    {
     "data": {
      "text/html": [
       "<div>\n",
       "<style scoped>\n",
       "    .dataframe tbody tr th:only-of-type {\n",
       "        vertical-align: middle;\n",
       "    }\n",
       "\n",
       "    .dataframe tbody tr th {\n",
       "        vertical-align: top;\n",
       "    }\n",
       "\n",
       "    .dataframe thead th {\n",
       "        text-align: right;\n",
       "    }\n",
       "</style>\n",
       "<table border=\"1\" class=\"dataframe\">\n",
       "  <thead>\n",
       "    <tr style=\"text-align: right;\">\n",
       "      <th></th>\n",
       "      <th>Color_Blue</th>\n",
       "      <th>Color_Red</th>\n",
       "      <th>Size_Medium</th>\n",
       "      <th>Size_Small</th>\n",
       "    </tr>\n",
       "  </thead>\n",
       "  <tbody>\n",
       "    <tr>\n",
       "      <th>0</th>\n",
       "      <td>0.0</td>\n",
       "      <td>1.0</td>\n",
       "      <td>0.0</td>\n",
       "      <td>1.0</td>\n",
       "    </tr>\n",
       "    <tr>\n",
       "      <th>1</th>\n",
       "      <td>1.0</td>\n",
       "      <td>0.0</td>\n",
       "      <td>1.0</td>\n",
       "      <td>0.0</td>\n",
       "    </tr>\n",
       "    <tr>\n",
       "      <th>2</th>\n",
       "      <td>0.0</td>\n",
       "      <td>0.0</td>\n",
       "      <td>0.0</td>\n",
       "      <td>0.0</td>\n",
       "    </tr>\n",
       "    <tr>\n",
       "      <th>3</th>\n",
       "      <td>0.0</td>\n",
       "      <td>1.0</td>\n",
       "      <td>1.0</td>\n",
       "      <td>0.0</td>\n",
       "    </tr>\n",
       "    <tr>\n",
       "      <th>4</th>\n",
       "      <td>0.0</td>\n",
       "      <td>0.0</td>\n",
       "      <td>0.0</td>\n",
       "      <td>1.0</td>\n",
       "    </tr>\n",
       "  </tbody>\n",
       "</table>\n",
       "</div>"
      ],
      "text/plain": [
       "   Color_Blue  Color_Red  Size_Medium  Size_Small\n",
       "0         0.0        1.0          0.0         1.0\n",
       "1         1.0        0.0          1.0         0.0\n",
       "2         0.0        0.0          0.0         0.0\n",
       "3         0.0        1.0          1.0         0.0\n",
       "4         0.0        0.0          0.0         1.0"
      ]
     },
     "execution_count": 28,
     "metadata": {},
     "output_type": "execute_result"
    }
   ],
   "source": [
    "# Avoiding the dummy variable trap\n",
    "encoded_df_no_trap = encoded_df.drop(['Color_Green', 'Size_Large'], axis=1)\n",
    "\n",
    "print(\"One-Hot Encoded data (avoiding dummy variable trap):\")\n",
    "encoded_df_no_trap"
   ]
  },
  {
   "cell_type": "code",
   "execution_count": 32,
   "metadata": {},
   "outputs": [
    {
     "data": {
      "text/html": [
       "<div>\n",
       "<style scoped>\n",
       "    .dataframe tbody tr th:only-of-type {\n",
       "        vertical-align: middle;\n",
       "    }\n",
       "\n",
       "    .dataframe tbody tr th {\n",
       "        vertical-align: top;\n",
       "    }\n",
       "\n",
       "    .dataframe thead th {\n",
       "        text-align: right;\n",
       "    }\n",
       "</style>\n",
       "<table border=\"1\" class=\"dataframe\">\n",
       "  <thead>\n",
       "    <tr style=\"text-align: right;\">\n",
       "      <th></th>\n",
       "      <th>Color_Green</th>\n",
       "      <th>Color_Red</th>\n",
       "      <th>Size_Medium</th>\n",
       "      <th>Size_Small</th>\n",
       "    </tr>\n",
       "  </thead>\n",
       "  <tbody>\n",
       "    <tr>\n",
       "      <th>0</th>\n",
       "      <td>0.0</td>\n",
       "      <td>1.0</td>\n",
       "      <td>0.0</td>\n",
       "      <td>1.0</td>\n",
       "    </tr>\n",
       "    <tr>\n",
       "      <th>1</th>\n",
       "      <td>0.0</td>\n",
       "      <td>0.0</td>\n",
       "      <td>1.0</td>\n",
       "      <td>0.0</td>\n",
       "    </tr>\n",
       "    <tr>\n",
       "      <th>2</th>\n",
       "      <td>1.0</td>\n",
       "      <td>0.0</td>\n",
       "      <td>0.0</td>\n",
       "      <td>0.0</td>\n",
       "    </tr>\n",
       "    <tr>\n",
       "      <th>3</th>\n",
       "      <td>0.0</td>\n",
       "      <td>1.0</td>\n",
       "      <td>1.0</td>\n",
       "      <td>0.0</td>\n",
       "    </tr>\n",
       "    <tr>\n",
       "      <th>4</th>\n",
       "      <td>1.0</td>\n",
       "      <td>0.0</td>\n",
       "      <td>0.0</td>\n",
       "      <td>1.0</td>\n",
       "    </tr>\n",
       "  </tbody>\n",
       "</table>\n",
       "</div>"
      ],
      "text/plain": [
       "   Color_Green  Color_Red  Size_Medium  Size_Small\n",
       "0          0.0        1.0          0.0         1.0\n",
       "1          0.0        0.0          1.0         0.0\n",
       "2          1.0        0.0          0.0         0.0\n",
       "3          0.0        1.0          1.0         0.0\n",
       "4          1.0        0.0          0.0         1.0"
      ]
     },
     "execution_count": 32,
     "metadata": {},
     "output_type": "execute_result"
    }
   ],
   "source": [
    "encoder = OneHotEncoder(drop='first', sparse_output=False)\n",
    "encoded_df_no_trap = pd.DataFrame(encoder.fit_transform(data), columns=encoder.get_feature_names_out(data.columns))\n",
    "encoded_df_no_trap"
   ]
  },
  {
   "cell_type": "markdown",
   "metadata": {},
   "source": [
    "❗️ **Important Note:** Some algorithms and libraries (like scikit-learn) automatically handle the dummy variable trap, but it's always good to be aware of this issue when preprocessing your data."
   ]
  },
  {
   "cell_type": "markdown",
   "metadata": {},
   "source": [
    "In conclusion, One-Hot Encoding is a versatile and widely-used technique for handling categorical variables. Its ability to represent nominal categories without imposing order makes it a go-to choice for many data preprocessing tasks. However, it's important to consider its limitations, especially when dealing with high-cardinality categorical variables or large datasets."
   ]
  },
  {
   "cell_type": "markdown",
   "metadata": {},
   "source": [
    "## <a id='toc3_'></a>[Target Encoding](#toc0_)"
   ]
  },
  {
   "cell_type": "markdown",
   "metadata": {},
   "source": [
    "Target Encoding, also known as Mean Encoding or Likelihood Encoding, is an advanced technique for encoding categorical variables. This method replaces categories with a numerical value based on the target variable, making it particularly useful for high-cardinality features and in capturing complex relationships between categories and the target.\n"
   ]
  },
  {
   "cell_type": "markdown",
   "metadata": {},
   "source": [
    "### <a id='toc3_1_'></a>[Understanding Target Encoding](#toc0_)\n"
   ]
  },
  {
   "cell_type": "markdown",
   "metadata": {},
   "source": [
    "Target Encoding works by replacing each category with the mean (for regression) or proportion (for classification) of the target variable for that category. This approach can capture more information than simpler encoding methods, especially when there's a strong relationship between the category and the target variable.\n"
   ]
  },
  {
   "cell_type": "markdown",
   "metadata": {},
   "source": [
    "🔑 **Key Concept:** Target Encoding leverages the target variable to create a meaningful numerical representation of categorical features.\n"
   ]
  },
  {
   "cell_type": "markdown",
   "metadata": {},
   "source": [
    "Let's start with a simple example to illustrate this concept:\n"
   ]
  },
  {
   "cell_type": "code",
   "execution_count": 34,
   "metadata": {},
   "outputs": [],
   "source": [
    "import pandas as pd\n",
    "import numpy as np\n",
    "from sklearn.model_selection import train_test_split\n",
    "\n",
    "# Sample data\n",
    "np.random.seed(0)\n",
    "data = pd.DataFrame({\n",
    "    'City': np.random.choice(['New York', 'London', 'Paris', 'Tokyo'], 1000),\n",
    "    'Sales': np.random.normal(loc=100, scale=20, size=1000)\n",
    "})"
   ]
  },
  {
   "cell_type": "code",
   "execution_count": 35,
   "metadata": {},
   "outputs": [
    {
     "data": {
      "text/html": [
       "<div>\n",
       "<style scoped>\n",
       "    .dataframe tbody tr th:only-of-type {\n",
       "        vertical-align: middle;\n",
       "    }\n",
       "\n",
       "    .dataframe tbody tr th {\n",
       "        vertical-align: top;\n",
       "    }\n",
       "\n",
       "    .dataframe thead th {\n",
       "        text-align: right;\n",
       "    }\n",
       "</style>\n",
       "<table border=\"1\" class=\"dataframe\">\n",
       "  <thead>\n",
       "    <tr style=\"text-align: right;\">\n",
       "      <th></th>\n",
       "      <th>City</th>\n",
       "      <th>Sales</th>\n",
       "    </tr>\n",
       "  </thead>\n",
       "  <tbody>\n",
       "    <tr>\n",
       "      <th>0</th>\n",
       "      <td>New York</td>\n",
       "      <td>80.289785</td>\n",
       "    </tr>\n",
       "    <tr>\n",
       "      <th>1</th>\n",
       "      <td>Tokyo</td>\n",
       "      <td>70.563300</td>\n",
       "    </tr>\n",
       "    <tr>\n",
       "      <th>2</th>\n",
       "      <td>London</td>\n",
       "      <td>132.962699</td>\n",
       "    </tr>\n",
       "    <tr>\n",
       "      <th>3</th>\n",
       "      <td>New York</td>\n",
       "      <td>103.284555</td>\n",
       "    </tr>\n",
       "    <tr>\n",
       "      <th>4</th>\n",
       "      <td>Tokyo</td>\n",
       "      <td>111.345806</td>\n",
       "    </tr>\n",
       "    <tr>\n",
       "      <th>...</th>\n",
       "      <td>...</td>\n",
       "      <td>...</td>\n",
       "    </tr>\n",
       "    <tr>\n",
       "      <th>995</th>\n",
       "      <td>New York</td>\n",
       "      <td>103.292876</td>\n",
       "    </tr>\n",
       "    <tr>\n",
       "      <th>996</th>\n",
       "      <td>New York</td>\n",
       "      <td>117.703751</td>\n",
       "    </tr>\n",
       "    <tr>\n",
       "      <th>997</th>\n",
       "      <td>Paris</td>\n",
       "      <td>129.475296</td>\n",
       "    </tr>\n",
       "    <tr>\n",
       "      <th>998</th>\n",
       "      <td>London</td>\n",
       "      <td>107.781879</td>\n",
       "    </tr>\n",
       "    <tr>\n",
       "      <th>999</th>\n",
       "      <td>New York</td>\n",
       "      <td>123.420821</td>\n",
       "    </tr>\n",
       "  </tbody>\n",
       "</table>\n",
       "<p>1000 rows × 2 columns</p>\n",
       "</div>"
      ],
      "text/plain": [
       "         City       Sales\n",
       "0    New York   80.289785\n",
       "1       Tokyo   70.563300\n",
       "2      London  132.962699\n",
       "3    New York  103.284555\n",
       "4       Tokyo  111.345806\n",
       "..        ...         ...\n",
       "995  New York  103.292876\n",
       "996  New York  117.703751\n",
       "997     Paris  129.475296\n",
       "998    London  107.781879\n",
       "999  New York  123.420821\n",
       "\n",
       "[1000 rows x 2 columns]"
      ]
     },
     "execution_count": 35,
     "metadata": {},
     "output_type": "execute_result"
    }
   ],
   "source": [
    "data"
   ]
  },
  {
   "cell_type": "code",
   "execution_count": 36,
   "metadata": {},
   "outputs": [],
   "source": [
    "# Split the data\n",
    "train, test = train_test_split(data, test_size=0.2, random_state=42)"
   ]
  },
  {
   "cell_type": "code",
   "execution_count": 37,
   "metadata": {},
   "outputs": [
    {
     "data": {
      "text/plain": [
       "City\n",
       "London      100.866774\n",
       "New York     99.332273\n",
       "Paris        98.009190\n",
       "Tokyo       101.526541\n",
       "Name: Sales, dtype: float64"
      ]
     },
     "execution_count": 37,
     "metadata": {},
     "output_type": "execute_result"
    }
   ],
   "source": [
    "# Calculate target encoding on training data\n",
    "target_means = train.groupby('City')['Sales'].mean()\n",
    "target_means"
   ]
  },
  {
   "cell_type": "code",
   "execution_count": 38,
   "metadata": {},
   "outputs": [],
   "source": [
    "# Apply encoding to both train and test sets\n",
    "train['City_Encoded'] = train['City'].map(target_means)\n",
    "test['City_Encoded'] = test['City'].map(target_means)"
   ]
  },
  {
   "cell_type": "code",
   "execution_count": 40,
   "metadata": {},
   "outputs": [
    {
     "name": "stdout",
     "output_type": "stream",
     "text": [
      "Original data (first 5 rows):\n"
     ]
    },
    {
     "data": {
      "text/html": [
       "<div>\n",
       "<style scoped>\n",
       "    .dataframe tbody tr th:only-of-type {\n",
       "        vertical-align: middle;\n",
       "    }\n",
       "\n",
       "    .dataframe tbody tr th {\n",
       "        vertical-align: top;\n",
       "    }\n",
       "\n",
       "    .dataframe thead th {\n",
       "        text-align: right;\n",
       "    }\n",
       "</style>\n",
       "<table border=\"1\" class=\"dataframe\">\n",
       "  <thead>\n",
       "    <tr style=\"text-align: right;\">\n",
       "      <th></th>\n",
       "      <th>City</th>\n",
       "      <th>Sales</th>\n",
       "    </tr>\n",
       "  </thead>\n",
       "  <tbody>\n",
       "    <tr>\n",
       "      <th>29</th>\n",
       "      <td>New York</td>\n",
       "      <td>113.690022</td>\n",
       "    </tr>\n",
       "    <tr>\n",
       "      <th>535</th>\n",
       "      <td>New York</td>\n",
       "      <td>125.521507</td>\n",
       "    </tr>\n",
       "    <tr>\n",
       "      <th>695</th>\n",
       "      <td>Paris</td>\n",
       "      <td>93.666894</td>\n",
       "    </tr>\n",
       "    <tr>\n",
       "      <th>557</th>\n",
       "      <td>Tokyo</td>\n",
       "      <td>155.187102</td>\n",
       "    </tr>\n",
       "    <tr>\n",
       "      <th>836</th>\n",
       "      <td>London</td>\n",
       "      <td>135.493171</td>\n",
       "    </tr>\n",
       "  </tbody>\n",
       "</table>\n",
       "</div>"
      ],
      "text/plain": [
       "         City       Sales\n",
       "29   New York  113.690022\n",
       "535  New York  125.521507\n",
       "695     Paris   93.666894\n",
       "557     Tokyo  155.187102\n",
       "836    London  135.493171"
      ]
     },
     "execution_count": 40,
     "metadata": {},
     "output_type": "execute_result"
    }
   ],
   "source": [
    "print(\"Original data (first 5 rows):\")\n",
    "train[['City', 'Sales']].head()"
   ]
  },
  {
   "cell_type": "code",
   "execution_count": 42,
   "metadata": {},
   "outputs": [
    {
     "name": "stdout",
     "output_type": "stream",
     "text": [
      "Encoded data (first 5 rows):\n"
     ]
    },
    {
     "data": {
      "text/html": [
       "<div>\n",
       "<style scoped>\n",
       "    .dataframe tbody tr th:only-of-type {\n",
       "        vertical-align: middle;\n",
       "    }\n",
       "\n",
       "    .dataframe tbody tr th {\n",
       "        vertical-align: top;\n",
       "    }\n",
       "\n",
       "    .dataframe thead th {\n",
       "        text-align: right;\n",
       "    }\n",
       "</style>\n",
       "<table border=\"1\" class=\"dataframe\">\n",
       "  <thead>\n",
       "    <tr style=\"text-align: right;\">\n",
       "      <th></th>\n",
       "      <th>City</th>\n",
       "      <th>Sales</th>\n",
       "      <th>City_Encoded</th>\n",
       "    </tr>\n",
       "  </thead>\n",
       "  <tbody>\n",
       "    <tr>\n",
       "      <th>29</th>\n",
       "      <td>New York</td>\n",
       "      <td>113.690022</td>\n",
       "      <td>99.332273</td>\n",
       "    </tr>\n",
       "    <tr>\n",
       "      <th>535</th>\n",
       "      <td>New York</td>\n",
       "      <td>125.521507</td>\n",
       "      <td>99.332273</td>\n",
       "    </tr>\n",
       "    <tr>\n",
       "      <th>695</th>\n",
       "      <td>Paris</td>\n",
       "      <td>93.666894</td>\n",
       "      <td>98.009190</td>\n",
       "    </tr>\n",
       "    <tr>\n",
       "      <th>557</th>\n",
       "      <td>Tokyo</td>\n",
       "      <td>155.187102</td>\n",
       "      <td>101.526541</td>\n",
       "    </tr>\n",
       "    <tr>\n",
       "      <th>836</th>\n",
       "      <td>London</td>\n",
       "      <td>135.493171</td>\n",
       "      <td>100.866774</td>\n",
       "    </tr>\n",
       "  </tbody>\n",
       "</table>\n",
       "</div>"
      ],
      "text/plain": [
       "         City       Sales  City_Encoded\n",
       "29   New York  113.690022     99.332273\n",
       "535  New York  125.521507     99.332273\n",
       "695     Paris   93.666894     98.009190\n",
       "557     Tokyo  155.187102    101.526541\n",
       "836    London  135.493171    100.866774"
      ]
     },
     "execution_count": 42,
     "metadata": {},
     "output_type": "execute_result"
    }
   ],
   "source": [
    "print(\"Encoded data (first 5 rows):\")\n",
    "train[['City', 'Sales', 'City_Encoded']].head()"
   ]
  },
  {
   "cell_type": "code",
   "execution_count": 43,
   "metadata": {},
   "outputs": [
    {
     "name": "stdout",
     "output_type": "stream",
     "text": [
      "Target encoding mapping:\n"
     ]
    },
    {
     "data": {
      "text/plain": [
       "City\n",
       "London      100.866774\n",
       "New York     99.332273\n",
       "Paris        98.009190\n",
       "Tokyo       101.526541\n",
       "Name: Sales, dtype: float64"
      ]
     },
     "execution_count": 43,
     "metadata": {},
     "output_type": "execute_result"
    }
   ],
   "source": [
    "print(\"Target encoding mapping:\")\n",
    "target_means"
   ]
  },
  {
   "cell_type": "markdown",
   "metadata": {},
   "source": [
    "### <a id='toc3_2_'></a>[Advantages of Target Encoding](#toc0_)\n"
   ]
  },
  {
   "cell_type": "markdown",
   "metadata": {},
   "source": [
    "Target Encoding offers several benefits in data preprocessing and model training:\n",
    "\n",
    "1. **Handling High Cardinality:** It's effective for categorical variables with many unique categories.\n",
    "\n",
    "2. **Capturing Complex Relationships:** It can reveal non-linear relationships between categories and the target variable.\n",
    "\n",
    "3. **Dimensionality Reduction:** Unlike One-Hot Encoding, it doesn't increase the number of features.\n",
    "\n",
    "💡 **Pro Tip:** Target Encoding can be particularly powerful in competitions and when dealing with datasets where categorical variables have strong predictive power.\n"
   ]
  },
  {
   "cell_type": "markdown",
   "metadata": {},
   "source": [
    "### <a id='toc3_3_'></a>[Smoothing in Target Encoding](#toc0_)\n"
   ]
  },
  {
   "cell_type": "markdown",
   "metadata": {},
   "source": [
    "To prevent overfitting, especially for categories with few samples, it's common to use smoothing techniques. One popular method is to combine the global mean with the category mean:\n"
   ]
  },
  {
   "cell_type": "code",
   "execution_count": 45,
   "metadata": {},
   "outputs": [],
   "source": [
    "def smooth_target_encoding(train, test, column, target, weight=100):\n",
    "    # Calculate global mean\n",
    "    global_mean = train[target].mean()\n",
    "\n",
    "    # Calculate the means for each category\n",
    "    category_means = train.groupby(column)[target].agg(['mean', 'count'])\n",
    "\n",
    "    # Calculate smoothed means\n",
    "    smoothed_means = (category_means['count'] * category_means['mean'] + weight * global_mean) / (category_means['count'] + weight)\n",
    "\n",
    "    # Apply encoding\n",
    "    train_encoded = train[column].map(smoothed_means)\n",
    "    test_encoded = test[column].map(smoothed_means).fillna(global_mean)\n",
    "\n",
    "    return train_encoded, test_encoded\n",
    "\n",
    "# Apply smoothed target encoding\n",
    "train['City_Smooth_Encoded'], test['City_Smooth_Encoded'] = smooth_target_encoding(train, test, 'City', 'Sales')"
   ]
  },
  {
   "cell_type": "code",
   "execution_count": 47,
   "metadata": {},
   "outputs": [
    {
     "name": "stdout",
     "output_type": "stream",
     "text": [
      "Smoothed Target Encoding (first 5 rows):\n"
     ]
    },
    {
     "data": {
      "text/html": [
       "<div>\n",
       "<style scoped>\n",
       "    .dataframe tbody tr th:only-of-type {\n",
       "        vertical-align: middle;\n",
       "    }\n",
       "\n",
       "    .dataframe tbody tr th {\n",
       "        vertical-align: top;\n",
       "    }\n",
       "\n",
       "    .dataframe thead th {\n",
       "        text-align: right;\n",
       "    }\n",
       "</style>\n",
       "<table border=\"1\" class=\"dataframe\">\n",
       "  <thead>\n",
       "    <tr style=\"text-align: right;\">\n",
       "      <th></th>\n",
       "      <th>City</th>\n",
       "      <th>Sales</th>\n",
       "      <th>City_Smooth_Encoded</th>\n",
       "    </tr>\n",
       "  </thead>\n",
       "  <tbody>\n",
       "    <tr>\n",
       "      <th>29</th>\n",
       "      <td>New York</td>\n",
       "      <td>113.690022</td>\n",
       "      <td>99.519702</td>\n",
       "    </tr>\n",
       "    <tr>\n",
       "      <th>535</th>\n",
       "      <td>New York</td>\n",
       "      <td>125.521507</td>\n",
       "      <td>99.519702</td>\n",
       "    </tr>\n",
       "    <tr>\n",
       "      <th>695</th>\n",
       "      <td>Paris</td>\n",
       "      <td>93.666894</td>\n",
       "      <td>98.638451</td>\n",
       "    </tr>\n",
       "    <tr>\n",
       "      <th>557</th>\n",
       "      <td>Tokyo</td>\n",
       "      <td>155.187102</td>\n",
       "      <td>100.983928</td>\n",
       "    </tr>\n",
       "    <tr>\n",
       "      <th>836</th>\n",
       "      <td>London</td>\n",
       "      <td>135.493171</td>\n",
       "      <td>100.538959</td>\n",
       "    </tr>\n",
       "  </tbody>\n",
       "</table>\n",
       "</div>"
      ],
      "text/plain": [
       "         City       Sales  City_Smooth_Encoded\n",
       "29   New York  113.690022            99.519702\n",
       "535  New York  125.521507            99.519702\n",
       "695     Paris   93.666894            98.638451\n",
       "557     Tokyo  155.187102           100.983928\n",
       "836    London  135.493171           100.538959"
      ]
     },
     "execution_count": 47,
     "metadata": {},
     "output_type": "execute_result"
    }
   ],
   "source": [
    "print(\"Smoothed Target Encoding (first 5 rows):\")\n",
    "train[['City', 'Sales', 'City_Smooth_Encoded']].head()"
   ]
  },
  {
   "cell_type": "markdown",
   "metadata": {},
   "source": [
    "### <a id='toc3_4_'></a>[Considerations and Potential Drawbacks](#toc0_)\n"
   ]
  },
  {
   "cell_type": "markdown",
   "metadata": {},
   "source": [
    "While Target Encoding can be powerful, it's important to be aware of its limitations:\n",
    "\n",
    "1. **Risk of Overfitting:** It can lead to overfitting if not implemented carefully, especially for categories with few samples.\n",
    "\n",
    "2. **Data Leakage:** If not done properly, it can introduce data leakage, where information from the test set influences the encoding.\n",
    "\n",
    "3. **Interpretability:** The encoded values are less interpretable compared to simpler encoding methods.\n"
   ]
  },
  {
   "cell_type": "markdown",
   "metadata": {},
   "source": [
    "🤔 **Why This Matters:** Understanding these limitations helps in implementing Target Encoding correctly and interpreting the results accurately.\n"
   ]
  },
  {
   "cell_type": "markdown",
   "metadata": {},
   "source": [
    "In conclusion, Target Encoding is a sophisticated technique that can capture complex relationships between categorical variables and the target. While it offers significant advantages, especially for high-cardinality features, it requires careful implementation to avoid overfitting and data leakage. When used correctly, it can significantly boost model performance, particularly in scenarios where categorical variables have strong predict"
   ]
  },
  {
   "cell_type": "markdown",
   "metadata": {},
   "source": [
    "## <a id='toc4_'></a>[Frequency Encoding](#toc0_)"
   ]
  },
  {
   "cell_type": "markdown",
   "metadata": {},
   "source": [
    "Frequency Encoding is a simple yet effective technique for handling categorical variables. This method replaces each category with its frequency (count) or relative frequency (percentage) of occurrences in the dataset. Frequency Encoding can be particularly useful for high-cardinality features and when the frequency of a category is informative for the prediction task.\n"
   ]
  },
  {
   "cell_type": "markdown",
   "metadata": {},
   "source": [
    "### <a id='toc4_1_'></a>[Understanding Frequency Encoding](#toc0_)\n"
   ]
  },
  {
   "cell_type": "markdown",
   "metadata": {},
   "source": [
    "Frequency Encoding works by calculating how often each category appears in the dataset and using this information to create a numerical representation. This approach can capture the relative importance or prevalence of each category, which can be valuable information for many machine learning algorithms.\n"
   ]
  },
  {
   "cell_type": "markdown",
   "metadata": {},
   "source": [
    "🔑 **Key Concept:** Frequency Encoding replaces categories with their frequency or relative frequency in the dataset, potentially capturing the importance of each category.\n"
   ]
  },
  {
   "cell_type": "markdown",
   "metadata": {},
   "source": [
    "Let's start with a simple example to illustrate this concept:\n"
   ]
  },
  {
   "cell_type": "code",
   "execution_count": 48,
   "metadata": {},
   "outputs": [],
   "source": [
    "import pandas as pd\n",
    "import numpy as np\n",
    "\n",
    "# Sample data\n",
    "np.random.seed(0)\n",
    "data = pd.DataFrame({\n",
    "    'Product': np.random.choice(['Laptop', 'Phone', 'Tablet', 'Watch'], 1000),\n",
    "    'Sales': np.random.normal(loc=100, scale=20, size=1000)\n",
    "})"
   ]
  },
  {
   "cell_type": "code",
   "execution_count": 49,
   "metadata": {},
   "outputs": [
    {
     "data": {
      "text/html": [
       "<div>\n",
       "<style scoped>\n",
       "    .dataframe tbody tr th:only-of-type {\n",
       "        vertical-align: middle;\n",
       "    }\n",
       "\n",
       "    .dataframe tbody tr th {\n",
       "        vertical-align: top;\n",
       "    }\n",
       "\n",
       "    .dataframe thead th {\n",
       "        text-align: right;\n",
       "    }\n",
       "</style>\n",
       "<table border=\"1\" class=\"dataframe\">\n",
       "  <thead>\n",
       "    <tr style=\"text-align: right;\">\n",
       "      <th></th>\n",
       "      <th>Product</th>\n",
       "      <th>Sales</th>\n",
       "    </tr>\n",
       "  </thead>\n",
       "  <tbody>\n",
       "    <tr>\n",
       "      <th>0</th>\n",
       "      <td>Laptop</td>\n",
       "      <td>80.289785</td>\n",
       "    </tr>\n",
       "    <tr>\n",
       "      <th>1</th>\n",
       "      <td>Watch</td>\n",
       "      <td>70.563300</td>\n",
       "    </tr>\n",
       "    <tr>\n",
       "      <th>2</th>\n",
       "      <td>Phone</td>\n",
       "      <td>132.962699</td>\n",
       "    </tr>\n",
       "    <tr>\n",
       "      <th>3</th>\n",
       "      <td>Laptop</td>\n",
       "      <td>103.284555</td>\n",
       "    </tr>\n",
       "    <tr>\n",
       "      <th>4</th>\n",
       "      <td>Watch</td>\n",
       "      <td>111.345806</td>\n",
       "    </tr>\n",
       "    <tr>\n",
       "      <th>...</th>\n",
       "      <td>...</td>\n",
       "      <td>...</td>\n",
       "    </tr>\n",
       "    <tr>\n",
       "      <th>995</th>\n",
       "      <td>Laptop</td>\n",
       "      <td>103.292876</td>\n",
       "    </tr>\n",
       "    <tr>\n",
       "      <th>996</th>\n",
       "      <td>Laptop</td>\n",
       "      <td>117.703751</td>\n",
       "    </tr>\n",
       "    <tr>\n",
       "      <th>997</th>\n",
       "      <td>Tablet</td>\n",
       "      <td>129.475296</td>\n",
       "    </tr>\n",
       "    <tr>\n",
       "      <th>998</th>\n",
       "      <td>Phone</td>\n",
       "      <td>107.781879</td>\n",
       "    </tr>\n",
       "    <tr>\n",
       "      <th>999</th>\n",
       "      <td>Laptop</td>\n",
       "      <td>123.420821</td>\n",
       "    </tr>\n",
       "  </tbody>\n",
       "</table>\n",
       "<p>1000 rows × 2 columns</p>\n",
       "</div>"
      ],
      "text/plain": [
       "    Product       Sales\n",
       "0    Laptop   80.289785\n",
       "1     Watch   70.563300\n",
       "2     Phone  132.962699\n",
       "3    Laptop  103.284555\n",
       "4     Watch  111.345806\n",
       "..      ...         ...\n",
       "995  Laptop  103.292876\n",
       "996  Laptop  117.703751\n",
       "997  Tablet  129.475296\n",
       "998   Phone  107.781879\n",
       "999  Laptop  123.420821\n",
       "\n",
       "[1000 rows x 2 columns]"
      ]
     },
     "execution_count": 49,
     "metadata": {},
     "output_type": "execute_result"
    }
   ],
   "source": [
    "data"
   ]
  },
  {
   "cell_type": "code",
   "execution_count": 50,
   "metadata": {},
   "outputs": [
    {
     "data": {
      "text/html": [
       "<div>\n",
       "<style scoped>\n",
       "    .dataframe tbody tr th:only-of-type {\n",
       "        vertical-align: middle;\n",
       "    }\n",
       "\n",
       "    .dataframe tbody tr th {\n",
       "        vertical-align: top;\n",
       "    }\n",
       "\n",
       "    .dataframe thead th {\n",
       "        text-align: right;\n",
       "    }\n",
       "</style>\n",
       "<table border=\"1\" class=\"dataframe\">\n",
       "  <thead>\n",
       "    <tr style=\"text-align: right;\">\n",
       "      <th></th>\n",
       "      <th>Product</th>\n",
       "      <th>Sales</th>\n",
       "      <th>Product_Freq_Encoded</th>\n",
       "    </tr>\n",
       "  </thead>\n",
       "  <tbody>\n",
       "    <tr>\n",
       "      <th>0</th>\n",
       "      <td>Laptop</td>\n",
       "      <td>80.289785</td>\n",
       "      <td>0.255</td>\n",
       "    </tr>\n",
       "    <tr>\n",
       "      <th>1</th>\n",
       "      <td>Watch</td>\n",
       "      <td>70.563300</td>\n",
       "      <td>0.251</td>\n",
       "    </tr>\n",
       "    <tr>\n",
       "      <th>2</th>\n",
       "      <td>Phone</td>\n",
       "      <td>132.962699</td>\n",
       "      <td>0.253</td>\n",
       "    </tr>\n",
       "    <tr>\n",
       "      <th>3</th>\n",
       "      <td>Laptop</td>\n",
       "      <td>103.284555</td>\n",
       "      <td>0.255</td>\n",
       "    </tr>\n",
       "    <tr>\n",
       "      <th>4</th>\n",
       "      <td>Watch</td>\n",
       "      <td>111.345806</td>\n",
       "      <td>0.251</td>\n",
       "    </tr>\n",
       "    <tr>\n",
       "      <th>...</th>\n",
       "      <td>...</td>\n",
       "      <td>...</td>\n",
       "      <td>...</td>\n",
       "    </tr>\n",
       "    <tr>\n",
       "      <th>995</th>\n",
       "      <td>Laptop</td>\n",
       "      <td>103.292876</td>\n",
       "      <td>0.255</td>\n",
       "    </tr>\n",
       "    <tr>\n",
       "      <th>996</th>\n",
       "      <td>Laptop</td>\n",
       "      <td>117.703751</td>\n",
       "      <td>0.255</td>\n",
       "    </tr>\n",
       "    <tr>\n",
       "      <th>997</th>\n",
       "      <td>Tablet</td>\n",
       "      <td>129.475296</td>\n",
       "      <td>0.241</td>\n",
       "    </tr>\n",
       "    <tr>\n",
       "      <th>998</th>\n",
       "      <td>Phone</td>\n",
       "      <td>107.781879</td>\n",
       "      <td>0.253</td>\n",
       "    </tr>\n",
       "    <tr>\n",
       "      <th>999</th>\n",
       "      <td>Laptop</td>\n",
       "      <td>123.420821</td>\n",
       "      <td>0.255</td>\n",
       "    </tr>\n",
       "  </tbody>\n",
       "</table>\n",
       "<p>1000 rows × 3 columns</p>\n",
       "</div>"
      ],
      "text/plain": [
       "    Product       Sales  Product_Freq_Encoded\n",
       "0    Laptop   80.289785                 0.255\n",
       "1     Watch   70.563300                 0.251\n",
       "2     Phone  132.962699                 0.253\n",
       "3    Laptop  103.284555                 0.255\n",
       "4     Watch  111.345806                 0.251\n",
       "..      ...         ...                   ...\n",
       "995  Laptop  103.292876                 0.255\n",
       "996  Laptop  117.703751                 0.255\n",
       "997  Tablet  129.475296                 0.241\n",
       "998   Phone  107.781879                 0.253\n",
       "999  Laptop  123.420821                 0.255\n",
       "\n",
       "[1000 rows x 3 columns]"
      ]
     },
     "execution_count": 50,
     "metadata": {},
     "output_type": "execute_result"
    }
   ],
   "source": [
    "# Calculate frequency encoding\n",
    "freq_encoding = data['Product'].value_counts() / len(data)\n",
    "data['Product_Freq_Encoded'] = data['Product'].map(freq_encoding)\n",
    "data"
   ]
  },
  {
   "cell_type": "code",
   "execution_count": 51,
   "metadata": {},
   "outputs": [
    {
     "name": "stdout",
     "output_type": "stream",
     "text": [
      "Original data (first 5 rows):\n"
     ]
    },
    {
     "data": {
      "text/html": [
       "<div>\n",
       "<style scoped>\n",
       "    .dataframe tbody tr th:only-of-type {\n",
       "        vertical-align: middle;\n",
       "    }\n",
       "\n",
       "    .dataframe tbody tr th {\n",
       "        vertical-align: top;\n",
       "    }\n",
       "\n",
       "    .dataframe thead th {\n",
       "        text-align: right;\n",
       "    }\n",
       "</style>\n",
       "<table border=\"1\" class=\"dataframe\">\n",
       "  <thead>\n",
       "    <tr style=\"text-align: right;\">\n",
       "      <th></th>\n",
       "      <th>Product</th>\n",
       "      <th>Sales</th>\n",
       "    </tr>\n",
       "  </thead>\n",
       "  <tbody>\n",
       "    <tr>\n",
       "      <th>0</th>\n",
       "      <td>Laptop</td>\n",
       "      <td>80.289785</td>\n",
       "    </tr>\n",
       "    <tr>\n",
       "      <th>1</th>\n",
       "      <td>Watch</td>\n",
       "      <td>70.563300</td>\n",
       "    </tr>\n",
       "    <tr>\n",
       "      <th>2</th>\n",
       "      <td>Phone</td>\n",
       "      <td>132.962699</td>\n",
       "    </tr>\n",
       "    <tr>\n",
       "      <th>3</th>\n",
       "      <td>Laptop</td>\n",
       "      <td>103.284555</td>\n",
       "    </tr>\n",
       "    <tr>\n",
       "      <th>4</th>\n",
       "      <td>Watch</td>\n",
       "      <td>111.345806</td>\n",
       "    </tr>\n",
       "  </tbody>\n",
       "</table>\n",
       "</div>"
      ],
      "text/plain": [
       "  Product       Sales\n",
       "0  Laptop   80.289785\n",
       "1   Watch   70.563300\n",
       "2   Phone  132.962699\n",
       "3  Laptop  103.284555\n",
       "4   Watch  111.345806"
      ]
     },
     "execution_count": 51,
     "metadata": {},
     "output_type": "execute_result"
    }
   ],
   "source": [
    "print(\"Original data (first 5 rows):\")\n",
    "data[['Product', 'Sales']].head()"
   ]
  },
  {
   "cell_type": "code",
   "execution_count": 52,
   "metadata": {},
   "outputs": [
    {
     "name": "stdout",
     "output_type": "stream",
     "text": [
      "Encoded data (first 5 rows):\n"
     ]
    },
    {
     "data": {
      "text/html": [
       "<div>\n",
       "<style scoped>\n",
       "    .dataframe tbody tr th:only-of-type {\n",
       "        vertical-align: middle;\n",
       "    }\n",
       "\n",
       "    .dataframe tbody tr th {\n",
       "        vertical-align: top;\n",
       "    }\n",
       "\n",
       "    .dataframe thead th {\n",
       "        text-align: right;\n",
       "    }\n",
       "</style>\n",
       "<table border=\"1\" class=\"dataframe\">\n",
       "  <thead>\n",
       "    <tr style=\"text-align: right;\">\n",
       "      <th></th>\n",
       "      <th>Product</th>\n",
       "      <th>Sales</th>\n",
       "      <th>Product_Freq_Encoded</th>\n",
       "    </tr>\n",
       "  </thead>\n",
       "  <tbody>\n",
       "    <tr>\n",
       "      <th>0</th>\n",
       "      <td>Laptop</td>\n",
       "      <td>80.289785</td>\n",
       "      <td>0.255</td>\n",
       "    </tr>\n",
       "    <tr>\n",
       "      <th>1</th>\n",
       "      <td>Watch</td>\n",
       "      <td>70.563300</td>\n",
       "      <td>0.251</td>\n",
       "    </tr>\n",
       "    <tr>\n",
       "      <th>2</th>\n",
       "      <td>Phone</td>\n",
       "      <td>132.962699</td>\n",
       "      <td>0.253</td>\n",
       "    </tr>\n",
       "    <tr>\n",
       "      <th>3</th>\n",
       "      <td>Laptop</td>\n",
       "      <td>103.284555</td>\n",
       "      <td>0.255</td>\n",
       "    </tr>\n",
       "    <tr>\n",
       "      <th>4</th>\n",
       "      <td>Watch</td>\n",
       "      <td>111.345806</td>\n",
       "      <td>0.251</td>\n",
       "    </tr>\n",
       "  </tbody>\n",
       "</table>\n",
       "</div>"
      ],
      "text/plain": [
       "  Product       Sales  Product_Freq_Encoded\n",
       "0  Laptop   80.289785                 0.255\n",
       "1   Watch   70.563300                 0.251\n",
       "2   Phone  132.962699                 0.253\n",
       "3  Laptop  103.284555                 0.255\n",
       "4   Watch  111.345806                 0.251"
      ]
     },
     "execution_count": 52,
     "metadata": {},
     "output_type": "execute_result"
    }
   ],
   "source": [
    "print(\"Encoded data (first 5 rows):\")\n",
    "data[['Product', 'Sales', 'Product_Freq_Encoded']].head()"
   ]
  },
  {
   "cell_type": "code",
   "execution_count": 53,
   "metadata": {},
   "outputs": [
    {
     "name": "stdout",
     "output_type": "stream",
     "text": [
      "Frequency encoding mapping:\n"
     ]
    },
    {
     "data": {
      "text/plain": [
       "Product\n",
       "Laptop    0.255\n",
       "Phone     0.253\n",
       "Watch     0.251\n",
       "Tablet    0.241\n",
       "Name: count, dtype: float64"
      ]
     },
     "execution_count": 53,
     "metadata": {},
     "output_type": "execute_result"
    }
   ],
   "source": [
    "print(\"Frequency encoding mapping:\")\n",
    "freq_encoding"
   ]
  },
  {
   "cell_type": "markdown",
   "metadata": {},
   "source": [
    "### <a id='toc4_2_'></a>[Advantages of Frequency Encoding](#toc0_)\n"
   ]
  },
  {
   "cell_type": "markdown",
   "metadata": {},
   "source": [
    "Frequency Encoding offers several benefits in data preprocessing and model training:\n",
    "\n",
    "1. **Handling High Cardinality:** It's effective for categorical variables with many unique categories, as it doesn't create new columns.\n",
    "\n",
    "2. **Capturing Category Importance:** The frequency can often be a proxy for the importance or relevance of a category.\n",
    "\n",
    "3. **Simplicity:** It's straightforward to implement and interpret.\n"
   ]
  },
  {
   "cell_type": "markdown",
   "metadata": {},
   "source": [
    "💡 **Pro Tip:** Frequency Encoding can be particularly useful when the frequency of a category is likely to be informative for the prediction task, such as in recommender systems or market basket analysis."
   ]
  },
  {
   "cell_type": "markdown",
   "metadata": {},
   "source": [
    "### <a id='toc4_3_'></a>[Variations of Frequency Encoding](#toc0_)\n"
   ]
  },
  {
   "cell_type": "markdown",
   "metadata": {},
   "source": [
    "Instead of using relative frequencies, we can use the raw count of occurrences. This can be useful when the absolute number of occurrences is more informative than the proportion. This is known as **Count Encoding**.\n"
   ]
  },
  {
   "cell_type": "code",
   "execution_count": 54,
   "metadata": {},
   "outputs": [],
   "source": [
    "# Count Encoding\n",
    "count_encoding = data['Product'].value_counts()\n",
    "data['Product_Count_Encoded'] = data['Product'].map(count_encoding)"
   ]
  },
  {
   "cell_type": "code",
   "execution_count": 55,
   "metadata": {},
   "outputs": [
    {
     "name": "stdout",
     "output_type": "stream",
     "text": [
      "Count Encoding (first 5 rows):\n"
     ]
    },
    {
     "data": {
      "text/html": [
       "<div>\n",
       "<style scoped>\n",
       "    .dataframe tbody tr th:only-of-type {\n",
       "        vertical-align: middle;\n",
       "    }\n",
       "\n",
       "    .dataframe tbody tr th {\n",
       "        vertical-align: top;\n",
       "    }\n",
       "\n",
       "    .dataframe thead th {\n",
       "        text-align: right;\n",
       "    }\n",
       "</style>\n",
       "<table border=\"1\" class=\"dataframe\">\n",
       "  <thead>\n",
       "    <tr style=\"text-align: right;\">\n",
       "      <th></th>\n",
       "      <th>Product</th>\n",
       "      <th>Product_Count_Encoded</th>\n",
       "    </tr>\n",
       "  </thead>\n",
       "  <tbody>\n",
       "    <tr>\n",
       "      <th>0</th>\n",
       "      <td>Laptop</td>\n",
       "      <td>255</td>\n",
       "    </tr>\n",
       "    <tr>\n",
       "      <th>1</th>\n",
       "      <td>Watch</td>\n",
       "      <td>251</td>\n",
       "    </tr>\n",
       "    <tr>\n",
       "      <th>2</th>\n",
       "      <td>Phone</td>\n",
       "      <td>253</td>\n",
       "    </tr>\n",
       "    <tr>\n",
       "      <th>3</th>\n",
       "      <td>Laptop</td>\n",
       "      <td>255</td>\n",
       "    </tr>\n",
       "    <tr>\n",
       "      <th>4</th>\n",
       "      <td>Watch</td>\n",
       "      <td>251</td>\n",
       "    </tr>\n",
       "  </tbody>\n",
       "</table>\n",
       "</div>"
      ],
      "text/plain": [
       "  Product  Product_Count_Encoded\n",
       "0  Laptop                    255\n",
       "1   Watch                    251\n",
       "2   Phone                    253\n",
       "3  Laptop                    255\n",
       "4   Watch                    251"
      ]
     },
     "execution_count": 55,
     "metadata": {},
     "output_type": "execute_result"
    }
   ],
   "source": [
    "print(\"Count Encoding (first 5 rows):\")\n",
    "data[['Product', 'Product_Count_Encoded']].head()\n"
   ]
  },
  {
   "cell_type": "markdown",
   "metadata": {},
   "source": [
    "For datasets with a large range of frequencies, applying a logarithm can help compress the range and potentially improve model performance. This is known as **Log-Frequency Encoding**."
   ]
  },
  {
   "cell_type": "code",
   "execution_count": 56,
   "metadata": {},
   "outputs": [
    {
     "name": "stdout",
     "output_type": "stream",
     "text": [
      "Log-Frequency Encoding (first 5 rows):\n"
     ]
    },
    {
     "data": {
      "text/html": [
       "<div>\n",
       "<style scoped>\n",
       "    .dataframe tbody tr th:only-of-type {\n",
       "        vertical-align: middle;\n",
       "    }\n",
       "\n",
       "    .dataframe tbody tr th {\n",
       "        vertical-align: top;\n",
       "    }\n",
       "\n",
       "    .dataframe thead th {\n",
       "        text-align: right;\n",
       "    }\n",
       "</style>\n",
       "<table border=\"1\" class=\"dataframe\">\n",
       "  <thead>\n",
       "    <tr style=\"text-align: right;\">\n",
       "      <th></th>\n",
       "      <th>Product</th>\n",
       "      <th>Product_LogFreq_Encoded</th>\n",
       "    </tr>\n",
       "  </thead>\n",
       "  <tbody>\n",
       "    <tr>\n",
       "      <th>0</th>\n",
       "      <td>Laptop</td>\n",
       "      <td>5.545177</td>\n",
       "    </tr>\n",
       "    <tr>\n",
       "      <th>1</th>\n",
       "      <td>Watch</td>\n",
       "      <td>5.529429</td>\n",
       "    </tr>\n",
       "    <tr>\n",
       "      <th>2</th>\n",
       "      <td>Phone</td>\n",
       "      <td>5.537334</td>\n",
       "    </tr>\n",
       "    <tr>\n",
       "      <th>3</th>\n",
       "      <td>Laptop</td>\n",
       "      <td>5.545177</td>\n",
       "    </tr>\n",
       "    <tr>\n",
       "      <th>4</th>\n",
       "      <td>Watch</td>\n",
       "      <td>5.529429</td>\n",
       "    </tr>\n",
       "  </tbody>\n",
       "</table>\n",
       "</div>"
      ],
      "text/plain": [
       "  Product  Product_LogFreq_Encoded\n",
       "0  Laptop                 5.545177\n",
       "1   Watch                 5.529429\n",
       "2   Phone                 5.537334\n",
       "3  Laptop                 5.545177\n",
       "4   Watch                 5.529429"
      ]
     },
     "execution_count": 56,
     "metadata": {},
     "output_type": "execute_result"
    }
   ],
   "source": [
    "# Log-Frequency Encoding\n",
    "log_freq_encoding = np.log1p(data['Product'].value_counts())\n",
    "data['Product_LogFreq_Encoded'] = data['Product'].map(log_freq_encoding)\n",
    "\n",
    "print(\"Log-Frequency Encoding (first 5 rows):\")\n",
    "data[['Product', 'Product_LogFreq_Encoded']].head()"
   ]
  },
  {
   "cell_type": "markdown",
   "metadata": {},
   "source": [
    "### <a id='toc4_4_'></a>[Considerations and Potential Drawbacks](#toc0_)\n"
   ]
  },
  {
   "cell_type": "markdown",
   "metadata": {},
   "source": [
    "While Frequency Encoding can be effective, it's important to be aware of its limitations:\n",
    "\n",
    "1. **Loss of Categorical Nature:** The original categorical information is lost, and the model sees only the frequency.\n",
    "\n",
    "2. **Potential for Overfitting:** In some cases, frequency might not be relevant to the target variable and could lead to overfitting.\n",
    "\n",
    "3. **Handling New Categories:** It doesn't naturally handle new categories in test data that weren't present in training data.\n",
    "\n",
    "🤔 **Why This Matters:** Understanding these limitations helps in deciding when to use Frequency Encoding and how to interpret the results.\n"
   ]
  },
  {
   "cell_type": "markdown",
   "metadata": {},
   "source": [
    "### <a id='toc4_5_'></a>[Handling New Categories in Test Data](#toc0_)\n"
   ]
  },
  {
   "cell_type": "markdown",
   "metadata": {},
   "source": [
    "When applying Frequency Encoding to test data, you might encounter categories that weren't present in the training data. Here's a way to handle this:\n"
   ]
  },
  {
   "cell_type": "code",
   "execution_count": 57,
   "metadata": {},
   "outputs": [
    {
     "name": "stdout",
     "output_type": "stream",
     "text": [
      "Test data with new category:\n"
     ]
    },
    {
     "data": {
      "text/html": [
       "<div>\n",
       "<style scoped>\n",
       "    .dataframe tbody tr th:only-of-type {\n",
       "        vertical-align: middle;\n",
       "    }\n",
       "\n",
       "    .dataframe tbody tr th {\n",
       "        vertical-align: top;\n",
       "    }\n",
       "\n",
       "    .dataframe thead th {\n",
       "        text-align: right;\n",
       "    }\n",
       "</style>\n",
       "<table border=\"1\" class=\"dataframe\">\n",
       "  <thead>\n",
       "    <tr style=\"text-align: right;\">\n",
       "      <th></th>\n",
       "      <th>Product</th>\n",
       "      <th>Product_Freq_Encoded</th>\n",
       "    </tr>\n",
       "  </thead>\n",
       "  <tbody>\n",
       "    <tr>\n",
       "      <th>521</th>\n",
       "      <td>Desktop</td>\n",
       "      <td>0.0000</td>\n",
       "    </tr>\n",
       "    <tr>\n",
       "      <th>737</th>\n",
       "      <td>Laptop</td>\n",
       "      <td>0.2600</td>\n",
       "    </tr>\n",
       "    <tr>\n",
       "      <th>740</th>\n",
       "      <td>Tablet</td>\n",
       "      <td>0.2525</td>\n",
       "    </tr>\n",
       "    <tr>\n",
       "      <th>660</th>\n",
       "      <td>Phone</td>\n",
       "      <td>0.2400</td>\n",
       "    </tr>\n",
       "    <tr>\n",
       "      <th>411</th>\n",
       "      <td>Phone</td>\n",
       "      <td>0.2400</td>\n",
       "    </tr>\n",
       "  </tbody>\n",
       "</table>\n",
       "</div>"
      ],
      "text/plain": [
       "     Product  Product_Freq_Encoded\n",
       "521  Desktop                0.0000\n",
       "737   Laptop                0.2600\n",
       "740   Tablet                0.2525\n",
       "660    Phone                0.2400\n",
       "411    Phone                0.2400"
      ]
     },
     "execution_count": 57,
     "metadata": {},
     "output_type": "execute_result"
    }
   ],
   "source": [
    "def frequency_encode(train, test, column):\n",
    "    # Calculate frequency encoding on training data\n",
    "    freq_encoding = train[column].value_counts() / len(train)\n",
    "\n",
    "    # Apply encoding to train and test\n",
    "    train_encoded = train[column].map(freq_encoding)\n",
    "    test_encoded = test[column].map(freq_encoding)\n",
    "\n",
    "    # Handle new categories in test data\n",
    "    test_encoded = test_encoded.fillna(0)  # or use the minimum frequency from train\n",
    "\n",
    "    return train_encoded, test_encoded\n",
    "\n",
    "# Simulate train/test split\n",
    "train, test = train_test_split(data, test_size=0.2, random_state=42)\n",
    "\n",
    "# Add a new category to test data\n",
    "test.loc[test.index[0], 'Product'] = 'Desktop'\n",
    "\n",
    "# Apply frequency encoding\n",
    "train['Product_Freq_Encoded'], test['Product_Freq_Encoded'] = frequency_encode(train, test, 'Product')\n",
    "\n",
    "print(\"Test data with new category:\")\n",
    "test[['Product', 'Product_Freq_Encoded']].head()"
   ]
  },
  {
   "cell_type": "markdown",
   "metadata": {},
   "source": [
    "❗️ **Important Note:** When using Frequency Encoding, always consider whether the frequency of categories is likely to be informative for your specific problem. In some cases, combining Frequency Encoding with other encoding methods might yield better results.\n"
   ]
  },
  {
   "cell_type": "markdown",
   "metadata": {},
   "source": [
    "In conclusion, Frequency Encoding is a straightforward and often effective method for encoding categorical variables, especially when the frequency of categories carries meaningful information for the prediction task. Its simplicity and ability to handle high-cardinality features make it a valuable tool in the data preprocessing toolkit. However, like all encoding methods, it should be used thoughtfully and in conjunction with a good understanding of the data and the problem at hand."
   ]
  },
  {
   "cell_type": "markdown",
   "metadata": {},
   "source": [
    "## <a id='toc5_'></a>[Binary Encoding](#toc0_)"
   ]
  },
  {
   "cell_type": "markdown",
   "metadata": {},
   "source": [
    "Binary Encoding is an efficient technique for encoding categorical variables, particularly useful for high-cardinality features. This method combines aspects of integer encoding and one-hot encoding, representing each category as a binary code. Binary Encoding can significantly reduce the dimensionality of the encoded data compared to one-hot encoding while still capturing the categorical nature of the variable.\n"
   ]
  },
  {
   "cell_type": "markdown",
   "metadata": {},
   "source": [
    "### <a id='toc5_1_'></a>[Understanding Binary Encoding](#toc0_)\n"
   ]
  },
  {
   "cell_type": "markdown",
   "metadata": {},
   "source": [
    "Binary Encoding works by first assigning an integer to each category, then converting these integers into binary code. Each digit of the binary code becomes a separate column in the encoded data.\n"
   ]
  },
  {
   "cell_type": "markdown",
   "metadata": {},
   "source": [
    "🔑 **Key Concept:** Binary Encoding represents categories as binary codes, creating a compact representation that balances information retention and dimensionality reduction.\n"
   ]
  },
  {
   "cell_type": "markdown",
   "metadata": {},
   "source": [
    "Let's start with a simple example to illustrate this concept:\n"
   ]
  },
  {
   "cell_type": "code",
   "execution_count": 58,
   "metadata": {},
   "outputs": [
    {
     "name": "stdout",
     "output_type": "stream",
     "text": [
      "Collecting category_encoders\n",
      "  Downloading category_encoders-2.6.4-py2.py3-none-any.whl.metadata (8.0 kB)\n",
      "Requirement already satisfied: numpy>=1.14.0 in /Users/hejazizo/miniconda3/envs/py310/lib/python3.10/site-packages (from category_encoders) (1.26.4)\n",
      "Requirement already satisfied: scikit-learn>=0.20.0 in /Users/hejazizo/miniconda3/envs/py310/lib/python3.10/site-packages (from category_encoders) (1.5.2)\n",
      "Requirement already satisfied: scipy>=1.0.0 in /Users/hejazizo/miniconda3/envs/py310/lib/python3.10/site-packages (from category_encoders) (1.11.4)\n",
      "Requirement already satisfied: statsmodels>=0.9.0 in /Users/hejazizo/miniconda3/envs/py310/lib/python3.10/site-packages (from category_encoders) (0.14.2)\n",
      "Requirement already satisfied: pandas>=1.0.5 in /Users/hejazizo/miniconda3/envs/py310/lib/python3.10/site-packages (from category_encoders) (2.2.2)\n",
      "Requirement already satisfied: patsy>=0.5.1 in /Users/hejazizo/miniconda3/envs/py310/lib/python3.10/site-packages (from category_encoders) (0.5.6)\n",
      "Requirement already satisfied: python-dateutil>=2.8.2 in /Users/hejazizo/miniconda3/envs/py310/lib/python3.10/site-packages (from pandas>=1.0.5->category_encoders) (2.8.2)\n",
      "Requirement already satisfied: pytz>=2020.1 in /Users/hejazizo/miniconda3/envs/py310/lib/python3.10/site-packages (from pandas>=1.0.5->category_encoders) (2023.3.post1)\n",
      "Requirement already satisfied: tzdata>=2022.7 in /Users/hejazizo/miniconda3/envs/py310/lib/python3.10/site-packages (from pandas>=1.0.5->category_encoders) (2023.3)\n",
      "Requirement already satisfied: six in /Users/hejazizo/miniconda3/envs/py310/lib/python3.10/site-packages (from patsy>=0.5.1->category_encoders) (1.16.0)\n",
      "Requirement already satisfied: joblib>=1.2.0 in /Users/hejazizo/miniconda3/envs/py310/lib/python3.10/site-packages (from scikit-learn>=0.20.0->category_encoders) (1.3.2)\n",
      "Requirement already satisfied: threadpoolctl>=3.1.0 in /Users/hejazizo/miniconda3/envs/py310/lib/python3.10/site-packages (from scikit-learn>=0.20.0->category_encoders) (3.4.0)\n",
      "Requirement already satisfied: packaging>=21.3 in /Users/hejazizo/miniconda3/envs/py310/lib/python3.10/site-packages (from statsmodels>=0.9.0->category_encoders) (23.1)\n",
      "Downloading category_encoders-2.6.4-py2.py3-none-any.whl (82 kB)\n",
      "Installing collected packages: category_encoders\n",
      "Successfully installed category_encoders-2.6.4\n",
      "Note: you may need to restart the kernel to use updated packages.\n"
     ]
    }
   ],
   "source": [
    "%pip install category_encoders"
   ]
  },
  {
   "cell_type": "code",
   "execution_count": 60,
   "metadata": {},
   "outputs": [
    {
     "name": "stdout",
     "output_type": "stream",
     "text": [
      "Original data:\n"
     ]
    },
    {
     "data": {
      "text/html": [
       "<div>\n",
       "<style scoped>\n",
       "    .dataframe tbody tr th:only-of-type {\n",
       "        vertical-align: middle;\n",
       "    }\n",
       "\n",
       "    .dataframe tbody tr th {\n",
       "        vertical-align: top;\n",
       "    }\n",
       "\n",
       "    .dataframe thead th {\n",
       "        text-align: right;\n",
       "    }\n",
       "</style>\n",
       "<table border=\"1\" class=\"dataframe\">\n",
       "  <thead>\n",
       "    <tr style=\"text-align: right;\">\n",
       "      <th></th>\n",
       "      <th>Color</th>\n",
       "    </tr>\n",
       "  </thead>\n",
       "  <tbody>\n",
       "    <tr>\n",
       "      <th>0</th>\n",
       "      <td>Red</td>\n",
       "    </tr>\n",
       "    <tr>\n",
       "      <th>1</th>\n",
       "      <td>Blue</td>\n",
       "    </tr>\n",
       "    <tr>\n",
       "      <th>2</th>\n",
       "      <td>Green</td>\n",
       "    </tr>\n",
       "    <tr>\n",
       "      <th>3</th>\n",
       "      <td>Yellow</td>\n",
       "    </tr>\n",
       "    <tr>\n",
       "      <th>4</th>\n",
       "      <td>Purple</td>\n",
       "    </tr>\n",
       "    <tr>\n",
       "      <th>5</th>\n",
       "      <td>Orange</td>\n",
       "    </tr>\n",
       "    <tr>\n",
       "      <th>6</th>\n",
       "      <td>Pink</td>\n",
       "    </tr>\n",
       "    <tr>\n",
       "      <th>7</th>\n",
       "      <td>Brown</td>\n",
       "    </tr>\n",
       "  </tbody>\n",
       "</table>\n",
       "</div>"
      ],
      "text/plain": [
       "    Color\n",
       "0     Red\n",
       "1    Blue\n",
       "2   Green\n",
       "3  Yellow\n",
       "4  Purple\n",
       "5  Orange\n",
       "6    Pink\n",
       "7   Brown"
      ]
     },
     "execution_count": 60,
     "metadata": {},
     "output_type": "execute_result"
    }
   ],
   "source": [
    "import pandas as pd\n",
    "import numpy as np\n",
    "from category_encoders import BinaryEncoder\n",
    "\n",
    "# Sample data\n",
    "data = pd.DataFrame({\n",
    "    'Color': ['Red', 'Blue', 'Green', 'Yellow', 'Purple', 'Orange', 'Pink', 'Brown']\n",
    "})\n",
    "\n",
    "# Initialize and fit the BinaryEncoder\n",
    "encoder = BinaryEncoder(cols=['Color'])\n",
    "encoded_data = encoder.fit_transform(data)\n",
    "\n",
    "print(\"Original data:\")\n",
    "data\n"
   ]
  },
  {
   "cell_type": "code",
   "execution_count": 61,
   "metadata": {},
   "outputs": [
    {
     "name": "stdout",
     "output_type": "stream",
     "text": [
      "Binary Encoded data:\n"
     ]
    },
    {
     "data": {
      "text/html": [
       "<div>\n",
       "<style scoped>\n",
       "    .dataframe tbody tr th:only-of-type {\n",
       "        vertical-align: middle;\n",
       "    }\n",
       "\n",
       "    .dataframe tbody tr th {\n",
       "        vertical-align: top;\n",
       "    }\n",
       "\n",
       "    .dataframe thead th {\n",
       "        text-align: right;\n",
       "    }\n",
       "</style>\n",
       "<table border=\"1\" class=\"dataframe\">\n",
       "  <thead>\n",
       "    <tr style=\"text-align: right;\">\n",
       "      <th></th>\n",
       "      <th>Color_0</th>\n",
       "      <th>Color_1</th>\n",
       "      <th>Color_2</th>\n",
       "      <th>Color_3</th>\n",
       "    </tr>\n",
       "  </thead>\n",
       "  <tbody>\n",
       "    <tr>\n",
       "      <th>0</th>\n",
       "      <td>0</td>\n",
       "      <td>0</td>\n",
       "      <td>0</td>\n",
       "      <td>1</td>\n",
       "    </tr>\n",
       "    <tr>\n",
       "      <th>1</th>\n",
       "      <td>0</td>\n",
       "      <td>0</td>\n",
       "      <td>1</td>\n",
       "      <td>0</td>\n",
       "    </tr>\n",
       "    <tr>\n",
       "      <th>2</th>\n",
       "      <td>0</td>\n",
       "      <td>0</td>\n",
       "      <td>1</td>\n",
       "      <td>1</td>\n",
       "    </tr>\n",
       "    <tr>\n",
       "      <th>3</th>\n",
       "      <td>0</td>\n",
       "      <td>1</td>\n",
       "      <td>0</td>\n",
       "      <td>0</td>\n",
       "    </tr>\n",
       "    <tr>\n",
       "      <th>4</th>\n",
       "      <td>0</td>\n",
       "      <td>1</td>\n",
       "      <td>0</td>\n",
       "      <td>1</td>\n",
       "    </tr>\n",
       "    <tr>\n",
       "      <th>5</th>\n",
       "      <td>0</td>\n",
       "      <td>1</td>\n",
       "      <td>1</td>\n",
       "      <td>0</td>\n",
       "    </tr>\n",
       "    <tr>\n",
       "      <th>6</th>\n",
       "      <td>0</td>\n",
       "      <td>1</td>\n",
       "      <td>1</td>\n",
       "      <td>1</td>\n",
       "    </tr>\n",
       "    <tr>\n",
       "      <th>7</th>\n",
       "      <td>1</td>\n",
       "      <td>0</td>\n",
       "      <td>0</td>\n",
       "      <td>0</td>\n",
       "    </tr>\n",
       "  </tbody>\n",
       "</table>\n",
       "</div>"
      ],
      "text/plain": [
       "   Color_0  Color_1  Color_2  Color_3\n",
       "0        0        0        0        1\n",
       "1        0        0        1        0\n",
       "2        0        0        1        1\n",
       "3        0        1        0        0\n",
       "4        0        1        0        1\n",
       "5        0        1        1        0\n",
       "6        0        1        1        1\n",
       "7        1        0        0        0"
      ]
     },
     "execution_count": 61,
     "metadata": {},
     "output_type": "execute_result"
    }
   ],
   "source": [
    "print(\"Binary Encoded data:\")\n",
    "encoded_data"
   ]
  },
  {
   "cell_type": "markdown",
   "metadata": {},
   "source": [
    "### <a id='toc5_2_'></a>[How Binary Encoding Works](#toc0_)\n"
   ]
  },
  {
   "cell_type": "markdown",
   "metadata": {},
   "source": [
    "1. **Integer Encoding:** Each unique category is assigned an integer (0 to n-1, where n is the number of categories).\n",
    "2. **Binary Conversion:** These integers are converted to their binary representation.\n",
    "3. **Column Creation:** Each bit in the binary representation becomes a separate column.\n"
   ]
  },
  {
   "cell_type": "markdown",
   "metadata": {},
   "source": [
    "For example, with 8 categories:\n",
    "- Red    -> 0 -> 000\n",
    "- Blue   -> 1 -> 001\n",
    "- Green  -> 2 -> 010\n",
    "- Yellow -> 3 -> 011\n",
    "- Purple -> 4 -> 100\n",
    "- Orange -> 5 -> 101\n",
    "- Pink   -> 6 -> 110\n",
    "- Brown  -> 7 -> 111\n"
   ]
  },
  {
   "cell_type": "markdown",
   "metadata": {},
   "source": [
    "### <a id='toc5_3_'></a>[Advantages of Binary Encoding](#toc0_)\n"
   ]
  },
  {
   "cell_type": "markdown",
   "metadata": {},
   "source": [
    "Binary Encoding offers several benefits in data preprocessing and model training:\n"
   ]
  },
  {
   "cell_type": "markdown",
   "metadata": {},
   "source": [
    "1. **Dimensionality Reduction:** It creates fewer columns than one-hot encoding, especially for high-cardinality variables.\n",
    "2. **Information Preservation:** It retains more information than simple integer encoding.\n",
    "3. **Efficiency:** It's memory-efficient and can improve computational performance.\n"
   ]
  },
  {
   "cell_type": "markdown",
   "metadata": {},
   "source": [
    "💡 **Pro Tip:** Binary Encoding is particularly useful when dealing with categorical variables that have a large number of categories, where one-hot encoding would create too many features.\n"
   ]
  },
  {
   "cell_type": "markdown",
   "metadata": {},
   "source": [
    "### <a id='toc5_4_'></a>[Implementing Binary Encoding](#toc0_)\n"
   ]
  },
  {
   "cell_type": "markdown",
   "metadata": {},
   "source": [
    "While we used the `category_encoders` library in the previous example, let's implement Binary Encoding from scratch to better understand its mechanics:\n"
   ]
  },
  {
   "cell_type": "code",
   "execution_count": 62,
   "metadata": {},
   "outputs": [
    {
     "name": "stdout",
     "output_type": "stream",
     "text": [
      "Custom Binary Encoded data:\n"
     ]
    },
    {
     "data": {
      "text/html": [
       "<div>\n",
       "<style scoped>\n",
       "    .dataframe tbody tr th:only-of-type {\n",
       "        vertical-align: middle;\n",
       "    }\n",
       "\n",
       "    .dataframe tbody tr th {\n",
       "        vertical-align: top;\n",
       "    }\n",
       "\n",
       "    .dataframe thead th {\n",
       "        text-align: right;\n",
       "    }\n",
       "</style>\n",
       "<table border=\"1\" class=\"dataframe\">\n",
       "  <thead>\n",
       "    <tr style=\"text-align: right;\">\n",
       "      <th></th>\n",
       "      <th>Color</th>\n",
       "      <th>Color_bin_0</th>\n",
       "      <th>Color_bin_1</th>\n",
       "      <th>Color_bin_2</th>\n",
       "    </tr>\n",
       "  </thead>\n",
       "  <tbody>\n",
       "    <tr>\n",
       "      <th>0</th>\n",
       "      <td>Red</td>\n",
       "      <td>0</td>\n",
       "      <td>0</td>\n",
       "      <td>0</td>\n",
       "    </tr>\n",
       "    <tr>\n",
       "      <th>1</th>\n",
       "      <td>Blue</td>\n",
       "      <td>0</td>\n",
       "      <td>0</td>\n",
       "      <td>1</td>\n",
       "    </tr>\n",
       "    <tr>\n",
       "      <th>2</th>\n",
       "      <td>Green</td>\n",
       "      <td>0</td>\n",
       "      <td>1</td>\n",
       "      <td>0</td>\n",
       "    </tr>\n",
       "    <tr>\n",
       "      <th>3</th>\n",
       "      <td>Yellow</td>\n",
       "      <td>0</td>\n",
       "      <td>1</td>\n",
       "      <td>1</td>\n",
       "    </tr>\n",
       "    <tr>\n",
       "      <th>4</th>\n",
       "      <td>Purple</td>\n",
       "      <td>1</td>\n",
       "      <td>0</td>\n",
       "      <td>0</td>\n",
       "    </tr>\n",
       "    <tr>\n",
       "      <th>5</th>\n",
       "      <td>Orange</td>\n",
       "      <td>1</td>\n",
       "      <td>0</td>\n",
       "      <td>1</td>\n",
       "    </tr>\n",
       "    <tr>\n",
       "      <th>6</th>\n",
       "      <td>Pink</td>\n",
       "      <td>1</td>\n",
       "      <td>1</td>\n",
       "      <td>0</td>\n",
       "    </tr>\n",
       "    <tr>\n",
       "      <th>7</th>\n",
       "      <td>Brown</td>\n",
       "      <td>1</td>\n",
       "      <td>1</td>\n",
       "      <td>1</td>\n",
       "    </tr>\n",
       "  </tbody>\n",
       "</table>\n",
       "</div>"
      ],
      "text/plain": [
       "    Color  Color_bin_0  Color_bin_1  Color_bin_2\n",
       "0     Red            0            0            0\n",
       "1    Blue            0            0            1\n",
       "2   Green            0            1            0\n",
       "3  Yellow            0            1            1\n",
       "4  Purple            1            0            0\n",
       "5  Orange            1            0            1\n",
       "6    Pink            1            1            0\n",
       "7   Brown            1            1            1"
      ]
     },
     "execution_count": 62,
     "metadata": {},
     "output_type": "execute_result"
    }
   ],
   "source": [
    "def custom_binary_encode(data, column):\n",
    "    # Get unique categories and assign integers\n",
    "    categories = data[column].unique()\n",
    "    int_encoded = {cat: i for i, cat in enumerate(categories)}\n",
    "\n",
    "    # Convert integers to binary and pad with zeros\n",
    "    max_bits = len(bin(len(categories) - 1)[2:])\n",
    "    binary_encoded = {cat: format(i, f'0{max_bits}b') for cat, i in int_encoded.items()}\n",
    "\n",
    "    # Create new columns for each bit\n",
    "    for i in range(max_bits):\n",
    "        data[f'{column}_bin_{i}'] = data[column].map(lambda x: int(binary_encoded[x][i]))\n",
    "\n",
    "    return data\n",
    "\n",
    "# Apply custom Binary Encoding\n",
    "encoded_data_custom = custom_binary_encode(data.copy(), 'Color')\n",
    "\n",
    "print(\"Custom Binary Encoded data:\")\n",
    "encoded_data_custom"
   ]
  },
  {
   "cell_type": "markdown",
   "metadata": {},
   "source": [
    "### <a id='toc5_5_'></a>[Considerations and Potential Drawbacks](#toc0_)\n"
   ]
  },
  {
   "cell_type": "markdown",
   "metadata": {},
   "source": [
    "While Binary Encoding is powerful, it's important to be aware of its limitations:\n",
    "\n",
    "1. **Loss of Interpretability:** The binary columns are less interpretable than one-hot encoded columns.\n",
    "2. **Ordinal Assumption:** It may introduce an implicit ordinal relationship between categories.\n",
    "3. **Complexity:** It can be more complex to implement and explain compared to simpler encoding methods.\n"
   ]
  },
  {
   "cell_type": "markdown",
   "metadata": {},
   "source": [
    "🤔 **Why This Matters:** Understanding these trade-offs helps in deciding when to use Binary Encoding and how to interpret the results.\n"
   ]
  },
  {
   "cell_type": "markdown",
   "metadata": {},
   "source": [
    "When applying Binary Encoding to test data, you might encounter categories that weren't present in the training data. The `category_encoders` library handles unknown categories by encoding them as all zeros. In practice, you might want to implement a more sophisticated strategy for handling new categories based on your specific use case."
   ]
  },
  {
   "cell_type": "code",
   "execution_count": 69,
   "metadata": {},
   "outputs": [
    {
     "data": {
      "text/html": [
       "<div>\n",
       "<style scoped>\n",
       "    .dataframe tbody tr th:only-of-type {\n",
       "        vertical-align: middle;\n",
       "    }\n",
       "\n",
       "    .dataframe tbody tr th {\n",
       "        vertical-align: top;\n",
       "    }\n",
       "\n",
       "    .dataframe thead th {\n",
       "        text-align: right;\n",
       "    }\n",
       "</style>\n",
       "<table border=\"1\" class=\"dataframe\">\n",
       "  <thead>\n",
       "    <tr style=\"text-align: right;\">\n",
       "      <th></th>\n",
       "      <th>Color_0</th>\n",
       "      <th>Color_1</th>\n",
       "      <th>Color_2</th>\n",
       "      <th>Color_3</th>\n",
       "    </tr>\n",
       "  </thead>\n",
       "  <tbody>\n",
       "    <tr>\n",
       "      <th>0</th>\n",
       "      <td>0</td>\n",
       "      <td>0</td>\n",
       "      <td>0</td>\n",
       "      <td>1</td>\n",
       "    </tr>\n",
       "    <tr>\n",
       "      <th>1</th>\n",
       "      <td>0</td>\n",
       "      <td>0</td>\n",
       "      <td>1</td>\n",
       "      <td>0</td>\n",
       "    </tr>\n",
       "    <tr>\n",
       "      <th>2</th>\n",
       "      <td>0</td>\n",
       "      <td>0</td>\n",
       "      <td>1</td>\n",
       "      <td>1</td>\n",
       "    </tr>\n",
       "    <tr>\n",
       "      <th>3</th>\n",
       "      <td>0</td>\n",
       "      <td>1</td>\n",
       "      <td>0</td>\n",
       "      <td>0</td>\n",
       "    </tr>\n",
       "    <tr>\n",
       "      <th>4</th>\n",
       "      <td>0</td>\n",
       "      <td>1</td>\n",
       "      <td>0</td>\n",
       "      <td>1</td>\n",
       "    </tr>\n",
       "    <tr>\n",
       "      <th>5</th>\n",
       "      <td>0</td>\n",
       "      <td>1</td>\n",
       "      <td>1</td>\n",
       "      <td>0</td>\n",
       "    </tr>\n",
       "    <tr>\n",
       "      <th>6</th>\n",
       "      <td>0</td>\n",
       "      <td>1</td>\n",
       "      <td>1</td>\n",
       "      <td>1</td>\n",
       "    </tr>\n",
       "    <tr>\n",
       "      <th>7</th>\n",
       "      <td>1</td>\n",
       "      <td>0</td>\n",
       "      <td>0</td>\n",
       "      <td>0</td>\n",
       "    </tr>\n",
       "    <tr>\n",
       "      <th>8</th>\n",
       "      <td>0</td>\n",
       "      <td>0</td>\n",
       "      <td>0</td>\n",
       "      <td>0</td>\n",
       "    </tr>\n",
       "  </tbody>\n",
       "</table>\n",
       "</div>"
      ],
      "text/plain": [
       "   Color_0  Color_1  Color_2  Color_3\n",
       "0        0        0        0        1\n",
       "1        0        0        1        0\n",
       "2        0        0        1        1\n",
       "3        0        1        0        0\n",
       "4        0        1        0        1\n",
       "5        0        1        1        0\n",
       "6        0        1        1        1\n",
       "7        1        0        0        0\n",
       "8        0        0        0        0"
      ]
     },
     "execution_count": 69,
     "metadata": {},
     "output_type": "execute_result"
    }
   ],
   "source": [
    "# Sample data\n",
    "data = pd.DataFrame({\n",
    "    'Color': ['Red', 'Blue', 'Green', 'Yellow', 'Purple', 'Orange', 'Pink', 'Brown']\n",
    "})\n",
    "\n",
    "# Initialize and fit the BinaryEncoder\n",
    "encoder = BinaryEncoder(cols=['Color'])\n",
    "encoded_data = encoder.fit_transform(data)\n",
    "\n",
    "test_data = pd.DataFrame({\n",
    "    'Color': ['Red', 'Blue', 'Green', 'Yellow', 'Purple', 'Orange', 'Pink', 'Brown', 'Unknown']\n",
    "})\n",
    "\n",
    "encoder.transform(test_data['Color'])"
   ]
  },
  {
   "cell_type": "markdown",
   "metadata": {},
   "source": [
    "### <a id='toc5_6_'></a>[Comparison with Other Encoding Methods](#toc0_)\n"
   ]
  },
  {
   "cell_type": "markdown",
   "metadata": {},
   "source": [
    "Let's briefly compare Binary Encoding with One-Hot Encoding for a high-cardinality variable:\n"
   ]
  },
  {
   "cell_type": "code",
   "execution_count": 71,
   "metadata": {},
   "outputs": [
    {
     "name": "stdout",
     "output_type": "stream",
     "text": [
      "One-Hot Encoded shape: (1000, 100)\n",
      "Binary Encoded shape: (1000, 7)\n"
     ]
    }
   ],
   "source": [
    "from sklearn.preprocessing import OneHotEncoder\n",
    "\n",
    "# Create a dataset with 100 unique categories\n",
    "high_cardinality_data = pd.DataFrame({'Category': [f'Cat_{i}' for i in range(100)] * 10})\n",
    "\n",
    "# One-Hot Encoding\n",
    "onehot = OneHotEncoder(sparse_output=False)\n",
    "onehot_encoded = onehot.fit_transform(high_cardinality_data)\n",
    "\n",
    "# Binary Encoding\n",
    "binary = BinaryEncoder(cols=['Category'])\n",
    "binary_encoded = binary.fit_transform(high_cardinality_data)\n",
    "\n",
    "print(f\"One-Hot Encoded shape: {onehot_encoded.shape}\")\n",
    "print(f\"Binary Encoded shape: {binary_encoded.shape}\")"
   ]
  },
  {
   "cell_type": "markdown",
   "metadata": {},
   "source": [
    "This example demonstrates how Binary Encoding can significantly reduce the number of features compared to One-Hot Encoding, especially for high-cardinality variables.\n"
   ]
  },
  {
   "cell_type": "markdown",
   "metadata": {},
   "source": [
    "In conclusion, Binary Encoding is a powerful technique that offers a balance between information retention and dimensionality reduction. It's particularly useful for high-cardinality categorical variables where one-hot encoding would create too many features. While it introduces some complexity and potential loss of interpretability, its efficiency in handling large category sets makes it a valuable tool in the data preprocessing toolkit. As with all encoding methods, it's important to consider the specific characteristics of your data and problem when deciding to use Binary Encoding."
   ]
  },
  {
   "cell_type": "markdown",
   "metadata": {},
   "source": [
    "## <a id='toc6_'></a>[Embedding Encoding](#toc0_)"
   ]
  },
  {
   "cell_type": "markdown",
   "metadata": {},
   "source": [
    "Embedding Encoding is an advanced technique for handling categorical variables, particularly useful for high-cardinality features and when dealing with natural language processing tasks. This method represents each category as a dense vector in a lower-dimensional space, capturing semantic relationships between categories.\n"
   ]
  },
  {
   "cell_type": "markdown",
   "metadata": {},
   "source": [
    "Embedding Encoding maps each category to a fixed-size vector of real numbers. These vectors are learned representations that capture the meaning and relationships between categories in a continuous vector space.\n"
   ]
  },
  {
   "cell_type": "markdown",
   "metadata": {},
   "source": [
    "🔑 **Key Concept:** Embedding Encoding represents categories as dense vectors, potentially capturing complex relationships and similarities between categories.\n"
   ]
  },
  {
   "cell_type": "markdown",
   "metadata": {},
   "source": [
    "### <a id='toc6_1_'></a>[Using Pre-trained Embeddings](#toc0_)\n"
   ]
  },
  {
   "cell_type": "markdown",
   "metadata": {},
   "source": [
    "In this section, we'll focus on using pre-trained embeddings rather than training our own. Pre-trained embeddings are particularly useful when working with text data or when you want to leverage existing knowledge about relationships between categories.\n"
   ]
  },
  {
   "cell_type": "markdown",
   "metadata": {},
   "source": [
    "Let's start with an example using pre-trained word embeddings:\n"
   ]
  },
  {
   "cell_type": "code",
   "execution_count": 72,
   "metadata": {},
   "outputs": [
    {
     "name": "stdout",
     "output_type": "stream",
     "text": [
      "Collecting gensim\n",
      "  Downloading gensim-4.3.3-cp310-cp310-macosx_11_0_arm64.whl.metadata (8.2 kB)\n",
      "Requirement already satisfied: numpy<2.0,>=1.18.5 in /Users/hejazizo/miniconda3/envs/py310/lib/python3.10/site-packages (from gensim) (1.26.4)\n",
      "Requirement already satisfied: scipy<1.14.0,>=1.7.0 in /Users/hejazizo/miniconda3/envs/py310/lib/python3.10/site-packages (from gensim) (1.11.4)\n",
      "Collecting smart-open>=1.8.1 (from gensim)\n",
      "  Downloading smart_open-7.0.5-py3-none-any.whl.metadata (24 kB)\n",
      "Requirement already satisfied: wrapt in /Users/hejazizo/miniconda3/envs/py310/lib/python3.10/site-packages (from smart-open>=1.8.1->gensim) (1.14.1)\n",
      "Downloading gensim-4.3.3-cp310-cp310-macosx_11_0_arm64.whl (24.0 MB)\n",
      "\u001b[2K   \u001b[38;2;114;156;31m━━━━━━━━━━━━━━━━━━━━━━━━━━━━━━━━━━━━━━━━\u001b[0m \u001b[32m24.0/24.0 MB\u001b[0m \u001b[31m7.8 MB/s\u001b[0m eta \u001b[36m0:00:00\u001b[0m[36m0:00:01\u001b[0m[36m0:00:01\u001b[0m:01\u001b[0m\n",
      "\u001b[?25hDownloading smart_open-7.0.5-py3-none-any.whl (61 kB)\n",
      "Installing collected packages: smart-open, gensim\n",
      "Successfully installed gensim-4.3.3 smart-open-7.0.5\n",
      "Note: you may need to restart the kernel to use updated packages.\n"
     ]
    }
   ],
   "source": [
    "%pip install gensim"
   ]
  },
  {
   "cell_type": "code",
   "execution_count": 78,
   "metadata": {},
   "outputs": [
    {
     "name": "stdout",
     "output_type": "stream",
     "text": [
      "[==================================================] 100.0% 1662.8/1662.8MB downloaded\n",
      "Word: example\n",
      "Embedding shape: (300,)\n",
      "First 10 dimensions of the embedding: [ 0.20507812  0.00078583  0.03540039  0.10058594 -0.05444336  0.15332031\n",
      "  0.25585938 -0.21875    -0.00331116  0.20996094]\n"
     ]
    }
   ],
   "source": [
    "import gensim.downloader as api\n",
    "\n",
    "# Download and load a pre-trained word embedding model\n",
    "# In this example, we're using the 'word2vec-google-news-300' model\n",
    "# You can choose other models like 'glove-twitter-25' or 'fasttext-wiki-news-subwords-300'\n",
    "model_name = 'word2vec-google-news-300'\n",
    "model = api.load(model_name)\n",
    "\n",
    "def get_word_embedding(word):\n",
    "    try:\n",
    "        # Get the word embedding\n",
    "        embedding = model[word]\n",
    "        return embedding\n",
    "    except KeyError:\n",
    "        print(f\"The word '{word}' is not in the vocabulary.\")\n",
    "        return None\n",
    "\n",
    "# Example usage\n",
    "word = \"example\"\n",
    "embedding = get_word_embedding(word)\n",
    "\n",
    "if embedding is not None:\n",
    "    print(f\"Word: {word}\")\n",
    "    print(f\"Embedding shape: {embedding.shape}\")\n",
    "    print(f\"First 10 dimensions of the embedding: {embedding[:10]}\")\n",
    "\n"
   ]
  },
  {
   "cell_type": "code",
   "execution_count": 79,
   "metadata": {},
   "outputs": [],
   "source": [
    "def get_phrase_embedding(phrase):\n",
    "    # Tokenize the phrase into words\n",
    "    words = phrase.lower().split()\n",
    "\n",
    "    # Initialize a list to store embeddings of individual words\n",
    "    word_embeddings = []\n",
    "\n",
    "    for word in words:\n",
    "        try:\n",
    "            # Get the word embedding\n",
    "            embedding = model[word]\n",
    "            word_embeddings.append(embedding)\n",
    "        except KeyError:\n",
    "            print(f\"The word '{word}' is not in the vocabulary and will be skipped.\")\n",
    "\n",
    "    if not word_embeddings:\n",
    "        print(\"None of the words in the phrase were found in the vocabulary.\")\n",
    "        return None\n",
    "\n",
    "    # Calculate the average of the word embeddings\n",
    "    phrase_embedding = np.mean(word_embeddings, axis=0)\n",
    "\n",
    "    return phrase_embedding"
   ]
  },
  {
   "cell_type": "markdown",
   "metadata": {},
   "source": [
    "❗️ **Important Note:** Pre-trained embeddings can handle new categories as long as the words in the category are present in the embedding vocabulary. For completely new words, you might need to implement a fallback strategy.\n"
   ]
  },
  {
   "cell_type": "code",
   "execution_count": 81,
   "metadata": {},
   "outputs": [],
   "source": [
    "# Sample data\n",
    "data = pd.DataFrame({\n",
    "    'Product': ['running shoes', 'laptop', 'smartphone', 'headphones', 'smart watch']\n",
    "})"
   ]
  },
  {
   "cell_type": "code",
   "execution_count": 83,
   "metadata": {},
   "outputs": [],
   "source": [
    "# Apply embedding encoding\n",
    "data['Embedding'] = data['Product'].apply(lambda x: get_phrase_embedding(x))\n"
   ]
  },
  {
   "cell_type": "code",
   "execution_count": 84,
   "metadata": {},
   "outputs": [
    {
     "name": "stdout",
     "output_type": "stream",
     "text": [
      "Original data:\n"
     ]
    },
    {
     "data": {
      "text/plain": [
       "0    running shoes\n",
       "1           laptop\n",
       "2       smartphone\n",
       "3       headphones\n",
       "4      smart watch\n",
       "Name: Product, dtype: object"
      ]
     },
     "execution_count": 84,
     "metadata": {},
     "output_type": "execute_result"
    }
   ],
   "source": [
    "print(\"Original data:\")\n",
    "data['Product']"
   ]
  },
  {
   "cell_type": "code",
   "execution_count": 87,
   "metadata": {},
   "outputs": [
    {
     "name": "stdout",
     "output_type": "stream",
     "text": [
      "\n",
      "Embedding for 'running shoes':\n"
     ]
    },
    {
     "data": {
      "text/html": [
       "<div>\n",
       "<style scoped>\n",
       "    .dataframe tbody tr th:only-of-type {\n",
       "        vertical-align: middle;\n",
       "    }\n",
       "\n",
       "    .dataframe tbody tr th {\n",
       "        vertical-align: top;\n",
       "    }\n",
       "\n",
       "    .dataframe thead th {\n",
       "        text-align: right;\n",
       "    }\n",
       "</style>\n",
       "<table border=\"1\" class=\"dataframe\">\n",
       "  <thead>\n",
       "    <tr style=\"text-align: right;\">\n",
       "      <th></th>\n",
       "      <th>Product</th>\n",
       "      <th>Embedding</th>\n",
       "    </tr>\n",
       "  </thead>\n",
       "  <tbody>\n",
       "    <tr>\n",
       "      <th>0</th>\n",
       "      <td>running shoes</td>\n",
       "      <td>[0.021362305, -0.018798828, -0.014862061, 0.06...</td>\n",
       "    </tr>\n",
       "    <tr>\n",
       "      <th>1</th>\n",
       "      <td>laptop</td>\n",
       "      <td>[0.026489258, -0.1640625, -0.007019043, 0.2792...</td>\n",
       "    </tr>\n",
       "    <tr>\n",
       "      <th>2</th>\n",
       "      <td>smartphone</td>\n",
       "      <td>[0.13769531, -0.31445312, -0.47265625, 0.07666...</td>\n",
       "    </tr>\n",
       "    <tr>\n",
       "      <th>3</th>\n",
       "      <td>headphones</td>\n",
       "      <td>[-0.17480469, -0.07080078, -0.14257812, 0.1132...</td>\n",
       "    </tr>\n",
       "    <tr>\n",
       "      <th>4</th>\n",
       "      <td>smart watch</td>\n",
       "      <td>[0.056152344, 0.017150879, 0.064575195, 0.1923...</td>\n",
       "    </tr>\n",
       "  </tbody>\n",
       "</table>\n",
       "</div>"
      ],
      "text/plain": [
       "         Product                                          Embedding\n",
       "0  running shoes  [0.021362305, -0.018798828, -0.014862061, 0.06...\n",
       "1         laptop  [0.026489258, -0.1640625, -0.007019043, 0.2792...\n",
       "2     smartphone  [0.13769531, -0.31445312, -0.47265625, 0.07666...\n",
       "3     headphones  [-0.17480469, -0.07080078, -0.14257812, 0.1132...\n",
       "4    smart watch  [0.056152344, 0.017150879, 0.064575195, 0.1923..."
      ]
     },
     "execution_count": 87,
     "metadata": {},
     "output_type": "execute_result"
    }
   ],
   "source": [
    "print(\"\\nEmbedding for 'running shoes':\")\n",
    "data"
   ]
  },
  {
   "cell_type": "markdown",
   "metadata": {},
   "source": [
    "### <a id='toc6_2_'></a>[Advantages of Embedding Encoding](#toc0_)\n"
   ]
  },
  {
   "cell_type": "markdown",
   "metadata": {},
   "source": [
    "Embedding Encoding offers several benefits in data preprocessing and model training:\n",
    "\n",
    "1. **Dimensionality Reduction:** It creates a dense, low-dimensional representation of categories.\n",
    "2. **Semantic Relationships:** It can capture complex relationships and similarities between categories.\n",
    "3. **Handling High Cardinality:** It's effective for variables with many unique categories.\n"
   ]
  },
  {
   "cell_type": "markdown",
   "metadata": {},
   "source": [
    "💡 **Pro Tip:** Pre-trained embeddings are particularly useful when working with text data or when you want to leverage existing knowledge about relationships between categories.\n"
   ]
  },
  {
   "cell_type": "markdown",
   "metadata": {},
   "source": [
    "### <a id='toc6_4_'></a>[Considerations and Potential Drawbacks](#toc0_)\n"
   ]
  },
  {
   "cell_type": "markdown",
   "metadata": {},
   "source": [
    "While Embedding Encoding is powerful, it's important to be aware of its limitations:\n"
   ]
  },
  {
   "cell_type": "markdown",
   "metadata": {},
   "source": [
    "1. **Complexity:** It can be more complex to implement and interpret compared to simpler encoding methods.\n",
    "2. **Dependency on Pre-trained Models:** The quality of encoding depends on the quality and relevance of the pre-trained embeddings.\n",
    "3. **Out-of-Vocabulary Words:** Pre-trained embeddings might not cover all possible categories in your data.\n"
   ]
  },
  {
   "cell_type": "markdown",
   "metadata": {},
   "source": [
    "🤔 **Why This Matters:** Understanding these trade-offs helps in deciding when to use Embedding Encoding and how to interpret the results.\n"
   ]
  },
  {
   "cell_type": "markdown",
   "metadata": {},
   "source": [
    "In conclusion, Embedding Encoding is a sophisticated technique that offers a dense, lower-dimensional representation of categorical variables. It's particularly useful for high-cardinality features and when working with text data. By leveraging pre-trained embeddings, we can capture complex semantic relationships between categories without the need for extensive training data. While it introduces some complexity in implementation and interpretation, its ability to handle high-cardinality variables and capture semantic relationships makes it a powerful tool in the data preprocessing toolkit, especially for natural language processing tasks and recommender systems.\n"
   ]
  }
 ],
 "metadata": {
  "kernelspec": {
   "display_name": "py310",
   "language": "python",
   "name": "python3"
  },
  "language_info": {
   "codemirror_mode": {
    "name": "ipython",
    "version": 3
   },
   "file_extension": ".py",
   "mimetype": "text/x-python",
   "name": "python",
   "nbconvert_exporter": "python",
   "pygments_lexer": "ipython3",
   "version": "3.10.12"
  }
 },
 "nbformat": 4,
 "nbformat_minor": 2
}
