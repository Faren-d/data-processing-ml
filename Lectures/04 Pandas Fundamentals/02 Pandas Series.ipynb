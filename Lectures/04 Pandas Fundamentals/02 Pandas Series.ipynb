{
 "cells": [
  {
   "cell_type": "markdown",
   "metadata": {},
   "source": [
    "<img src=\"./images/banner.png\" width=\"800\">"
   ]
  },
  {
   "cell_type": "markdown",
   "metadata": {},
   "source": [
    "# What is a Pandas Series?"
   ]
  },
  {
   "cell_type": "markdown",
   "metadata": {},
   "source": [
    "A Pandas Series is a **one-dimensional labeled array** capable of holding data of any type (integer, string, float, Python objects, etc.). It is one of the core data structures in the Pandas library, along with DataFrames. A Series can be thought of as a single column of data in a table or spreadsheet, with an associated array of labels called an *index*.\n"
   ]
  },
  {
   "cell_type": "markdown",
   "metadata": {},
   "source": [
    "Key characteristics of a Series:\n",
    "- **Homogeneous Data**: All elements in a Series must be of the same data type. If you attempt to create a Series with mixed data types, Pandas will automatically upcast the data to the most compatible data type.\n",
    "\n",
    "- **Mutable**: Series objects are mutable, meaning you can change, add, or delete elements after creation.\n",
    "\n",
    "- **Size Immutable**: While the contents of a Series can be modified, the size of a Series is fixed upon creation. To change the size, you need to create a new Series object.\n",
    "\n",
    "- **Labeled Index**: Each element in a Series is associated with a unique label called an index. The index can be integer-based (default) or can consist of user-defined labels (e.g., strings, dates, or other hashable objects).\n"
   ]
  },
  {
   "cell_type": "markdown",
   "metadata": {},
   "source": [
    "Comparison with NumPy Arrays and Python Lists:\n",
    "\n",
    "NumPy Arrays:\n",
    "- Like NumPy arrays, Pandas Series are homogeneous, meaning they contain elements of the same data type.\n",
    "- Series objects are built on top of NumPy arrays and inherit many of their attributes and methods.\n",
    "- However, Series have additional functionality, such as an associated index for labeling and alignment, which is not present in NumPy arrays.\n",
    "\n",
    "Python Lists:\n",
    "- Unlike Python lists, Pandas Series are homogeneous and cannot contain elements of different data types.\n",
    "- Series objects are more memory-efficient and offer better performance for numerical computations compared to Python lists.\n",
    "- Series provide a wide range of built-in methods and functionalities specifically designed for data manipulation and analysis, which are not available in Python lists.\n"
   ]
  },
  {
   "cell_type": "markdown",
   "metadata": {},
   "source": [
    "In summary, Pandas Series are powerful one-dimensional data structures that combine the best features of NumPy arrays and Python lists, along with additional capabilities for data manipulation and analysis. They are a fundamental building block in the Pandas library and are widely used in data science and machine learning tasks."
   ]
  },
  {
   "cell_type": "markdown",
   "metadata": {},
   "source": [
    "**Table of contents**<a id='toc0_'></a>    \n",
    "- [Creating a Series](#toc1_)    \n",
    "  - [Creating a Series from a List, NumPy Array, or Dictionary](#toc1_1_)    \n",
    "  - [Specifying an Index when Creating a Series](#toc1_2_)    \n",
    "  - [Using the ‍`pd.Series()` Constructor](#toc1_3_)    \n",
    "- [Series Attributes](#toc2_)    \n",
    "  - [`dtype`: Data Type of the Series Elements](#toc2_1_)    \n",
    "  - [`shape`: Tuple of Series Dimensions](#toc2_2_)    \n",
    "  - [`size`: Number of Elements in the Series](#toc2_3_)    \n",
    "  - [`index`: Index Object of the Series](#toc2_4_)    \n",
    "  - [`values`: NumPy Array of Series Values](#toc2_5_)    \n",
    "- [Vectorized Operations and Label Alignment](#toc3_)    \n",
    "  - [Vectorized Operations](#toc3_1_)    \n",
    "  - [Label Alignment](#toc3_2_)    \n",
    "- [Common Series Methods](#toc4_)    \n",
    "  - [`head()` and `tail()`: Viewing the First or Last n Elements](#toc4_1_)    \n",
    "  - [`unique()`: Returning Unique Values in a Series](#toc4_2_)    \n",
    "  - [`value_counts()`: Counting Occurrences of Unique Values](#toc4_3_)    \n",
    "  - [`sort_values()`: Sorting a Series by Values](#toc4_4_)    \n",
    "  - [`sort_index()`: Sorting a Series by Index](#toc4_5_)    \n",
    "- [Conclusion](#toc5_)    \n",
    "\n",
    "<!-- vscode-jupyter-toc-config\n",
    "\tnumbering=false\n",
    "\tanchor=true\n",
    "\tflat=false\n",
    "\tminLevel=2\n",
    "\tmaxLevel=6\n",
    "\t/vscode-jupyter-toc-config -->\n",
    "<!-- THIS CELL WILL BE REPLACED ON TOC UPDATE. DO NOT WRITE YOUR TEXT IN THIS CELL -->"
   ]
  },
  {
   "cell_type": "markdown",
   "metadata": {},
   "source": [
    "## <a id='toc1_'></a>[Creating a Series](#toc0_)"
   ]
  },
  {
   "cell_type": "markdown",
   "metadata": {},
   "source": [
    "There are several ways to create a Pandas Series. The most common methods involve using a list, NumPy array, or dictionary. You can also specify an index when creating a Series to label each element. The `pd.Series()` constructor is used to create a Series object.\n"
   ]
  },
  {
   "cell_type": "markdown",
   "metadata": {},
   "source": [
    "### <a id='toc1_1_'></a>[Creating a Series from a List, NumPy Array, or Dictionary](#toc0_)\n"
   ]
  },
  {
   "cell_type": "markdown",
   "metadata": {},
   "source": [
    "1. **From a Python List**:\n",
    "You can create a Series by passing a Python list to the `pd.Series()` constructor.\n"
   ]
  },
  {
   "cell_type": "code",
   "execution_count": 1,
   "metadata": {},
   "outputs": [
    {
     "data": {
      "text/plain": [
       "0    1\n",
       "1    2\n",
       "2    3\n",
       "3    4\n",
       "4    5\n",
       "dtype: int64"
      ]
     },
     "execution_count": 1,
     "metadata": {},
     "output_type": "execute_result"
    }
   ],
   "source": [
    "import pandas as pd\n",
    "\n",
    "data = [1, 2, 3, 4, 5]\n",
    "series = pd.Series(data)\n",
    "series"
   ]
  },
  {
   "cell_type": "markdown",
   "metadata": {},
   "source": [
    "2. **From a NumPy Array**:\n",
    "You can create a Series by passing a NumPy array to the `pd.Series()` constructor.\n"
   ]
  },
  {
   "cell_type": "code",
   "execution_count": 2,
   "metadata": {},
   "outputs": [
    {
     "data": {
      "text/plain": [
       "0    1\n",
       "1    2\n",
       "2    3\n",
       "3    4\n",
       "4    5\n",
       "dtype: int64"
      ]
     },
     "execution_count": 2,
     "metadata": {},
     "output_type": "execute_result"
    }
   ],
   "source": [
    "import numpy as np\n",
    "\n",
    "data = np.array([1, 2, 3, 4, 5])\n",
    "series = pd.Series(data)\n",
    "series"
   ]
  },
  {
   "cell_type": "markdown",
   "metadata": {},
   "source": [
    "3. **From a Dictionary**:\n",
    "You can create a Series by passing a dictionary to the `pd.Series()` constructor. The keys of the dictionary become the index labels, and the values become the Series values.\n"
   ]
  },
  {
   "cell_type": "code",
   "execution_count": 3,
   "metadata": {},
   "outputs": [
    {
     "data": {
      "text/plain": [
       "a    1\n",
       "b    2\n",
       "c    3\n",
       "d    4\n",
       "e    5\n",
       "dtype: int64"
      ]
     },
     "execution_count": 3,
     "metadata": {},
     "output_type": "execute_result"
    }
   ],
   "source": [
    "data = {'a': 1, 'b': 2, 'c': 3, 'd': 4, 'e': 5}\n",
    "series = pd.Series(data)\n",
    "series"
   ]
  },
  {
   "cell_type": "markdown",
   "metadata": {},
   "source": [
    "### <a id='toc1_2_'></a>[Specifying an Index when Creating a Series](#toc0_)\n"
   ]
  },
  {
   "cell_type": "markdown",
   "metadata": {},
   "source": [
    "By default, the `pd.Series()` constructor assigns an integer index starting from 0. However, you can specify a custom index by passing an `index` parameter to the constructor.\n"
   ]
  },
  {
   "cell_type": "code",
   "execution_count": 4,
   "metadata": {},
   "outputs": [
    {
     "data": {
      "text/plain": [
       "a    1\n",
       "b    2\n",
       "c    3\n",
       "d    4\n",
       "e    5\n",
       "dtype: int64"
      ]
     },
     "execution_count": 4,
     "metadata": {},
     "output_type": "execute_result"
    }
   ],
   "source": [
    "data = [1, 2, 3, 4, 5]\n",
    "index = ['a', 'b', 'c', 'd', 'e']\n",
    "series = pd.Series(data, index=index)\n",
    "series"
   ]
  },
  {
   "cell_type": "markdown",
   "metadata": {},
   "source": [
    "### <a id='toc1_3_'></a>[Using the ‍`pd.Series()` Constructor](#toc0_)\n"
   ]
  },
  {
   "cell_type": "markdown",
   "metadata": {},
   "source": [
    "The `pd.Series()` constructor is the primary way to create a Series object. It accepts various data types as input, such as lists, NumPy arrays, dictionaries, and scalar values.\n"
   ]
  },
  {
   "cell_type": "markdown",
   "metadata": {},
   "source": [
    "The general syntax for creating a Series using the `pd.Series()` constructor is:\n",
    "\n",
    "```python\n",
    "pd.Series(data=None, index=None, dtype=None, name=None, copy=False, fastpath=False)\n",
    "```\n",
    "\n",
    "- `data`: The input data for the Series, which can be a list, NumPy array, dictionary, or scalar value.\n",
    "- `index`: (optional) The index labels for the Series. If not provided, an integer index starting from 0 is assigned.\n",
    "- `dtype`: (optional) The data type of the Series elements. If not provided, Pandas infers the data type automatically.\n",
    "- `name`: (optional) A name for the Series, which can be useful when combining multiple Series into a DataFrame.\n",
    "- `copy`: (optional) Whether to create a copy of the input data. By default, it is set to `False`.\n",
    "- `fastpath`: (optional) A performance optimization parameter, which is set to `False` by default.\n"
   ]
  },
  {
   "cell_type": "code",
   "execution_count": 5,
   "metadata": {},
   "outputs": [
    {
     "data": {
      "text/plain": [
       "a    1.0\n",
       "b    2.0\n",
       "c    3.0\n",
       "d    4.0\n",
       "e    5.0\n",
       "Name: example, dtype: float64"
      ]
     },
     "execution_count": 5,
     "metadata": {},
     "output_type": "execute_result"
    }
   ],
   "source": [
    "data = [1, 2, 3, 4, 5]\n",
    "index = ['a', 'b', 'c', 'd', 'e']\n",
    "series = pd.Series(data, index=index, name='example', dtype='float64')\n",
    "series"
   ]
  },
  {
   "cell_type": "markdown",
   "metadata": {},
   "source": [
    "*These are the fundamental ways to create a Pandas Series. By using the `pd.Series()` constructor and specifying the input data and optional parameters, you can easily create Series objects to store and manipulate one-dimensional labeled data.*"
   ]
  },
  {
   "cell_type": "markdown",
   "metadata": {},
   "source": [
    "## <a id='toc2_'></a>[Series Attributes](#toc0_)"
   ]
  },
  {
   "cell_type": "markdown",
   "metadata": {},
   "source": [
    "Pandas Series objects have several attributes that provide useful information about the Series. These attributes allow you to access the underlying data, index, and other properties of the Series. Let's explore some of the commonly used Series attributes.\n"
   ]
  },
  {
   "cell_type": "markdown",
   "metadata": {},
   "source": [
    "### <a id='toc2_1_'></a>[`dtype`: Data Type of the Series Elements](#toc0_)\n"
   ]
  },
  {
   "cell_type": "markdown",
   "metadata": {},
   "source": [
    "The `dtype` attribute returns the data type of the elements in the Series. It provides information about the type of data stored in the Series, such as integers, floats, strings, or custom data types.\n"
   ]
  },
  {
   "cell_type": "code",
   "execution_count": 6,
   "metadata": {},
   "outputs": [
    {
     "data": {
      "text/plain": [
       "dtype('int64')"
      ]
     },
     "execution_count": 6,
     "metadata": {},
     "output_type": "execute_result"
    }
   ],
   "source": [
    "data = [1, 2, 3, 4, 5]\n",
    "series = pd.Series(data)\n",
    "series.dtype\n"
   ]
  },
  {
   "cell_type": "markdown",
   "metadata": {},
   "source": [
    "In this example, the `dtype` attribute indicates that the Series contains integer values of type `int64`.\n"
   ]
  },
  {
   "cell_type": "markdown",
   "metadata": {},
   "source": [
    "### <a id='toc2_2_'></a>[`shape`: Tuple of Series Dimensions](#toc0_)\n"
   ]
  },
  {
   "cell_type": "markdown",
   "metadata": {},
   "source": [
    "The `shape` attribute returns a tuple representing the dimensions of the Series. For a one-dimensional Series, the `shape` attribute returns a tuple with a single element indicating the length of the Series.\n"
   ]
  },
  {
   "cell_type": "code",
   "execution_count": 7,
   "metadata": {},
   "outputs": [
    {
     "data": {
      "text/plain": [
       "(5,)"
      ]
     },
     "execution_count": 7,
     "metadata": {},
     "output_type": "execute_result"
    }
   ],
   "source": [
    "data = [1, 2, 3, 4, 5]\n",
    "series = pd.Series(data)\n",
    "series.shape"
   ]
  },
  {
   "cell_type": "markdown",
   "metadata": {},
   "source": [
    "The output `(5,)` indicates that the Series has a single dimension with a length of 5.\n"
   ]
  },
  {
   "cell_type": "markdown",
   "metadata": {},
   "source": [
    "### <a id='toc2_3_'></a>[`size`: Number of Elements in the Series](#toc0_)\n"
   ]
  },
  {
   "cell_type": "markdown",
   "metadata": {},
   "source": [
    "The `size` attribute returns the total number of elements in the Series. It represents the length of the Series.\n"
   ]
  },
  {
   "cell_type": "code",
   "execution_count": 8,
   "metadata": {},
   "outputs": [
    {
     "data": {
      "text/plain": [
       "5"
      ]
     },
     "execution_count": 8,
     "metadata": {},
     "output_type": "execute_result"
    }
   ],
   "source": [
    "data = [1, 2, 3, 4, 5]\n",
    "series = pd.Series(data)\n",
    "series.size"
   ]
  },
  {
   "cell_type": "markdown",
   "metadata": {},
   "source": [
    "In this example, the `size` attribute indicates that the Series contains 5 elements.\n"
   ]
  },
  {
   "cell_type": "markdown",
   "metadata": {},
   "source": [
    "### <a id='toc2_4_'></a>[`index`: Index Object of the Series](#toc0_)\n"
   ]
  },
  {
   "cell_type": "markdown",
   "metadata": {},
   "source": [
    "The `index` attribute returns the index object associated with the Series. The index object contains the labels or keys used to identify each element in the Series.\n"
   ]
  },
  {
   "cell_type": "code",
   "execution_count": 9,
   "metadata": {},
   "outputs": [
    {
     "data": {
      "text/plain": [
       "Index(['a', 'b', 'c', 'd', 'e'], dtype='object')"
      ]
     },
     "execution_count": 9,
     "metadata": {},
     "output_type": "execute_result"
    }
   ],
   "source": [
    "data = [1, 2, 3, 4, 5]\n",
    "index = ['a', 'b', 'c', 'd', 'e']\n",
    "series = pd.Series(data, index=index)\n",
    "series.index"
   ]
  },
  {
   "cell_type": "markdown",
   "metadata": {},
   "source": [
    "The output shows that the Series has an index object containing the labels 'a', 'b', 'c', 'd', and 'e'.\n"
   ]
  },
  {
   "cell_type": "markdown",
   "metadata": {},
   "source": [
    "### <a id='toc2_5_'></a>[`values`: NumPy Array of Series Values](#toc0_)"
   ]
  },
  {
   "cell_type": "markdown",
   "metadata": {},
   "source": [
    "The `values` attribute returns the underlying data of the Series as a NumPy array. It allows you to access the actual values stored in the Series.\n"
   ]
  },
  {
   "cell_type": "code",
   "execution_count": 10,
   "metadata": {},
   "outputs": [
    {
     "data": {
      "text/plain": [
       "array([1, 2, 3, 4, 5])"
      ]
     },
     "execution_count": 10,
     "metadata": {},
     "output_type": "execute_result"
    }
   ],
   "source": [
    "data = [1, 2, 3, 4, 5]\n",
    "series = pd.Series(data)\n",
    "series.values"
   ]
  },
  {
   "cell_type": "markdown",
   "metadata": {},
   "source": [
    "The output shows the values of the Series as a NumPy array.\n"
   ]
  },
  {
   "cell_type": "markdown",
   "metadata": {},
   "source": [
    "*These are some of the important attributes of a Pandas Series. By accessing these attributes, you can gain insights into the data type, dimensions, size, index, and underlying values of the Series. These attributes are useful for inspecting and understanding the structure and content of a Series object.*"
   ]
  },
  {
   "cell_type": "markdown",
   "metadata": {},
   "source": [
    "## <a id='toc3_'></a>[Vectorized Operations and Label Alignment](#toc0_)"
   ]
  },
  {
   "cell_type": "markdown",
   "metadata": {},
   "source": [
    "One of the powerful features of Pandas Series is the ability to perform vectorized operations, similar to NumPy arrays. Vectorized operations allow you to perform element-wise computations on the entire Series without the need for explicit looping. Additionally, Series objects automatically align data based on their labels during operations, providing flexibility and convenience in data manipulation.\n"
   ]
  },
  {
   "cell_type": "markdown",
   "metadata": {},
   "source": [
    "### <a id='toc3_1_'></a>[Vectorized Operations](#toc0_)\n"
   ]
  },
  {
   "cell_type": "markdown",
   "metadata": {},
   "source": [
    "Pandas Series support various vectorized operations, such as arithmetic operations, mathematical functions, and boolean operations. These operations are applied element-wise to the Series.\n"
   ]
  },
  {
   "cell_type": "code",
   "execution_count": 11,
   "metadata": {},
   "outputs": [],
   "source": [
    "data = [1, 2, 3, 4, 5]\n",
    "series = pd.Series(data)"
   ]
  },
  {
   "cell_type": "code",
   "execution_count": 12,
   "metadata": {},
   "outputs": [
    {
     "data": {
      "text/plain": [
       "0    3\n",
       "1    4\n",
       "2    5\n",
       "3    6\n",
       "4    7\n",
       "dtype: int64"
      ]
     },
     "execution_count": 12,
     "metadata": {},
     "output_type": "execute_result"
    }
   ],
   "source": [
    "# Arithmetic operations\n",
    "series + 2"
   ]
  },
  {
   "cell_type": "code",
   "execution_count": 13,
   "metadata": {},
   "outputs": [
    {
     "data": {
      "text/plain": [
       "0     3\n",
       "1     6\n",
       "2     9\n",
       "3    12\n",
       "4    15\n",
       "dtype: int64"
      ]
     },
     "execution_count": 13,
     "metadata": {},
     "output_type": "execute_result"
    }
   ],
   "source": [
    "series * 3"
   ]
  },
  {
   "cell_type": "code",
   "execution_count": 14,
   "metadata": {},
   "outputs": [
    {
     "data": {
      "text/plain": [
       "0     1\n",
       "1     4\n",
       "2     9\n",
       "3    16\n",
       "4    25\n",
       "dtype: int64"
      ]
     },
     "execution_count": 14,
     "metadata": {},
     "output_type": "execute_result"
    }
   ],
   "source": [
    "series ** 2"
   ]
  },
  {
   "cell_type": "code",
   "execution_count": 15,
   "metadata": {},
   "outputs": [
    {
     "data": {
      "text/plain": [
       "0    0.841471\n",
       "1    0.909297\n",
       "2    0.141120\n",
       "3   -0.756802\n",
       "4   -0.958924\n",
       "dtype: float64"
      ]
     },
     "execution_count": 15,
     "metadata": {},
     "output_type": "execute_result"
    }
   ],
   "source": [
    "# Mathematical functions\n",
    "np.sin(series)"
   ]
  },
  {
   "cell_type": "code",
   "execution_count": 16,
   "metadata": {},
   "outputs": [
    {
     "data": {
      "text/plain": [
       "0    0.000000\n",
       "1    0.693147\n",
       "2    1.098612\n",
       "3    1.386294\n",
       "4    1.609438\n",
       "dtype: float64"
      ]
     },
     "execution_count": 16,
     "metadata": {},
     "output_type": "execute_result"
    }
   ],
   "source": [
    "np.log(series)"
   ]
  },
  {
   "cell_type": "code",
   "execution_count": 17,
   "metadata": {},
   "outputs": [
    {
     "data": {
      "text/plain": [
       "0    False\n",
       "1    False\n",
       "2    False\n",
       "3     True\n",
       "4     True\n",
       "dtype: bool"
      ]
     },
     "execution_count": 17,
     "metadata": {},
     "output_type": "execute_result"
    }
   ],
   "source": [
    "# Boolean operations\n",
    "series > 3"
   ]
  },
  {
   "cell_type": "code",
   "execution_count": 18,
   "metadata": {},
   "outputs": [
    {
     "data": {
      "text/plain": [
       "0    False\n",
       "1    False\n",
       "2    False\n",
       "3     True\n",
       "4    False\n",
       "dtype: bool"
      ]
     },
     "execution_count": 18,
     "metadata": {},
     "output_type": "execute_result"
    }
   ],
   "source": [
    "series == 4"
   ]
  },
  {
   "cell_type": "markdown",
   "metadata": {},
   "source": [
    "In the above examples, the arithmetic operations (`+`, `*`, `**`) are applied element-wise to the Series, returning a new Series with the results. Similarly, mathematical functions from NumPy, such as `sin()` and `log()`, can be directly applied to the Series, computing the respective function for each element.\n"
   ]
  },
  {
   "cell_type": "markdown",
   "metadata": {},
   "source": [
    "Boolean operations, such as comparisons (`>`, `==`), return a new Series with boolean values indicating the result of the comparison for each element.\n"
   ]
  },
  {
   "cell_type": "markdown",
   "metadata": {},
   "source": [
    "### <a id='toc3_2_'></a>[Label Alignment](#toc0_)\n"
   ]
  },
  {
   "cell_type": "markdown",
   "metadata": {},
   "source": [
    "When performing operations between two Series objects, Pandas automatically aligns the data based on their labels. This means that the operation is performed on the corresponding elements with the same label, regardless of their position in the Series.\n"
   ]
  },
  {
   "cell_type": "code",
   "execution_count": 19,
   "metadata": {},
   "outputs": [
    {
     "data": {
      "text/plain": [
       "a    NaN\n",
       "b    6.0\n",
       "c    8.0\n",
       "d    NaN\n",
       "dtype: float64"
      ]
     },
     "execution_count": 19,
     "metadata": {},
     "output_type": "execute_result"
    }
   ],
   "source": [
    "series1 = pd.Series([1, 2, 3], index=['a', 'b', 'c'])\n",
    "series2 = pd.Series([4, 5, 6], index=['b', 'c', 'd'])\n",
    "\n",
    "series1 + series2"
   ]
  },
  {
   "cell_type": "markdown",
   "metadata": {},
   "source": [
    "In this example, `series1` and `series2` have different indexes. When adding these Series together, Pandas aligns the data based on the common labels ('b' and 'c') and performs the addition operation. The resulting Series will have the union of the indexes from both Series.\n"
   ]
  },
  {
   "cell_type": "markdown",
   "metadata": {},
   "source": [
    "For labels that are present in one Series but not the other, the result will be marked as missing (`NaN`).\n"
   ]
  },
  {
   "cell_type": "markdown",
   "metadata": {},
   "source": [
    "Label alignment is a powerful feature that allows you to perform operations on Series objects without explicitly aligning the data beforehand. It simplifies the process of working with labeled data and reduces the need for manual data alignment.\n"
   ]
  },
  {
   "cell_type": "markdown",
   "metadata": {},
   "source": [
    "*Vectorized operations and label alignment in Pandas Series provide a concise and efficient way to perform computations on labeled data. These features, along with the ability to handle missing data, set Pandas apart from other tools for working with labeled data, making it a valuable library for data manipulation and analysis.*"
   ]
  },
  {
   "cell_type": "markdown",
   "metadata": {},
   "source": [
    "## <a id='toc4_'></a>[Common Series Methods](#toc0_)"
   ]
  },
  {
   "cell_type": "markdown",
   "metadata": {},
   "source": [
    "Pandas Series provide a wide range of built-in methods for data manipulation and analysis. These methods allow you to perform common operations on Series objects efficiently. Let's explore some of the frequently used Series methods.\n"
   ]
  },
  {
   "cell_type": "markdown",
   "metadata": {},
   "source": [
    "### <a id='toc4_1_'></a>[`head()` and `tail()`: Viewing the First or Last n Elements](#toc0_)\n"
   ]
  },
  {
   "cell_type": "markdown",
   "metadata": {},
   "source": [
    "The `head()` and `tail()` methods allow you to view the first or last `n` elements of a Series, respectively. By default, these methods return the first or last 5 elements.\n"
   ]
  },
  {
   "cell_type": "code",
   "execution_count": 20,
   "metadata": {},
   "outputs": [
    {
     "data": {
      "text/plain": [
       "0    1\n",
       "1    2\n",
       "2    3\n",
       "3    4\n",
       "4    5\n",
       "dtype: int64"
      ]
     },
     "execution_count": 20,
     "metadata": {},
     "output_type": "execute_result"
    }
   ],
   "source": [
    "data = [1, 2, 3, 4, 5, 6, 7, 8, 9, 10]\n",
    "series = pd.Series(data)\n",
    "\n",
    "series.head()  # First 5 elements"
   ]
  },
  {
   "cell_type": "code",
   "execution_count": 21,
   "metadata": {},
   "outputs": [
    {
     "data": {
      "text/plain": [
       "7     8\n",
       "8     9\n",
       "9    10\n",
       "dtype: int64"
      ]
     },
     "execution_count": 21,
     "metadata": {},
     "output_type": "execute_result"
    }
   ],
   "source": [
    "series.tail(3)  # Last 3 elements"
   ]
  },
  {
   "cell_type": "markdown",
   "metadata": {},
   "source": [
    "### <a id='toc4_2_'></a>[`unique()`: Returning Unique Values in a Series](#toc0_)\n"
   ]
  },
  {
   "cell_type": "markdown",
   "metadata": {},
   "source": [
    "The `unique()` method returns an array of unique values in the Series, eliminating any duplicates.\n"
   ]
  },
  {
   "cell_type": "code",
   "execution_count": 22,
   "metadata": {},
   "outputs": [
    {
     "data": {
      "text/plain": [
       "array([1, 2, 3, 4])"
      ]
     },
     "execution_count": 22,
     "metadata": {},
     "output_type": "execute_result"
    }
   ],
   "source": [
    "data = [1, 2, 2, 3, 3, 3, 4, 4, 4, 4]\n",
    "series = pd.Series(data)\n",
    "\n",
    "series.unique()"
   ]
  },
  {
   "cell_type": "markdown",
   "metadata": {},
   "source": [
    "### <a id='toc4_3_'></a>[`value_counts()`: Counting Occurrences of Unique Values](#toc0_)\n"
   ]
  },
  {
   "cell_type": "markdown",
   "metadata": {},
   "source": [
    "The `value_counts()` method returns a Series containing the counts of each unique value in the original Series. It provides a convenient way to calculate the frequency of each value.\n"
   ]
  },
  {
   "cell_type": "code",
   "execution_count": 23,
   "metadata": {},
   "outputs": [
    {
     "data": {
      "text/plain": [
       "4    4\n",
       "3    3\n",
       "2    2\n",
       "1    1\n",
       "Name: count, dtype: int64"
      ]
     },
     "execution_count": 23,
     "metadata": {},
     "output_type": "execute_result"
    }
   ],
   "source": [
    "data = [1, 2, 2, 3, 3, 3, 4, 4, 4, 4]\n",
    "series = pd.Series(data)\n",
    "\n",
    "series.value_counts()"
   ]
  },
  {
   "cell_type": "markdown",
   "metadata": {},
   "source": [
    "### <a id='toc4_4_'></a>[`sort_values()`: Sorting a Series by Values](#toc0_)\n"
   ]
  },
  {
   "cell_type": "markdown",
   "metadata": {},
   "source": [
    "The `sort_values()` method sorts the Series by its values in ascending or descending order. By default, it sorts the values in ascending order.\n"
   ]
  },
  {
   "cell_type": "code",
   "execution_count": 24,
   "metadata": {},
   "outputs": [
    {
     "data": {
      "text/plain": [
       "3    1\n",
       "1    2\n",
       "0    4\n",
       "5    5\n",
       "2    8\n",
       "4    9\n",
       "dtype: int64"
      ]
     },
     "execution_count": 24,
     "metadata": {},
     "output_type": "execute_result"
    }
   ],
   "source": [
    "data = [4, 2, 8, 1, 9, 5]\n",
    "series = pd.Series(data)\n",
    "\n",
    "series.sort_values()"
   ]
  },
  {
   "cell_type": "code",
   "execution_count": 25,
   "metadata": {},
   "outputs": [
    {
     "data": {
      "text/plain": [
       "4    9\n",
       "2    8\n",
       "5    5\n",
       "0    4\n",
       "1    2\n",
       "3    1\n",
       "dtype: int64"
      ]
     },
     "execution_count": 25,
     "metadata": {},
     "output_type": "execute_result"
    }
   ],
   "source": [
    "series.sort_values(ascending=False)"
   ]
  },
  {
   "cell_type": "markdown",
   "metadata": {},
   "source": [
    "To sort the values in descending order, you can pass the parameter `ascending=False` to the `sort_values()` method.\n"
   ]
  },
  {
   "cell_type": "markdown",
   "metadata": {},
   "source": [
    "### <a id='toc4_5_'></a>[`sort_index()`: Sorting a Series by Index](#toc0_)\n"
   ]
  },
  {
   "cell_type": "markdown",
   "metadata": {},
   "source": [
    "The `sort_index()` method sorts the Series by its index labels in ascending or descending order. By default, it sorts the index labels in ascending order.\n"
   ]
  },
  {
   "cell_type": "code",
   "execution_count": 26,
   "metadata": {},
   "outputs": [
    {
     "data": {
      "text/plain": [
       "a    8\n",
       "b    4\n",
       "c    9\n",
       "d    2\n",
       "e    1\n",
       "f    5\n",
       "dtype: int64"
      ]
     },
     "execution_count": 26,
     "metadata": {},
     "output_type": "execute_result"
    }
   ],
   "source": [
    "data = [4, 2, 8, 1, 9, 5]\n",
    "index = ['b', 'd', 'a', 'e', 'c', 'f']\n",
    "series = pd.Series(data, index=index)\n",
    "\n",
    "series.sort_index()"
   ]
  },
  {
   "cell_type": "markdown",
   "metadata": {},
   "source": [
    "To sort the index labels in descending order, you can pass the parameter `ascending=False` to the `sort_index()` method.\n"
   ]
  },
  {
   "cell_type": "markdown",
   "metadata": {},
   "source": [
    "*These are just a few examples of the common methods available for Pandas Series. Pandas provides a rich set of methods for data manipulation, analysis, and visualization. By leveraging these methods, you can efficiently perform various operations on Series objects and extract meaningful insights from your data.*"
   ]
  },
  {
   "cell_type": "markdown",
   "metadata": {},
   "source": [
    "## <a id='toc5_'></a>[Conclusion](#toc0_)"
   ]
  },
  {
   "cell_type": "markdown",
   "metadata": {},
   "source": [
    "In this lecture, we explored the fundamentals of Pandas Series, a powerful one-dimensional data structure in the Pandas library. We learned that Series are similar to NumPy arrays but with additional functionalities and flexibility.\n"
   ]
  },
  {
   "cell_type": "markdown",
   "metadata": {},
   "source": [
    "We covered the key characteristics of Series, including their homogeneous nature, mutability, size immutability, and labeled index. We also compared Series with NumPy arrays and Python lists, highlighting the advantages of using Series for data manipulation and analysis.\n"
   ]
  },
  {
   "cell_type": "markdown",
   "metadata": {},
   "source": [
    "We discussed various ways to create a Series, such as from a Python list, NumPy array, or dictionary, and how to specify custom index labels. We explored the `pd.Series()` constructor and its parameters for creating Series objects.\n"
   ]
  },
  {
   "cell_type": "markdown",
   "metadata": {},
   "source": [
    "We dived into the important attributes of Series, including `dtype` for accessing the data type, `shape` for getting the dimensions, `size` for obtaining the number of elements, `index` for retrieving the index object, and `values` for accessing the underlying data as a NumPy array.\n"
   ]
  },
  {
   "cell_type": "markdown",
   "metadata": {},
   "source": [
    "We learned about vectorized operations in Series, which allow for efficient element-wise computations without explicit looping. We also explored the concept of label alignment, where Pandas automatically aligns data based on their labels during operations, providing flexibility and convenience.\n"
   ]
  },
  {
   "cell_type": "markdown",
   "metadata": {},
   "source": [
    "Lastly, we explored some common Series methods, such as `head()` and `tail()` for viewing the first or last `n` elements, `unique()` for returning unique values, `value_counts()` for counting occurrences of unique values, `sort_values()` for sorting Series by values, and `sort_index()` for sorting Series by index labels.\n"
   ]
  },
  {
   "cell_type": "markdown",
   "metadata": {},
   "source": [
    "Throughout this lecture, we provided code examples and explanations to illustrate the concepts and techniques related to Pandas Series. We emphasized the importance of understanding Series as a fundamental building block in the Pandas library for data manipulation and analysis.\n"
   ]
  },
  {
   "cell_type": "markdown",
   "metadata": {},
   "source": [
    "As we continue our journey in the Pandas Fundamentals chapter, we will build upon this knowledge of Series and explore more advanced topics, such as data indexing, selection, and manipulation using Pandas DataFrames.\n"
   ]
  },
  {
   "cell_type": "markdown",
   "metadata": {},
   "source": [
    "By mastering the concepts and techniques covered in this lecture, you will be well-equipped to work with Pandas Series effectively and leverage their capabilities in your data analysis and machine learning projects."
   ]
  }
 ],
 "metadata": {
  "kernelspec": {
   "display_name": "py310",
   "language": "python",
   "name": "python3"
  },
  "language_info": {
   "codemirror_mode": {
    "name": "ipython",
    "version": 3
   },
   "file_extension": ".py",
   "mimetype": "text/x-python",
   "name": "python",
   "nbconvert_exporter": "python",
   "pygments_lexer": "ipython3",
   "version": "3.10.12"
  }
 },
 "nbformat": 4,
 "nbformat_minor": 2
}
